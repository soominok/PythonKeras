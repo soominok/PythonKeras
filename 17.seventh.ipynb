{
 "cells": [
  {
   "cell_type": "code",
   "execution_count": 1,
   "metadata": {},
   "outputs": [],
   "source": [
    "# 9장 "
   ]
  },
  {
   "cell_type": "code",
   "execution_count": null,
   "metadata": {},
   "outputs": [],
   "source": [
    "# 인공지능 베이스 - 디지털 선호 처리\n",
    "\n",
    "# 디지털 필터의 2가지 (어떤 개념을 적용하더라도 이 2가지 개념을 벗어날 수 없음)\n",
    "# CNN - FIR 필터 (이전의 값에 영향 받지 않음) ->> 주가 분석 뿐만 아니라 음성 분석도 가능\n",
    "# RNN, LSTM - IIR 필터 (이전 값이 현재 결과에 영향을 줌) ->> 주가 분석 뿐만 아니라 음성 분석도 가능\n",
    "# 보통 이 2개 섞어서 씀!\n",
    "\n",
    "# 피드백(IIR만 피드백 됨)을 준다는 개념은 특정값을 찾아 수렴시키는 것이라 보면 된다.\n",
    "# 커드쿼터, 텍(헥)사쿼터 만든다고 하면 제일 중요한 것이 균형 맞추는 것!\n",
    "# 특정값을 찾아 수렴시키는 것 ( = 헬기의 균형을 찾는 것과 같은 의미)\n",
    "# 어떤 특정 위치에서 고정이 되어 있어야 함.\n",
    "# 하지만, 센서데이터는 고정되어 있지 않으니까!!\n",
    "\n",
    "# 주가에서는 이전에 어떤 이벤트, 영향이 있었나의 영향을 받음!! (현재의 결과에 영향이 있음!)\n",
    "# 주식쪽으로 마이크로 펀딩 하고 싶다면 => FPGA 필요!!! (실시간으로 하드웨어 가속하기 위한 장치)\n",
    "\n",
    "# 피드백을 주면서 노이즈가 끼게 됨.\n",
    "# 노이즈가 끼게 되면서 안정적으로 센서 데이터를 받을 수 있는 것이 IIR임!\n",
    "# 현재는 이름이 RNN, LTSM으로 많이 쓰고 있지만, 결국은 IIR 필터와 같음."
   ]
  },
  {
   "cell_type": "code",
   "execution_count": null,
   "metadata": {},
   "outputs": [],
   "source": [
    "# y(u, x) => ∂y/∂u 혹은 "
   ]
  },
  {
   "cell_type": "code",
   "execution_count": 1,
   "metadata": {},
   "outputs": [],
   "source": [
    "import numpy as np\n",
    "import matplotlib.pyplot as plt\n",
    "import pandas as pd"
   ]
  },
  {
   "cell_type": "code",
   "execution_count": 2,
   "metadata": {},
   "outputs": [
    {
     "name": "stdout",
     "output_type": "stream",
     "text": [
      "AAPL_test.csv\t  Activity18.ipynb  Exercise28.ipynb\r\n",
      "AAPL_train.csv\t  Activity19.ipynb  MSFT_test.csv\r\n",
      "Activity17.ipynb  Exercise27.ipynb  MSFT_train.csv\r\n"
     ]
    }
   ],
   "source": [
    "!ls Applied-Deep-Learning-with-Keras/Lesson09"
   ]
  },
  {
   "cell_type": "code",
   "execution_count": 3,
   "metadata": {},
   "outputs": [
    {
     "data": {
      "text/html": [
       "<div>\n",
       "<style scoped>\n",
       "    .dataframe tbody tr th:only-of-type {\n",
       "        vertical-align: middle;\n",
       "    }\n",
       "\n",
       "    .dataframe tbody tr th {\n",
       "        vertical-align: top;\n",
       "    }\n",
       "\n",
       "    .dataframe thead th {\n",
       "        text-align: right;\n",
       "    }\n",
       "</style>\n",
       "<table border=\"1\" class=\"dataframe\">\n",
       "  <thead>\n",
       "    <tr style=\"text-align: right;\">\n",
       "      <th></th>\n",
       "      <th>Date</th>\n",
       "      <th>Open</th>\n",
       "      <th>High</th>\n",
       "      <th>Low</th>\n",
       "      <th>Close</th>\n",
       "      <th>Adj Close</th>\n",
       "      <th>Volume</th>\n",
       "    </tr>\n",
       "  </thead>\n",
       "  <tbody>\n",
       "    <tr>\n",
       "      <th>0</th>\n",
       "      <td>02-01-2014</td>\n",
       "      <td>79.382858</td>\n",
       "      <td>79.575714</td>\n",
       "      <td>78.860001</td>\n",
       "      <td>79.018570</td>\n",
       "      <td>66.964325</td>\n",
       "      <td>58671200</td>\n",
       "    </tr>\n",
       "    <tr>\n",
       "      <th>1</th>\n",
       "      <td>03-01-2014</td>\n",
       "      <td>78.980003</td>\n",
       "      <td>79.099998</td>\n",
       "      <td>77.204285</td>\n",
       "      <td>77.282860</td>\n",
       "      <td>65.493416</td>\n",
       "      <td>98116900</td>\n",
       "    </tr>\n",
       "    <tr>\n",
       "      <th>2</th>\n",
       "      <td>06-01-2014</td>\n",
       "      <td>76.778572</td>\n",
       "      <td>78.114288</td>\n",
       "      <td>76.228569</td>\n",
       "      <td>77.704285</td>\n",
       "      <td>65.850533</td>\n",
       "      <td>103152700</td>\n",
       "    </tr>\n",
       "    <tr>\n",
       "      <th>3</th>\n",
       "      <td>07-01-2014</td>\n",
       "      <td>77.760002</td>\n",
       "      <td>77.994286</td>\n",
       "      <td>76.845711</td>\n",
       "      <td>77.148575</td>\n",
       "      <td>65.379593</td>\n",
       "      <td>79302300</td>\n",
       "    </tr>\n",
       "    <tr>\n",
       "      <th>4</th>\n",
       "      <td>08-01-2014</td>\n",
       "      <td>76.972855</td>\n",
       "      <td>77.937141</td>\n",
       "      <td>76.955711</td>\n",
       "      <td>77.637146</td>\n",
       "      <td>65.793633</td>\n",
       "      <td>64632400</td>\n",
       "    </tr>\n",
       "  </tbody>\n",
       "</table>\n",
       "</div>"
      ],
      "text/plain": [
       "         Date       Open       High        Low      Close  Adj Close  \\\n",
       "0  02-01-2014  79.382858  79.575714  78.860001  79.018570  66.964325   \n",
       "1  03-01-2014  78.980003  79.099998  77.204285  77.282860  65.493416   \n",
       "2  06-01-2014  76.778572  78.114288  76.228569  77.704285  65.850533   \n",
       "3  07-01-2014  77.760002  77.994286  76.845711  77.148575  65.379593   \n",
       "4  08-01-2014  76.972855  77.937141  76.955711  77.637146  65.793633   \n",
       "\n",
       "      Volume  \n",
       "0   58671200  \n",
       "1   98116900  \n",
       "2  103152700  \n",
       "3   79302300  \n",
       "4   64632400  "
      ]
     },
     "execution_count": 3,
     "metadata": {},
     "output_type": "execute_result"
    }
   ],
   "source": [
    "trainSet = pd.read_csv(\"Applied-Deep-Learning-with-Keras/Lesson09/AAPL_train.csv\")\n",
    "trainSet.head()"
   ]
  },
  {
   "cell_type": "code",
   "execution_count": 4,
   "metadata": {},
   "outputs": [
    {
     "data": {
      "text/plain": [
       "array([[ 79.382858],\n",
       "       [ 78.980003],\n",
       "       [ 76.778572],\n",
       "       ...,\n",
       "       [155.839996],\n",
       "       [157.5     ],\n",
       "       [158.529999]])"
      ]
     },
     "execution_count": 4,
     "metadata": {},
     "output_type": "execute_result"
    }
   ],
   "source": [
    "trainSet = trainSet.iloc[:, 1:2].values\n",
    "trainSet"
   ]
  },
  {
   "cell_type": "code",
   "execution_count": 6,
   "metadata": {},
   "outputs": [],
   "source": [
    "from sklearn.preprocessing import MinMaxScaler"
   ]
  },
  {
   "cell_type": "code",
   "execution_count": 7,
   "metadata": {},
   "outputs": [
    {
     "data": {
      "text/plain": [
       "array([[0.05400437],\n",
       "       [0.05148716],\n",
       "       [0.03773165],\n",
       "       ...,\n",
       "       [0.53174205],\n",
       "       [0.54211448],\n",
       "       [0.54855037]])"
      ]
     },
     "execution_count": 7,
     "metadata": {},
     "output_type": "execute_result"
    }
   ],
   "source": [
    "sc = MinMaxScaler(feature_range = (0, 1))\n",
    "trainSetScaled = sc.fit_transform(trainSet)\n",
    "trainSetScaled"
   ]
  },
  {
   "cell_type": "code",
   "execution_count": 9,
   "metadata": {},
   "outputs": [],
   "source": [
    "X_train = []\n",
    "y_train = []\n",
    "\n",
    "for i in range(60, 1258):\n",
    "    X_train.append(trainSetScaled[i - 60:i, 0])\n",
    "    y_train.append(trainSetScaled[i, 0])\n",
    "    \n",
    "X_train = np.array(X_train)\n",
    "y_train = np.array(y_train)"
   ]
  },
  {
   "cell_type": "code",
   "execution_count": 11,
   "metadata": {},
   "outputs": [
    {
     "data": {
      "text/plain": [
       "array([[[0.05400437],\n",
       "        [0.05148716],\n",
       "        [0.03773165],\n",
       "        ...,\n",
       "        [0.04582785],\n",
       "        [0.04002572],\n",
       "        [0.03850823]],\n",
       "\n",
       "       [[0.05148716],\n",
       "        [0.03773165],\n",
       "        [0.04386406],\n",
       "        ...,\n",
       "        [0.04002572],\n",
       "        [0.03850823],\n",
       "        [0.03932056]],\n",
       "\n",
       "       [[0.03773165],\n",
       "        [0.04386406],\n",
       "        [0.03894562],\n",
       "        ...,\n",
       "        [0.03850823],\n",
       "        [0.03932056],\n",
       "        [0.03800839]],\n",
       "\n",
       "       ...,\n",
       "\n",
       "       [[0.98231691],\n",
       "        [0.97794302],\n",
       "        [0.99543867],\n",
       "        ...,\n",
       "        [0.53811549],\n",
       "        [0.48369155],\n",
       "        [0.48462887]],\n",
       "\n",
       "       [[0.97794302],\n",
       "        [0.99543867],\n",
       "        [1.        ],\n",
       "        ...,\n",
       "        [0.48369155],\n",
       "        [0.48462887],\n",
       "        [0.53174205]],\n",
       "\n",
       "       [[0.99543867],\n",
       "        [1.        ],\n",
       "        [0.98237946],\n",
       "        ...,\n",
       "        [0.48462887],\n",
       "        [0.53174205],\n",
       "        [0.54211448]]])"
      ]
     },
     "execution_count": 11,
     "metadata": {},
     "output_type": "execute_result"
    }
   ],
   "source": [
    "X_train = np.reshape(X_train, (X_train.shape[0], X_train.shape[1], 1))\n",
    "X_train"
   ]
  },
  {
   "cell_type": "code",
   "execution_count": 12,
   "metadata": {},
   "outputs": [],
   "source": [
    "from keras.models import Sequential\n",
    "from keras.layers import Dense, LSTM, Dropout"
   ]
  },
  {
   "cell_type": "code",
   "execution_count": 14,
   "metadata": {},
   "outputs": [],
   "source": [
    "model = Sequential()\n",
    "\n",
    "model.add(LSTM(50, return_sequences = True, input_shape = (X_train.shape[1], 1)))\n",
    "model.add(LSTM(50, return_sequences = True))\n",
    "model.add(LSTM(50, return_sequences = True))\n",
    "model.add(LSTM(50))\n",
    "model.add(Dense(1))\n"
   ]
  },
  {
   "cell_type": "code",
   "execution_count": 15,
   "metadata": {},
   "outputs": [
    {
     "name": "stdout",
     "output_type": "stream",
     "text": [
      "Epoch 1/100\n",
      "38/38 [==============================] - 2s 47ms/step - loss: 0.0256\n",
      "Epoch 2/100\n",
      "38/38 [==============================] - 2s 44ms/step - loss: 0.0026\n",
      "Epoch 3/100\n",
      "38/38 [==============================] - 2s 43ms/step - loss: 0.0022\n",
      "Epoch 4/100\n",
      "38/38 [==============================] - 2s 44ms/step - loss: 0.0024\n",
      "Epoch 5/100\n",
      "38/38 [==============================] - 2s 43ms/step - loss: 0.0017\n",
      "Epoch 6/100\n",
      "38/38 [==============================] - 2s 43ms/step - loss: 0.0023\n",
      "Epoch 7/100\n",
      "38/38 [==============================] - 2s 42ms/step - loss: 0.0016\n",
      "Epoch 8/100\n",
      "38/38 [==============================] - 2s 44ms/step - loss: 0.0014\n",
      "Epoch 9/100\n",
      "38/38 [==============================] - 2s 43ms/step - loss: 0.0014\n",
      "Epoch 10/100\n",
      "38/38 [==============================] - 2s 43ms/step - loss: 0.0015\n",
      "Epoch 11/100\n",
      "38/38 [==============================] - 2s 44ms/step - loss: 0.0013\n",
      "Epoch 12/100\n",
      "38/38 [==============================] - 2s 43ms/step - loss: 0.0014\n",
      "Epoch 13/100\n",
      "38/38 [==============================] - 2s 43ms/step - loss: 0.0011\n",
      "Epoch 14/100\n",
      "38/38 [==============================] - 2s 44ms/step - loss: 0.0013\n",
      "Epoch 15/100\n",
      "38/38 [==============================] - 2s 43ms/step - loss: 0.0014\n",
      "Epoch 16/100\n",
      "38/38 [==============================] - 2s 42ms/step - loss: 0.0012\n",
      "Epoch 17/100\n",
      "38/38 [==============================] - 2s 44ms/step - loss: 0.0011\n",
      "Epoch 18/100\n",
      "38/38 [==============================] - 2s 43ms/step - loss: 0.0012\n",
      "Epoch 19/100\n",
      "38/38 [==============================] - 2s 43ms/step - loss: 0.0011\n",
      "Epoch 20/100\n",
      "38/38 [==============================] - 2s 42ms/step - loss: 9.5113e-04\n",
      "Epoch 21/100\n",
      "38/38 [==============================] - 2s 43ms/step - loss: 0.0012\n",
      "Epoch 22/100\n",
      "38/38 [==============================] - 2s 43ms/step - loss: 9.2639e-04\n",
      "Epoch 23/100\n",
      "38/38 [==============================] - 2s 43ms/step - loss: 8.8534e-04\n",
      "Epoch 24/100\n",
      "38/38 [==============================] - 2s 43ms/step - loss: 8.5080e-04\n",
      "Epoch 25/100\n",
      "38/38 [==============================] - 2s 43ms/step - loss: 9.5115e-04\n",
      "Epoch 26/100\n",
      "38/38 [==============================] - 2s 43ms/step - loss: 8.3763e-04\n",
      "Epoch 27/100\n",
      "38/38 [==============================] - 2s 42ms/step - loss: 8.4190e-04\n",
      "Epoch 28/100\n",
      "38/38 [==============================] - 2s 43ms/step - loss: 7.1672e-04\n",
      "Epoch 29/100\n",
      "38/38 [==============================] - 2s 42ms/step - loss: 7.7855e-04\n",
      "Epoch 30/100\n",
      "38/38 [==============================] - 2s 42ms/step - loss: 7.5745e-04\n",
      "Epoch 31/100\n",
      "38/38 [==============================] - 2s 42ms/step - loss: 8.9896e-04\n",
      "Epoch 32/100\n",
      "38/38 [==============================] - 2s 43ms/step - loss: 8.3853e-04\n",
      "Epoch 33/100\n",
      "38/38 [==============================] - 2s 42ms/step - loss: 6.1183e-04\n",
      "Epoch 34/100\n",
      "38/38 [==============================] - 2s 43ms/step - loss: 7.1877e-04\n",
      "Epoch 35/100\n",
      "38/38 [==============================] - 2s 42ms/step - loss: 6.4016e-04\n",
      "Epoch 36/100\n",
      "38/38 [==============================] - 2s 41ms/step - loss: 5.4692e-04\n",
      "Epoch 37/100\n",
      "38/38 [==============================] - 2s 41ms/step - loss: 5.9343e-04\n",
      "Epoch 38/100\n",
      "38/38 [==============================] - 2s 42ms/step - loss: 7.4300e-04\n",
      "Epoch 39/100\n",
      "38/38 [==============================] - 2s 42ms/step - loss: 4.8582e-04\n",
      "Epoch 40/100\n",
      "38/38 [==============================] - 2s 42ms/step - loss: 6.2623e-04\n",
      "Epoch 41/100\n",
      "38/38 [==============================] - 2s 42ms/step - loss: 4.7467e-04\n",
      "Epoch 42/100\n",
      "38/38 [==============================] - 2s 42ms/step - loss: 4.2558e-04\n",
      "Epoch 43/100\n",
      "38/38 [==============================] - 2s 42ms/step - loss: 4.2738e-04\n",
      "Epoch 44/100\n",
      "38/38 [==============================] - 2s 42ms/step - loss: 3.8924e-04\n",
      "Epoch 45/100\n",
      "38/38 [==============================] - 2s 43ms/step - loss: 4.2792e-04\n",
      "Epoch 46/100\n",
      "38/38 [==============================] - 2s 42ms/step - loss: 5.9424e-04\n",
      "Epoch 47/100\n",
      "38/38 [==============================] - 2s 42ms/step - loss: 4.0644e-04\n",
      "Epoch 48/100\n",
      "38/38 [==============================] - 2s 42ms/step - loss: 3.5182e-04\n",
      "Epoch 49/100\n",
      "38/38 [==============================] - 2s 42ms/step - loss: 4.2352e-04\n",
      "Epoch 50/100\n",
      "38/38 [==============================] - 2s 43ms/step - loss: 4.3402e-04\n",
      "Epoch 51/100\n",
      "38/38 [==============================] - 2s 42ms/step - loss: 3.4162e-04\n",
      "Epoch 52/100\n",
      "38/38 [==============================] - 2s 42ms/step - loss: 3.7432e-04\n",
      "Epoch 53/100\n",
      "38/38 [==============================] - 2s 42ms/step - loss: 3.2794e-04\n",
      "Epoch 54/100\n",
      "38/38 [==============================] - 2s 42ms/step - loss: 3.2622e-04\n",
      "Epoch 55/100\n",
      "38/38 [==============================] - 2s 42ms/step - loss: 2.9660e-04\n",
      "Epoch 56/100\n",
      "38/38 [==============================] - 2s 42ms/step - loss: 3.0392e-04\n",
      "Epoch 57/100\n",
      "38/38 [==============================] - 2s 42ms/step - loss: 2.8404e-04\n",
      "Epoch 58/100\n",
      "38/38 [==============================] - 2s 42ms/step - loss: 4.5644e-04\n",
      "Epoch 59/100\n",
      "38/38 [==============================] - 2s 42ms/step - loss: 2.9156e-04\n",
      "Epoch 60/100\n",
      "38/38 [==============================] - 2s 42ms/step - loss: 2.7415e-04\n",
      "Epoch 61/100\n",
      "38/38 [==============================] - 2s 42ms/step - loss: 3.2179e-04\n",
      "Epoch 62/100\n",
      "38/38 [==============================] - 2s 43ms/step - loss: 2.9664e-04\n",
      "Epoch 63/100\n",
      "38/38 [==============================] - 2s 42ms/step - loss: 2.6184e-04\n",
      "Epoch 64/100\n",
      "38/38 [==============================] - 2s 42ms/step - loss: 3.2207e-04\n",
      "Epoch 65/100\n",
      "38/38 [==============================] - 2s 43ms/step - loss: 2.8932e-04\n",
      "Epoch 66/100\n",
      "38/38 [==============================] - 2s 42ms/step - loss: 3.8806e-04\n",
      "Epoch 67/100\n",
      "38/38 [==============================] - 2s 42ms/step - loss: 4.4502e-04\n",
      "Epoch 68/100\n",
      "38/38 [==============================] - 2s 43ms/step - loss: 2.6415e-04\n",
      "Epoch 69/100\n",
      "38/38 [==============================] - 2s 42ms/step - loss: 2.7016e-04\n",
      "Epoch 70/100\n",
      "38/38 [==============================] - 2s 42ms/step - loss: 2.5569e-04\n",
      "Epoch 71/100\n",
      "38/38 [==============================] - 2s 42ms/step - loss: 3.5276e-04\n",
      "Epoch 72/100\n",
      "38/38 [==============================] - 2s 42ms/step - loss: 3.0188e-04\n",
      "Epoch 73/100\n",
      "38/38 [==============================] - 2s 42ms/step - loss: 2.8212e-04\n",
      "Epoch 74/100\n",
      "38/38 [==============================] - 2s 43ms/step - loss: 2.5734e-04\n",
      "Epoch 75/100\n",
      "38/38 [==============================] - 2s 41ms/step - loss: 2.7539e-04\n",
      "Epoch 76/100\n",
      "38/38 [==============================] - 2s 41ms/step - loss: 2.4442e-04\n",
      "Epoch 77/100\n",
      "38/38 [==============================] - 2s 42ms/step - loss: 2.4951e-04\n",
      "Epoch 78/100\n",
      "38/38 [==============================] - 2s 42ms/step - loss: 2.5974e-04\n",
      "Epoch 79/100\n",
      "38/38 [==============================] - 2s 43ms/step - loss: 2.7711e-04\n",
      "Epoch 80/100\n",
      "38/38 [==============================] - 2s 42ms/step - loss: 2.6093e-04\n",
      "Epoch 81/100\n",
      "38/38 [==============================] - 2s 42ms/step - loss: 2.4981e-04\n",
      "Epoch 82/100\n",
      "38/38 [==============================] - 2s 42ms/step - loss: 2.9675e-04\n",
      "Epoch 83/100\n",
      "38/38 [==============================] - 2s 43ms/step - loss: 2.8388e-04\n",
      "Epoch 84/100\n",
      "38/38 [==============================] - 2s 42ms/step - loss: 3.2341e-04\n",
      "Epoch 85/100\n",
      "38/38 [==============================] - 2s 42ms/step - loss: 2.6495e-04\n",
      "Epoch 86/100\n",
      "38/38 [==============================] - 2s 43ms/step - loss: 2.8517e-04\n",
      "Epoch 87/100\n",
      "38/38 [==============================] - 2s 42ms/step - loss: 2.5557e-04\n",
      "Epoch 88/100\n",
      "38/38 [==============================] - 2s 42ms/step - loss: 2.4307e-04\n",
      "Epoch 89/100\n",
      "38/38 [==============================] - 2s 43ms/step - loss: 2.6395e-04\n",
      "Epoch 90/100\n",
      "38/38 [==============================] - 2s 43ms/step - loss: 3.1635e-04\n",
      "Epoch 91/100\n",
      "38/38 [==============================] - 2s 44ms/step - loss: 2.7121e-04\n",
      "Epoch 92/100\n",
      "38/38 [==============================] - 2s 42ms/step - loss: 3.7660e-04\n",
      "Epoch 93/100\n",
      "38/38 [==============================] - 2s 43ms/step - loss: 3.6240e-04\n",
      "Epoch 94/100\n",
      "38/38 [==============================] - 2s 42ms/step - loss: 3.5580e-04\n",
      "Epoch 95/100\n",
      "38/38 [==============================] - 2s 43ms/step - loss: 2.5974e-04\n",
      "Epoch 96/100\n",
      "38/38 [==============================] - 2s 42ms/step - loss: 2.3062e-04\n",
      "Epoch 97/100\n"
     ]
    },
    {
     "name": "stdout",
     "output_type": "stream",
     "text": [
      "38/38 [==============================] - 2s 42ms/step - loss: 2.3907e-04\n",
      "Epoch 98/100\n",
      "38/38 [==============================] - 2s 43ms/step - loss: 2.5773e-04\n",
      "Epoch 99/100\n",
      "38/38 [==============================] - 2s 42ms/step - loss: 3.0673e-04\n",
      "Epoch 100/100\n",
      "38/38 [==============================] - 2s 42ms/step - loss: 2.2823e-04\n"
     ]
    },
    {
     "data": {
      "text/plain": [
       "<tensorflow.python.keras.callbacks.History at 0x7fb71c2195d0>"
      ]
     },
     "execution_count": 15,
     "metadata": {},
     "output_type": "execute_result"
    }
   ],
   "source": [
    "model.compile(\n",
    "    optimizer = 'adam',\n",
    "    loss = 'mean_squared_error'\n",
    ")\n",
    "\n",
    "model.fit(X_train, y_train, epochs = 100, batch_size = 32)"
   ]
  },
  {
   "cell_type": "code",
   "execution_count": null,
   "metadata": {},
   "outputs": [],
   "source": []
  }
 ],
 "metadata": {
  "kernelspec": {
   "display_name": "Python 3",
   "language": "python",
   "name": "python3"
  },
  "language_info": {
   "codemirror_mode": {
    "name": "ipython",
    "version": 3
   },
   "file_extension": ".py",
   "mimetype": "text/x-python",
   "name": "python",
   "nbconvert_exporter": "python",
   "pygments_lexer": "ipython3",
   "version": "3.7.6"
  }
 },
 "nbformat": 4,
 "nbformat_minor": 4
}
