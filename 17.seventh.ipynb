{
 "cells": [
  {
   "cell_type": "code",
   "execution_count": 1,
   "metadata": {},
   "outputs": [],
   "source": [
    "# 9장 "
   ]
  },
  {
   "cell_type": "code",
   "execution_count": 2,
   "metadata": {},
   "outputs": [],
   "source": [
    "# 인공지능 베이스 - 디지털 선호 처리\n",
    "\n",
    "# 디지털 필터의 2가지 (어떤 개념을 적용하더라도 이 2가지 개념을 벗어날 수 없음)\n",
    "# CNN - FIR 필터 (이전의 값에 영향 받지 않음) ->> 주가 분석 뿐만 아니라 음성 분석도 가능\n",
    "# RNN, LSTM - IIR 필터 (이전 값이 현재 결과에 영향을 줌) ->> 주가 분석 뿐만 아니라 음성 분석도 가능\n",
    "# 보통 이 2개 섞어서 씀!\n",
    "\n",
    "# 피드백(IIR만 피드백 됨)을 준다는 개념은 특정값을 찾아 수렴시키는 것이라 보면 된다.\n",
    "# 커드쿼터, 텍(헥)사쿼터 만든다고 하면 제일 중요한 것이 균형 맞추는 것!\n",
    "# 특정값을 찾아 수렴시키는 것 ( = 헬기의 균형을 찾는 것과 같은 의미)\n",
    "# 어떤 특정 위치에서 고정이 되어 있어야 함.\n",
    "# 하지만, 센서데이터는 고정되어 있지 않으니까!!\n",
    "\n",
    "# 주가에서는 이전에 어떤 이벤트, 영향이 있었나의 영향을 받음!! (현재의 결과에 영향이 있음!)\n",
    "# 주식쪽으로 마이크로 펀딩 하고 싶다면 => FPGA 필요!!! (실시간으로 하드웨어 가속하기 위한 장치)\n",
    "\n",
    "# 피드백을 주면서 노이즈가 끼게 됨.\n",
    "# 노이즈가 끼게 되면서 안정적으로 센서 데이터를 받을 수 있는 것이 IIR임!\n",
    "# 현재는 이름이 RNN, LTSM으로 많이 쓰고 있지만, 결국은 IIR 필터와 같음."
   ]
  },
  {
   "cell_type": "code",
   "execution_count": 3,
   "metadata": {},
   "outputs": [],
   "source": [
    "# y(u, x) => ∂y/∂u 혹은 "
   ]
  },
  {
   "cell_type": "code",
   "execution_count": 4,
   "metadata": {},
   "outputs": [],
   "source": [
    "import numpy as np\n",
    "import matplotlib.pyplot as plt\n",
    "import pandas as pd"
   ]
  },
  {
   "cell_type": "code",
   "execution_count": 5,
   "metadata": {},
   "outputs": [
    {
     "name": "stdout",
     "output_type": "stream",
     "text": [
      "AAPL_test.csv\t  Activity18.ipynb  Exercise28.ipynb\r\n",
      "AAPL_train.csv\t  Activity19.ipynb  MSFT_test.csv\r\n",
      "Activity17.ipynb  Exercise27.ipynb  MSFT_train.csv\r\n"
     ]
    }
   ],
   "source": [
    "!ls Applied-Deep-Learning-with-Keras/Lesson09"
   ]
  },
  {
   "cell_type": "code",
   "execution_count": 6,
   "metadata": {},
   "outputs": [
    {
     "data": {
      "text/html": [
       "<div>\n",
       "<style scoped>\n",
       "    .dataframe tbody tr th:only-of-type {\n",
       "        vertical-align: middle;\n",
       "    }\n",
       "\n",
       "    .dataframe tbody tr th {\n",
       "        vertical-align: top;\n",
       "    }\n",
       "\n",
       "    .dataframe thead th {\n",
       "        text-align: right;\n",
       "    }\n",
       "</style>\n",
       "<table border=\"1\" class=\"dataframe\">\n",
       "  <thead>\n",
       "    <tr style=\"text-align: right;\">\n",
       "      <th></th>\n",
       "      <th>Date</th>\n",
       "      <th>Open</th>\n",
       "      <th>High</th>\n",
       "      <th>Low</th>\n",
       "      <th>Close</th>\n",
       "      <th>Adj Close</th>\n",
       "      <th>Volume</th>\n",
       "    </tr>\n",
       "  </thead>\n",
       "  <tbody>\n",
       "    <tr>\n",
       "      <th>0</th>\n",
       "      <td>02-01-2014</td>\n",
       "      <td>79.382858</td>\n",
       "      <td>79.575714</td>\n",
       "      <td>78.860001</td>\n",
       "      <td>79.018570</td>\n",
       "      <td>66.964325</td>\n",
       "      <td>58671200</td>\n",
       "    </tr>\n",
       "    <tr>\n",
       "      <th>1</th>\n",
       "      <td>03-01-2014</td>\n",
       "      <td>78.980003</td>\n",
       "      <td>79.099998</td>\n",
       "      <td>77.204285</td>\n",
       "      <td>77.282860</td>\n",
       "      <td>65.493416</td>\n",
       "      <td>98116900</td>\n",
       "    </tr>\n",
       "    <tr>\n",
       "      <th>2</th>\n",
       "      <td>06-01-2014</td>\n",
       "      <td>76.778572</td>\n",
       "      <td>78.114288</td>\n",
       "      <td>76.228569</td>\n",
       "      <td>77.704285</td>\n",
       "      <td>65.850533</td>\n",
       "      <td>103152700</td>\n",
       "    </tr>\n",
       "    <tr>\n",
       "      <th>3</th>\n",
       "      <td>07-01-2014</td>\n",
       "      <td>77.760002</td>\n",
       "      <td>77.994286</td>\n",
       "      <td>76.845711</td>\n",
       "      <td>77.148575</td>\n",
       "      <td>65.379593</td>\n",
       "      <td>79302300</td>\n",
       "    </tr>\n",
       "    <tr>\n",
       "      <th>4</th>\n",
       "      <td>08-01-2014</td>\n",
       "      <td>76.972855</td>\n",
       "      <td>77.937141</td>\n",
       "      <td>76.955711</td>\n",
       "      <td>77.637146</td>\n",
       "      <td>65.793633</td>\n",
       "      <td>64632400</td>\n",
       "    </tr>\n",
       "  </tbody>\n",
       "</table>\n",
       "</div>"
      ],
      "text/plain": [
       "         Date       Open       High        Low      Close  Adj Close  \\\n",
       "0  02-01-2014  79.382858  79.575714  78.860001  79.018570  66.964325   \n",
       "1  03-01-2014  78.980003  79.099998  77.204285  77.282860  65.493416   \n",
       "2  06-01-2014  76.778572  78.114288  76.228569  77.704285  65.850533   \n",
       "3  07-01-2014  77.760002  77.994286  76.845711  77.148575  65.379593   \n",
       "4  08-01-2014  76.972855  77.937141  76.955711  77.637146  65.793633   \n",
       "\n",
       "      Volume  \n",
       "0   58671200  \n",
       "1   98116900  \n",
       "2  103152700  \n",
       "3   79302300  \n",
       "4   64632400  "
      ]
     },
     "execution_count": 6,
     "metadata": {},
     "output_type": "execute_result"
    }
   ],
   "source": [
    "trainSet = pd.read_csv(\"Applied-Deep-Learning-with-Keras/Lesson09/AAPL_train.csv\")\n",
    "trainSet.head()"
   ]
  },
  {
   "cell_type": "code",
   "execution_count": 7,
   "metadata": {},
   "outputs": [
    {
     "data": {
      "text/plain": [
       "array([[ 79.382858],\n",
       "       [ 78.980003],\n",
       "       [ 76.778572],\n",
       "       ...,\n",
       "       [155.839996],\n",
       "       [157.5     ],\n",
       "       [158.529999]])"
      ]
     },
     "execution_count": 7,
     "metadata": {},
     "output_type": "execute_result"
    }
   ],
   "source": [
    "trainSetOpen = trainSet.iloc[:, 1:2].values\n",
    "trainSetOpen"
   ]
  },
  {
   "cell_type": "code",
   "execution_count": 8,
   "metadata": {},
   "outputs": [],
   "source": [
    "from sklearn.preprocessing import MinMaxScaler"
   ]
  },
  {
   "cell_type": "code",
   "execution_count": 9,
   "metadata": {},
   "outputs": [
    {
     "data": {
      "text/plain": [
       "array([[0.05400437],\n",
       "       [0.05148716],\n",
       "       [0.03773165],\n",
       "       ...,\n",
       "       [0.53174205],\n",
       "       [0.54211448],\n",
       "       [0.54855037]])"
      ]
     },
     "execution_count": 9,
     "metadata": {},
     "output_type": "execute_result"
    }
   ],
   "source": [
    "sc = MinMaxScaler(feature_range = (0, 1))\n",
    "trainSetScaled = sc.fit_transform(trainSetOpen)\n",
    "trainSetScaled"
   ]
  },
  {
   "cell_type": "code",
   "execution_count": 10,
   "metadata": {},
   "outputs": [],
   "source": [
    "X_train = []\n",
    "y_train = []\n",
    "\n",
    "for i in range(60, 1258):\n",
    "    X_train.append(trainSetScaled[i - 60:i, 0])\n",
    "    y_train.append(trainSetScaled[i, 0])\n",
    "    \n",
    "X_train = np.array(X_train)\n",
    "y_train = np.array(y_train)"
   ]
  },
  {
   "cell_type": "code",
   "execution_count": 11,
   "metadata": {},
   "outputs": [
    {
     "data": {
      "text/plain": [
       "array([[[0.05400437],\n",
       "        [0.05148716],\n",
       "        [0.03773165],\n",
       "        ...,\n",
       "        [0.04582785],\n",
       "        [0.04002572],\n",
       "        [0.03850823]],\n",
       "\n",
       "       [[0.05148716],\n",
       "        [0.03773165],\n",
       "        [0.04386406],\n",
       "        ...,\n",
       "        [0.04002572],\n",
       "        [0.03850823],\n",
       "        [0.03932056]],\n",
       "\n",
       "       [[0.03773165],\n",
       "        [0.04386406],\n",
       "        [0.03894562],\n",
       "        ...,\n",
       "        [0.03850823],\n",
       "        [0.03932056],\n",
       "        [0.03800839]],\n",
       "\n",
       "       ...,\n",
       "\n",
       "       [[0.98231691],\n",
       "        [0.97794302],\n",
       "        [0.99543867],\n",
       "        ...,\n",
       "        [0.53811549],\n",
       "        [0.48369155],\n",
       "        [0.48462887]],\n",
       "\n",
       "       [[0.97794302],\n",
       "        [0.99543867],\n",
       "        [1.        ],\n",
       "        ...,\n",
       "        [0.48369155],\n",
       "        [0.48462887],\n",
       "        [0.53174205]],\n",
       "\n",
       "       [[0.99543867],\n",
       "        [1.        ],\n",
       "        [0.98237946],\n",
       "        ...,\n",
       "        [0.48462887],\n",
       "        [0.53174205],\n",
       "        [0.54211448]]])"
      ]
     },
     "execution_count": 11,
     "metadata": {},
     "output_type": "execute_result"
    }
   ],
   "source": [
    "X_train = np.reshape(X_train, (X_train.shape[0], X_train.shape[1], 1))\n",
    "X_train"
   ]
  },
  {
   "cell_type": "code",
   "execution_count": 12,
   "metadata": {},
   "outputs": [],
   "source": [
    "from keras.models import Sequential\n",
    "from keras.layers import Dense, LSTM, Dropout"
   ]
  },
  {
   "cell_type": "code",
   "execution_count": 13,
   "metadata": {},
   "outputs": [],
   "source": [
    "model = Sequential()\n",
    "\n",
    "model.add(LSTM(50, return_sequences = True, input_shape = (X_train.shape[1], 1)))\n",
    "model.add(LSTM(50, return_sequences = True))\n",
    "model.add(LSTM(50, return_sequences = True))\n",
    "model.add(LSTM(50))\n",
    "model.add(Dense(1))\n"
   ]
  },
  {
   "cell_type": "code",
   "execution_count": 14,
   "metadata": {},
   "outputs": [
    {
     "name": "stdout",
     "output_type": "stream",
     "text": [
      "Epoch 1/100\n",
      "38/38 [==============================] - 2s 48ms/step - loss: 0.0240\n",
      "Epoch 2/100\n",
      "38/38 [==============================] - 2s 45ms/step - loss: 0.0026\n",
      "Epoch 3/100\n",
      "38/38 [==============================] - 2s 46ms/step - loss: 0.0021\n",
      "Epoch 4/100\n",
      "38/38 [==============================] - 2s 45ms/step - loss: 0.0021\n",
      "Epoch 5/100\n",
      "38/38 [==============================] - 2s 45ms/step - loss: 0.0021\n",
      "Epoch 6/100\n",
      "38/38 [==============================] - 2s 46ms/step - loss: 0.0016\n",
      "Epoch 7/100\n",
      "38/38 [==============================] - 2s 45ms/step - loss: 0.0014\n",
      "Epoch 8/100\n",
      "38/38 [==============================] - 2s 45ms/step - loss: 0.0013\n",
      "Epoch 9/100\n",
      "38/38 [==============================] - 2s 46ms/step - loss: 0.0013\n",
      "Epoch 10/100\n",
      "38/38 [==============================] - 2s 46ms/step - loss: 0.0015\n",
      "Epoch 11/100\n",
      "38/38 [==============================] - 2s 46ms/step - loss: 0.0014\n",
      "Epoch 12/100\n",
      "38/38 [==============================] - 2s 44ms/step - loss: 0.0014\n",
      "Epoch 13/100\n",
      "38/38 [==============================] - 2s 44ms/step - loss: 0.0011\n",
      "Epoch 14/100\n",
      "38/38 [==============================] - 2s 43ms/step - loss: 0.0011\n",
      "Epoch 15/100\n",
      "38/38 [==============================] - 2s 43ms/step - loss: 0.0011\n",
      "Epoch 16/100\n",
      "38/38 [==============================] - 2s 43ms/step - loss: 0.0014\n",
      "Epoch 17/100\n",
      "38/38 [==============================] - 2s 43ms/step - loss: 9.8494e-04\n",
      "Epoch 18/100\n",
      "38/38 [==============================] - 2s 43ms/step - loss: 0.0015\n",
      "Epoch 19/100\n",
      "38/38 [==============================] - 2s 43ms/step - loss: 0.0011\n",
      "Epoch 20/100\n",
      "38/38 [==============================] - 2s 43ms/step - loss: 0.0011\n",
      "Epoch 21/100\n",
      "38/38 [==============================] - 2s 43ms/step - loss: 9.5050e-04\n",
      "Epoch 22/100\n",
      "38/38 [==============================] - 2s 42ms/step - loss: 8.6477e-04\n",
      "Epoch 23/100\n",
      "38/38 [==============================] - 2s 42ms/step - loss: 8.4032e-04\n",
      "Epoch 24/100\n",
      "38/38 [==============================] - 2s 42ms/step - loss: 9.5837e-04\n",
      "Epoch 25/100\n",
      "38/38 [==============================] - 2s 44ms/step - loss: 8.8395e-04\n",
      "Epoch 26/100\n",
      "38/38 [==============================] - 2s 43ms/step - loss: 7.9984e-04\n",
      "Epoch 27/100\n",
      "38/38 [==============================] - 2s 43ms/step - loss: 7.7304e-04\n",
      "Epoch 28/100\n",
      "38/38 [==============================] - 2s 42ms/step - loss: 7.9543e-04\n",
      "Epoch 29/100\n",
      "38/38 [==============================] - 2s 43ms/step - loss: 7.0169e-04\n",
      "Epoch 30/100\n",
      "38/38 [==============================] - 2s 44ms/step - loss: 7.7442e-04\n",
      "Epoch 31/100\n",
      "38/38 [==============================] - 2s 42ms/step - loss: 7.3935e-04\n",
      "Epoch 32/100\n",
      "38/38 [==============================] - 2s 43ms/step - loss: 6.2839e-04\n",
      "Epoch 33/100\n",
      "38/38 [==============================] - 2s 42ms/step - loss: 6.1194e-04\n",
      "Epoch 34/100\n",
      "38/38 [==============================] - 2s 43ms/step - loss: 6.7110e-04\n",
      "Epoch 35/100\n",
      "38/38 [==============================] - 2s 44ms/step - loss: 5.3154e-04\n",
      "Epoch 36/100\n",
      "38/38 [==============================] - 2s 43ms/step - loss: 5.6574e-04\n",
      "Epoch 37/100\n",
      "38/38 [==============================] - 2s 43ms/step - loss: 5.8256e-04\n",
      "Epoch 38/100\n",
      "38/38 [==============================] - 2s 43ms/step - loss: 5.3115e-04\n",
      "Epoch 39/100\n",
      "38/38 [==============================] - 2s 43ms/step - loss: 4.8862e-04\n",
      "Epoch 40/100\n",
      "38/38 [==============================] - 2s 43ms/step - loss: 4.8349e-04\n",
      "Epoch 41/100\n",
      "38/38 [==============================] - 2s 43ms/step - loss: 5.1991e-04\n",
      "Epoch 42/100\n",
      "38/38 [==============================] - 2s 44ms/step - loss: 4.3280e-04\n",
      "Epoch 43/100\n",
      "38/38 [==============================] - 2s 43ms/step - loss: 4.3129e-04\n",
      "Epoch 44/100\n",
      "38/38 [==============================] - 2s 43ms/step - loss: 4.0238e-04\n",
      "Epoch 45/100\n",
      "38/38 [==============================] - 2s 43ms/step - loss: 4.2799e-04\n",
      "Epoch 46/100\n",
      "38/38 [==============================] - 2s 43ms/step - loss: 5.4443e-04\n",
      "Epoch 47/100\n",
      "38/38 [==============================] - 2s 42ms/step - loss: 4.6349e-04\n",
      "Epoch 48/100\n",
      "38/38 [==============================] - 2s 43ms/step - loss: 5.0583e-04\n",
      "Epoch 49/100\n",
      "38/38 [==============================] - 2s 43ms/step - loss: 3.6218e-04\n",
      "Epoch 50/100\n",
      "38/38 [==============================] - 2s 43ms/step - loss: 4.1701e-04\n",
      "Epoch 51/100\n",
      "38/38 [==============================] - 2s 44ms/step - loss: 4.2762e-04\n",
      "Epoch 52/100\n",
      "38/38 [==============================] - 2s 43ms/step - loss: 3.7359e-04\n",
      "Epoch 53/100\n",
      "38/38 [==============================] - 2s 43ms/step - loss: 3.5206e-04\n",
      "Epoch 54/100\n",
      "38/38 [==============================] - 2s 43ms/step - loss: 3.1899e-04\n",
      "Epoch 55/100\n",
      "38/38 [==============================] - 2s 44ms/step - loss: 3.4941e-04\n",
      "Epoch 56/100\n",
      "38/38 [==============================] - 2s 44ms/step - loss: 3.1271e-04\n",
      "Epoch 57/100\n",
      "38/38 [==============================] - 2s 44ms/step - loss: 3.3007e-04\n",
      "Epoch 58/100\n",
      "38/38 [==============================] - 2s 43ms/step - loss: 3.2818e-04\n",
      "Epoch 59/100\n",
      "38/38 [==============================] - 2s 44ms/step - loss: 3.5900e-04\n",
      "Epoch 60/100\n",
      "38/38 [==============================] - 2s 43ms/step - loss: 6.5202e-04\n",
      "Epoch 61/100\n",
      "38/38 [==============================] - 2s 43ms/step - loss: 4.1783e-04\n",
      "Epoch 62/100\n",
      "38/38 [==============================] - 2s 44ms/step - loss: 2.6842e-04\n",
      "Epoch 63/100\n",
      "38/38 [==============================] - 2s 43ms/step - loss: 2.9839e-04\n",
      "Epoch 64/100\n",
      "38/38 [==============================] - 2s 44ms/step - loss: 3.4621e-04\n",
      "Epoch 65/100\n",
      "38/38 [==============================] - 2s 43ms/step - loss: 2.7911e-04\n",
      "Epoch 66/100\n",
      "38/38 [==============================] - 2s 44ms/step - loss: 2.7386e-04\n",
      "Epoch 67/100\n",
      "38/38 [==============================] - 2s 43ms/step - loss: 3.2463e-04\n",
      "Epoch 68/100\n",
      "38/38 [==============================] - 2s 44ms/step - loss: 3.1671e-04\n",
      "Epoch 69/100\n",
      "38/38 [==============================] - 2s 43ms/step - loss: 3.7561e-04\n",
      "Epoch 70/100\n",
      "38/38 [==============================] - 2s 45ms/step - loss: 2.7661e-04\n",
      "Epoch 71/100\n",
      "38/38 [==============================] - 2s 44ms/step - loss: 3.0258e-04\n",
      "Epoch 72/100\n",
      "38/38 [==============================] - 2s 44ms/step - loss: 2.7359e-04\n",
      "Epoch 73/100\n",
      "38/38 [==============================] - 2s 44ms/step - loss: 2.9114e-04\n",
      "Epoch 74/100\n",
      "38/38 [==============================] - 2s 43ms/step - loss: 2.5152e-04\n",
      "Epoch 75/100\n",
      "38/38 [==============================] - 2s 44ms/step - loss: 2.9282e-04\n",
      "Epoch 76/100\n",
      "38/38 [==============================] - 2s 43ms/step - loss: 2.6670e-04\n",
      "Epoch 77/100\n",
      "38/38 [==============================] - 2s 44ms/step - loss: 2.6679e-04\n",
      "Epoch 78/100\n",
      "38/38 [==============================] - 2s 44ms/step - loss: 5.6634e-04\n",
      "Epoch 79/100\n",
      "38/38 [==============================] - 2s 43ms/step - loss: 2.7981e-04\n",
      "Epoch 80/100\n",
      "38/38 [==============================] - 2s 44ms/step - loss: 3.0481e-04\n",
      "Epoch 81/100\n",
      "38/38 [==============================] - 2s 43ms/step - loss: 4.6070e-04\n",
      "Epoch 82/100\n",
      "38/38 [==============================] - 2s 44ms/step - loss: 2.6218e-04\n",
      "Epoch 83/100\n",
      "38/38 [==============================] - 2s 44ms/step - loss: 2.8561e-04\n",
      "Epoch 84/100\n",
      "38/38 [==============================] - 2s 43ms/step - loss: 2.4278e-04\n",
      "Epoch 85/100\n",
      "38/38 [==============================] - 2s 44ms/step - loss: 2.5782e-04\n",
      "Epoch 86/100\n",
      "38/38 [==============================] - 2s 44ms/step - loss: 3.1236e-04\n",
      "Epoch 87/100\n",
      "38/38 [==============================] - 2s 44ms/step - loss: 2.7028e-04\n",
      "Epoch 88/100\n",
      "38/38 [==============================] - 2s 43ms/step - loss: 2.7161e-04\n",
      "Epoch 89/100\n",
      "38/38 [==============================] - 2s 43ms/step - loss: 2.5334e-04\n",
      "Epoch 90/100\n",
      "38/38 [==============================] - 2s 43ms/step - loss: 2.7119e-04\n",
      "Epoch 91/100\n",
      "38/38 [==============================] - 2s 44ms/step - loss: 2.3788e-04\n",
      "Epoch 92/100\n",
      "38/38 [==============================] - 2s 44ms/step - loss: 2.3155e-04\n",
      "Epoch 93/100\n",
      "38/38 [==============================] - 2s 43ms/step - loss: 2.4241e-04\n",
      "Epoch 94/100\n",
      "38/38 [==============================] - 2s 43ms/step - loss: 2.5484e-04\n",
      "Epoch 95/100\n",
      "38/38 [==============================] - 2s 43ms/step - loss: 2.6864e-04\n",
      "Epoch 96/100\n",
      "38/38 [==============================] - 2s 44ms/step - loss: 2.4846e-04\n",
      "Epoch 97/100\n",
      "38/38 [==============================] - 2s 43ms/step - loss: 2.5560e-04\n",
      "Epoch 98/100\n",
      "38/38 [==============================] - 2s 44ms/step - loss: 2.6340e-04\n",
      "Epoch 99/100\n",
      "38/38 [==============================] - 2s 44ms/step - loss: 2.6425e-04\n",
      "Epoch 100/100\n",
      "38/38 [==============================] - 2s 44ms/step - loss: 2.3726e-04\n"
     ]
    },
    {
     "data": {
      "text/plain": [
       "<tensorflow.python.keras.callbacks.History at 0x7f697c376850>"
      ]
     },
     "execution_count": 14,
     "metadata": {},
     "output_type": "execute_result"
    }
   ],
   "source": [
    "model.compile(\n",
    "    optimizer = 'adam',\n",
    "    loss = 'mean_squared_error'\n",
    ")\n",
    "\n",
    "model.fit(X_train, y_train, epochs = 100, batch_size = 32)"
   ]
  },
  {
   "cell_type": "code",
   "execution_count": 15,
   "metadata": {},
   "outputs": [
    {
     "data": {
      "text/html": [
       "<div>\n",
       "<style scoped>\n",
       "    .dataframe tbody tr th:only-of-type {\n",
       "        vertical-align: middle;\n",
       "    }\n",
       "\n",
       "    .dataframe tbody tr th {\n",
       "        vertical-align: top;\n",
       "    }\n",
       "\n",
       "    .dataframe thead th {\n",
       "        text-align: right;\n",
       "    }\n",
       "</style>\n",
       "<table border=\"1\" class=\"dataframe\">\n",
       "  <thead>\n",
       "    <tr style=\"text-align: right;\">\n",
       "      <th></th>\n",
       "      <th>Date</th>\n",
       "      <th>Open</th>\n",
       "      <th>High</th>\n",
       "      <th>Low</th>\n",
       "      <th>Close</th>\n",
       "      <th>Adj Close</th>\n",
       "      <th>Volume</th>\n",
       "    </tr>\n",
       "  </thead>\n",
       "  <tbody>\n",
       "    <tr>\n",
       "      <th>0</th>\n",
       "      <td>02-01-2019</td>\n",
       "      <td>154.889999</td>\n",
       "      <td>158.850006</td>\n",
       "      <td>154.229996</td>\n",
       "      <td>157.919998</td>\n",
       "      <td>157.245605</td>\n",
       "      <td>37039700</td>\n",
       "    </tr>\n",
       "    <tr>\n",
       "      <th>1</th>\n",
       "      <td>03-01-2019</td>\n",
       "      <td>143.979996</td>\n",
       "      <td>145.720001</td>\n",
       "      <td>142.000000</td>\n",
       "      <td>142.190002</td>\n",
       "      <td>141.582779</td>\n",
       "      <td>91244100</td>\n",
       "    </tr>\n",
       "    <tr>\n",
       "      <th>2</th>\n",
       "      <td>04-01-2019</td>\n",
       "      <td>144.529999</td>\n",
       "      <td>148.550003</td>\n",
       "      <td>143.800003</td>\n",
       "      <td>148.259995</td>\n",
       "      <td>147.626846</td>\n",
       "      <td>58607100</td>\n",
       "    </tr>\n",
       "    <tr>\n",
       "      <th>3</th>\n",
       "      <td>07-01-2019</td>\n",
       "      <td>148.699997</td>\n",
       "      <td>148.830002</td>\n",
       "      <td>145.899994</td>\n",
       "      <td>147.929993</td>\n",
       "      <td>147.298264</td>\n",
       "      <td>54777800</td>\n",
       "    </tr>\n",
       "    <tr>\n",
       "      <th>4</th>\n",
       "      <td>08-01-2019</td>\n",
       "      <td>149.559998</td>\n",
       "      <td>151.820007</td>\n",
       "      <td>148.520004</td>\n",
       "      <td>150.750000</td>\n",
       "      <td>150.106216</td>\n",
       "      <td>41025300</td>\n",
       "    </tr>\n",
       "  </tbody>\n",
       "</table>\n",
       "</div>"
      ],
      "text/plain": [
       "         Date        Open        High         Low       Close   Adj Close  \\\n",
       "0  02-01-2019  154.889999  158.850006  154.229996  157.919998  157.245605   \n",
       "1  03-01-2019  143.979996  145.720001  142.000000  142.190002  141.582779   \n",
       "2  04-01-2019  144.529999  148.550003  143.800003  148.259995  147.626846   \n",
       "3  07-01-2019  148.699997  148.830002  145.899994  147.929993  147.298264   \n",
       "4  08-01-2019  149.559998  151.820007  148.520004  150.750000  150.106216   \n",
       "\n",
       "     Volume  \n",
       "0  37039700  \n",
       "1  91244100  \n",
       "2  58607100  \n",
       "3  54777800  \n",
       "4  41025300  "
      ]
     },
     "execution_count": 15,
     "metadata": {},
     "output_type": "execute_result"
    }
   ],
   "source": [
    "testSet = pd.read_csv(\"Applied-Deep-Learning-with-Keras/Lesson09/AAPL_test.csv\")\n",
    "testSet.head()"
   ]
  },
  {
   "cell_type": "code",
   "execution_count": 16,
   "metadata": {},
   "outputs": [
    {
     "data": {
      "text/plain": [
       "array([[154.889999],\n",
       "       [143.979996],\n",
       "       [144.529999],\n",
       "       [148.699997],\n",
       "       [149.559998],\n",
       "       [151.289993],\n",
       "       [152.5     ],\n",
       "       [152.880005],\n",
       "       [150.850006],\n",
       "       [150.270004],\n",
       "       [153.080002],\n",
       "       [154.199997],\n",
       "       [157.5     ],\n",
       "       [156.410004],\n",
       "       [154.149994],\n",
       "       [154.110001],\n",
       "       [155.479996],\n",
       "       [155.789993],\n",
       "       [156.25    ],\n",
       "       [163.25    ],\n",
       "       [166.110001]])"
      ]
     },
     "execution_count": 16,
     "metadata": {},
     "output_type": "execute_result"
    }
   ],
   "source": [
    "actualStock = testSet.iloc[:, 1:2].values\n",
    "actualStock"
   ]
  },
  {
   "cell_type": "code",
   "execution_count": 17,
   "metadata": {},
   "outputs": [
    {
     "data": {
      "text/plain": [
       "0        79.382858\n",
       "1        78.980003\n",
       "2        76.778572\n",
       "3        77.760002\n",
       "4        76.972855\n",
       "           ...    \n",
       "1253    148.149994\n",
       "1254    148.300003\n",
       "1255    155.839996\n",
       "1256    157.500000\n",
       "1257    158.529999\n",
       "Name: Open, Length: 1258, dtype: float64"
      ]
     },
     "execution_count": 17,
     "metadata": {},
     "output_type": "execute_result"
    }
   ],
   "source": [
    "trainSet['Open']"
   ]
  },
  {
   "cell_type": "code",
   "execution_count": 18,
   "metadata": {},
   "outputs": [
    {
     "data": {
      "text/plain": [
       "0     154.889999\n",
       "1     143.979996\n",
       "2     144.529999\n",
       "3     148.699997\n",
       "4     149.559998\n",
       "5     151.289993\n",
       "6     152.500000\n",
       "7     152.880005\n",
       "8     150.850006\n",
       "9     150.270004\n",
       "10    153.080002\n",
       "11    154.199997\n",
       "12    157.500000\n",
       "13    156.410004\n",
       "14    154.149994\n",
       "15    154.110001\n",
       "16    155.479996\n",
       "17    155.789993\n",
       "18    156.250000\n",
       "19    163.250000\n",
       "20    166.110001\n",
       "Name: Open, dtype: float64"
      ]
     },
     "execution_count": 18,
     "metadata": {},
     "output_type": "execute_result"
    }
   ],
   "source": [
    "testSet['Open']"
   ]
  },
  {
   "cell_type": "code",
   "execution_count": 19,
   "metadata": {},
   "outputs": [],
   "source": [
    "total = pd.concat(\n",
    "    (trainSet['Open'], testSet['Open']),\n",
    "    axis = 0\n",
    ")"
   ]
  },
  {
   "cell_type": "code",
   "execution_count": 20,
   "metadata": {},
   "outputs": [],
   "source": [
    "inputs = total[len(total) - len(testSet) - 60: ]. values\n",
    "inputs = inputs.reshape(-1, 1)\n",
    "inputs = sc.transform(inputs)\n",
    "X_test = []\n",
    "for i in range(60, 81):\n",
    "    X_test.append(inputs[i-60:i, 0])\n",
    "X_test = np.array(X_test)\n",
    "X_test = np.reshape(X_test, (X_test.shape[0], X_test.shape[1], 1))\n",
    "predictedStock = model.predict(X_test)\n",
    "predictedStock = sc.inverse_transform(predictedStock)"
   ]
  },
  {
   "cell_type": "code",
   "execution_count": 21,
   "metadata": {},
   "outputs": [
    {
     "data": {
      "image/png": "[encoded data removed]",
      "text/plain": [
       "<Figure size 432x288 with 1 Axes>"
      ]
     },
     "metadata": {
      "needs_background": "light"
     },
     "output_type": "display_data"
    }
   ],
   "source": [
    "plt.plot(actualStock, color = 'green', label = 'Real Apple Stock', ls = '--')\n",
    "plt.plot(predictedStock, color = 'red', label = 'Predicted Apple Stock', ls = '-')\n",
    "plt.title('Predicted Stock Price')\n",
    "plt.xlabel('Time in days')\n",
    "plt.ylabel('Real Stock Price')\n",
    "plt.legend()\n",
    "plt.show()\n",
    "\n",
    "# IIR 필터의 특성이 나타나고 있음\n",
    "# 위상이 뒤틀린다. (데이터 예측을 얼마나 할 수 있는지는 모르지만.)\n",
    "# 약 이틀 차이가 남. -> 이것이 위상이 뒤틀린다!\n",
    "# 하지만, 주식은 이렇게 이틀 차이가 나면 큰일 남!"
   ]
  },
  {
   "cell_type": "code",
   "execution_count": null,
   "metadata": {},
   "outputs": [],
   "source": []
  },
  {
   "cell_type": "code",
   "execution_count": null,
   "metadata": {},
   "outputs": [],
   "source": []
  },
  {
   "cell_type": "code",
   "execution_count": null,
   "metadata": {},
   "outputs": [],
   "source": []
  },
  {
   "cell_type": "code",
   "execution_count": null,
   "metadata": {},
   "outputs": [],
   "source": [
    "# p.337 실습 28"
   ]
  },
  {
   "cell_type": "code",
   "execution_count": 22,
   "metadata": {},
   "outputs": [],
   "source": [
    "import numpy as np\n",
    "import matplotlib.pyplot as plt\n",
    "import pandas as pd"
   ]
  },
  {
   "cell_type": "code",
   "execution_count": 25,
   "metadata": {},
   "outputs": [
    {
     "name": "stdout",
     "output_type": "stream",
     "text": [
      "AAPL_test.csv\t  Activity18.ipynb  Exercise28.ipynb\r\n",
      "AAPL_train.csv\t  Activity19.ipynb  MSFT_test.csv\r\n",
      "Activity17.ipynb  Exercise27.ipynb  MSFT_train.csv\r\n"
     ]
    }
   ],
   "source": [
    "! ls Applied-Deep-Learning-with-Keras/Lesson09"
   ]
  },
  {
   "cell_type": "code",
   "execution_count": 29,
   "metadata": {},
   "outputs": [
    {
     "data": {
      "text/html": [
       "<div>\n",
       "<style scoped>\n",
       "    .dataframe tbody tr th:only-of-type {\n",
       "        vertical-align: middle;\n",
       "    }\n",
       "\n",
       "    .dataframe tbody tr th {\n",
       "        vertical-align: top;\n",
       "    }\n",
       "\n",
       "    .dataframe thead th {\n",
       "        text-align: right;\n",
       "    }\n",
       "</style>\n",
       "<table border=\"1\" class=\"dataframe\">\n",
       "  <thead>\n",
       "    <tr style=\"text-align: right;\">\n",
       "      <th></th>\n",
       "      <th>Date</th>\n",
       "      <th>Open</th>\n",
       "      <th>High</th>\n",
       "      <th>Low</th>\n",
       "      <th>Close</th>\n",
       "      <th>Adj Close</th>\n",
       "      <th>Volume</th>\n",
       "    </tr>\n",
       "  </thead>\n",
       "  <tbody>\n",
       "    <tr>\n",
       "      <th>0</th>\n",
       "      <td>02-01-2014</td>\n",
       "      <td>79.382858</td>\n",
       "      <td>79.575714</td>\n",
       "      <td>78.860001</td>\n",
       "      <td>79.018570</td>\n",
       "      <td>66.964325</td>\n",
       "      <td>58671200</td>\n",
       "    </tr>\n",
       "    <tr>\n",
       "      <th>1</th>\n",
       "      <td>03-01-2014</td>\n",
       "      <td>78.980003</td>\n",
       "      <td>79.099998</td>\n",
       "      <td>77.204285</td>\n",
       "      <td>77.282860</td>\n",
       "      <td>65.493416</td>\n",
       "      <td>98116900</td>\n",
       "    </tr>\n",
       "    <tr>\n",
       "      <th>2</th>\n",
       "      <td>06-01-2014</td>\n",
       "      <td>76.778572</td>\n",
       "      <td>78.114288</td>\n",
       "      <td>76.228569</td>\n",
       "      <td>77.704285</td>\n",
       "      <td>65.850533</td>\n",
       "      <td>103152700</td>\n",
       "    </tr>\n",
       "    <tr>\n",
       "      <th>3</th>\n",
       "      <td>07-01-2014</td>\n",
       "      <td>77.760002</td>\n",
       "      <td>77.994286</td>\n",
       "      <td>76.845711</td>\n",
       "      <td>77.148575</td>\n",
       "      <td>65.379593</td>\n",
       "      <td>79302300</td>\n",
       "    </tr>\n",
       "    <tr>\n",
       "      <th>4</th>\n",
       "      <td>08-01-2014</td>\n",
       "      <td>76.972855</td>\n",
       "      <td>77.937141</td>\n",
       "      <td>76.955711</td>\n",
       "      <td>77.637146</td>\n",
       "      <td>65.793633</td>\n",
       "      <td>64632400</td>\n",
       "    </tr>\n",
       "  </tbody>\n",
       "</table>\n",
       "</div>"
      ],
      "text/plain": [
       "         Date       Open       High        Low      Close  Adj Close  \\\n",
       "0  02-01-2014  79.382858  79.575714  78.860001  79.018570  66.964325   \n",
       "1  03-01-2014  78.980003  79.099998  77.204285  77.282860  65.493416   \n",
       "2  06-01-2014  76.778572  78.114288  76.228569  77.704285  65.850533   \n",
       "3  07-01-2014  77.760002  77.994286  76.845711  77.148575  65.379593   \n",
       "4  08-01-2014  76.972855  77.937141  76.955711  77.637146  65.793633   \n",
       "\n",
       "      Volume  \n",
       "0   58671200  \n",
       "1   98116900  \n",
       "2  103152700  \n",
       "3   79302300  \n",
       "4   64632400  "
      ]
     },
     "execution_count": 29,
     "metadata": {},
     "output_type": "execute_result"
    }
   ],
   "source": [
    "trainSet = pd.read_csv('Applied-Deep-Learning-with-Keras/Lesson09/AAPL_train.csv')\n",
    "trainSet.head()"
   ]
  },
  {
   "cell_type": "code",
   "execution_count": 32,
   "metadata": {},
   "outputs": [
    {
     "data": {
      "text/plain": [
       "array([[ 79.382858],\n",
       "       [ 78.980003],\n",
       "       [ 76.778572],\n",
       "       ...,\n",
       "       [155.839996],\n",
       "       [157.5     ],\n",
       "       [158.529999]])"
      ]
     },
     "execution_count": 32,
     "metadata": {},
     "output_type": "execute_result"
    }
   ],
   "source": [
    "trainSetOpen = trainSet.iloc[:, 1:2].values\n",
    "trainSetOpen"
   ]
  },
  {
   "cell_type": "code",
   "execution_count": 33,
   "metadata": {},
   "outputs": [
    {
     "data": {
      "text/plain": [
       "array([[0.05400437],\n",
       "       [0.05148716],\n",
       "       [0.03773165],\n",
       "       ...,\n",
       "       [0.53174205],\n",
       "       [0.54211448],\n",
       "       [0.54855037]])"
      ]
     },
     "execution_count": 33,
     "metadata": {},
     "output_type": "execute_result"
    }
   ],
   "source": [
    "from sklearn.preprocessing import MinMaxScaler\n",
    "sc = MinMaxScaler(feature_range = (0, 1))\n",
    "trainSetScaled = sc.fit_transform(trainSetOpen)\n",
    "trainSetScaled"
   ]
  },
  {
   "cell_type": "code",
   "execution_count": 34,
   "metadata": {},
   "outputs": [],
   "source": [
    "X_train = []\n",
    "y_train = []\n",
    "\n",
    "for i in range(60, 1258):\n",
    "    X_train.append(trainSetScaled[i - 60:i, 0])\n",
    "    y_train.append(trainSetScaled[i, 0])\n",
    "    \n",
    "X_train = np.array(X_train)\n",
    "y_train = np.array(y_train)"
   ]
  },
  {
   "cell_type": "code",
   "execution_count": 35,
   "metadata": {},
   "outputs": [
    {
     "data": {
      "text/plain": [
       "array([[[0.05400437],\n",
       "        [0.05148716],\n",
       "        [0.03773165],\n",
       "        ...,\n",
       "        [0.04582785],\n",
       "        [0.04002572],\n",
       "        [0.03850823]],\n",
       "\n",
       "       [[0.05148716],\n",
       "        [0.03773165],\n",
       "        [0.04386406],\n",
       "        ...,\n",
       "        [0.04002572],\n",
       "        [0.03850823],\n",
       "        [0.03932056]],\n",
       "\n",
       "       [[0.03773165],\n",
       "        [0.04386406],\n",
       "        [0.03894562],\n",
       "        ...,\n",
       "        [0.03850823],\n",
       "        [0.03932056],\n",
       "        [0.03800839]],\n",
       "\n",
       "       ...,\n",
       "\n",
       "       [[0.98231691],\n",
       "        [0.97794302],\n",
       "        [0.99543867],\n",
       "        ...,\n",
       "        [0.53811549],\n",
       "        [0.48369155],\n",
       "        [0.48462887]],\n",
       "\n",
       "       [[0.97794302],\n",
       "        [0.99543867],\n",
       "        [1.        ],\n",
       "        ...,\n",
       "        [0.48369155],\n",
       "        [0.48462887],\n",
       "        [0.53174205]],\n",
       "\n",
       "       [[0.99543867],\n",
       "        [1.        ],\n",
       "        [0.98237946],\n",
       "        ...,\n",
       "        [0.48462887],\n",
       "        [0.53174205],\n",
       "        [0.54211448]]])"
      ]
     },
     "execution_count": 35,
     "metadata": {},
     "output_type": "execute_result"
    }
   ],
   "source": [
    "X_train = np.reshape(\n",
    "    X_train, \n",
    "    (X_train.shape[0], X_train.shape[1], 1)\n",
    ")\n",
    "X_train"
   ]
  },
  {
   "cell_type": "code",
   "execution_count": 36,
   "metadata": {},
   "outputs": [],
   "source": [
    "from keras.models import Sequential\n",
    "from keras.layers import Dense, LSTM, Dropout\n",
    "\n",
    "\n",
    "model = Sequential()\n",
    "\n",
    "model.add(\n",
    "    LSTM(\n",
    "        100, return_sequences = True, \n",
    "        input_shape = (X_train.shape[1], 1)\n",
    "    )\n",
    ")\n",
    "model.add(\n",
    "    LSTM(100, return_sequences = True)\n",
    ")\n",
    "model.add(\n",
    "    LSTM(100, return_sequences = True)\n",
    ")\n",
    "model.add(LSTM(100))\n",
    "model.add(Dense(1))"
   ]
  },
  {
   "cell_type": "code",
   "execution_count": 37,
   "metadata": {},
   "outputs": [
    {
     "name": "stdout",
     "output_type": "stream",
     "text": [
      "Epoch 1/100\n",
      "38/38 [==============================] - 3s 69ms/step - loss: 0.0276\n",
      "Epoch 2/100\n",
      "38/38 [==============================] - 3s 70ms/step - loss: 0.0022\n",
      "Epoch 3/100\n",
      "38/38 [==============================] - 3s 69ms/step - loss: 0.0019\n",
      "Epoch 4/100\n",
      "38/38 [==============================] - 3s 68ms/step - loss: 0.0018\n",
      "Epoch 5/100\n",
      "38/38 [==============================] - 3s 67ms/step - loss: 0.0015\n",
      "Epoch 6/100\n",
      "38/38 [==============================] - 3s 67ms/step - loss: 0.0013\n",
      "Epoch 7/100\n",
      "38/38 [==============================] - 3s 67ms/step - loss: 0.0012\n",
      "Epoch 8/100\n",
      "38/38 [==============================] - 3s 67ms/step - loss: 0.0013\n",
      "Epoch 9/100\n",
      "38/38 [==============================] - 3s 67ms/step - loss: 0.0015\n",
      "Epoch 10/100\n",
      "38/38 [==============================] - 3s 66ms/step - loss: 0.0016\n",
      "Epoch 11/100\n",
      "38/38 [==============================] - 3s 66ms/step - loss: 0.0011\n",
      "Epoch 12/100\n",
      "38/38 [==============================] - 2s 65ms/step - loss: 0.0011\n",
      "Epoch 13/100\n",
      "38/38 [==============================] - 2s 65ms/step - loss: 0.0011\n",
      "Epoch 14/100\n",
      "38/38 [==============================] - 3s 66ms/step - loss: 9.7117e-04\n",
      "Epoch 15/100\n",
      "38/38 [==============================] - 3s 67ms/step - loss: 0.0010\n",
      "Epoch 16/100\n",
      "38/38 [==============================] - 2s 66ms/step - loss: 9.8274e-04\n",
      "Epoch 17/100\n",
      "38/38 [==============================] - 2s 66ms/step - loss: 0.0010\n",
      "Epoch 18/100\n",
      "38/38 [==============================] - 2s 64ms/step - loss: 0.0010\n",
      "Epoch 19/100\n",
      "38/38 [==============================] - 3s 66ms/step - loss: 8.6909e-04\n",
      "Epoch 20/100\n",
      "38/38 [==============================] - 3s 66ms/step - loss: 0.0011\n",
      "Epoch 21/100\n",
      "38/38 [==============================] - 3s 67ms/step - loss: 0.0010\n",
      "Epoch 22/100\n",
      "38/38 [==============================] - 3s 66ms/step - loss: 0.0010\n",
      "Epoch 23/100\n",
      "38/38 [==============================] - 3s 66ms/step - loss: 8.1754e-04\n",
      "Epoch 24/100\n",
      "38/38 [==============================] - 3s 67ms/step - loss: 7.5789e-04\n",
      "Epoch 25/100\n",
      "38/38 [==============================] - 3s 67ms/step - loss: 9.0088e-04\n",
      "Epoch 26/100\n",
      "38/38 [==============================] - 3s 67ms/step - loss: 6.4372e-04\n",
      "Epoch 27/100\n",
      "38/38 [==============================] - 3s 68ms/step - loss: 6.0797e-04\n",
      "Epoch 28/100\n",
      "38/38 [==============================] - 3s 69ms/step - loss: 6.4998e-04\n",
      "Epoch 29/100\n",
      "38/38 [==============================] - 3s 68ms/step - loss: 6.8869e-04\n",
      "Epoch 30/100\n",
      "38/38 [==============================] - 3s 67ms/step - loss: 7.3268e-04\n",
      "Epoch 31/100\n",
      "38/38 [==============================] - 3s 67ms/step - loss: 5.9017e-04\n",
      "Epoch 32/100\n",
      "38/38 [==============================] - 3s 68ms/step - loss: 5.1367e-04\n",
      "Epoch 33/100\n",
      "38/38 [==============================] - 3s 68ms/step - loss: 5.4092e-04\n",
      "Epoch 34/100\n",
      "38/38 [==============================] - 3s 67ms/step - loss: 4.2999e-04\n",
      "Epoch 35/100\n",
      "38/38 [==============================] - 3s 67ms/step - loss: 5.3038e-04\n",
      "Epoch 36/100\n",
      "38/38 [==============================] - 3s 68ms/step - loss: 4.5804e-04\n",
      "Epoch 37/100\n",
      "38/38 [==============================] - 3s 69ms/step - loss: 5.4400e-04\n",
      "Epoch 38/100\n",
      "38/38 [==============================] - 3s 68ms/step - loss: 4.1584e-04\n",
      "Epoch 39/100\n",
      "38/38 [==============================] - 3s 67ms/step - loss: 3.8488e-04\n",
      "Epoch 40/100\n",
      "38/38 [==============================] - 3s 66ms/step - loss: 4.6967e-04\n",
      "Epoch 41/100\n",
      "38/38 [==============================] - 3s 67ms/step - loss: 4.0286e-04\n",
      "Epoch 42/100\n",
      "38/38 [==============================] - 3s 67ms/step - loss: 5.4240e-04\n",
      "Epoch 43/100\n",
      "38/38 [==============================] - 3s 68ms/step - loss: 5.1754e-04\n",
      "Epoch 44/100\n",
      "38/38 [==============================] - 3s 66ms/step - loss: 3.8928e-04\n",
      "Epoch 45/100\n",
      "38/38 [==============================] - 3s 67ms/step - loss: 3.1738e-04\n",
      "Epoch 46/100\n",
      "38/38 [==============================] - 3s 66ms/step - loss: 3.2208e-04\n",
      "Epoch 47/100\n",
      "38/38 [==============================] - 3s 67ms/step - loss: 3.1892e-04\n",
      "Epoch 48/100\n",
      "38/38 [==============================] - 3s 67ms/step - loss: 3.5712e-04\n",
      "Epoch 49/100\n",
      "38/38 [==============================] - 3s 66ms/step - loss: 2.9981e-04\n",
      "Epoch 50/100\n",
      "38/38 [==============================] - 3s 67ms/step - loss: 3.0961e-04\n",
      "Epoch 51/100\n",
      "38/38 [==============================] - 3s 66ms/step - loss: 3.1409e-04\n",
      "Epoch 52/100\n",
      "38/38 [==============================] - 3s 67ms/step - loss: 2.7815e-04\n",
      "Epoch 53/100\n",
      "38/38 [==============================] - 3s 67ms/step - loss: 3.9773e-04\n",
      "Epoch 54/100\n",
      "38/38 [==============================] - 3s 67ms/step - loss: 3.1452e-04\n",
      "Epoch 55/100\n",
      "38/38 [==============================] - 3s 67ms/step - loss: 2.7709e-04\n",
      "Epoch 56/100\n",
      "38/38 [==============================] - 3s 67ms/step - loss: 2.8904e-04\n",
      "Epoch 57/100\n",
      "38/38 [==============================] - 3s 67ms/step - loss: 3.3054e-04\n",
      "Epoch 58/100\n",
      "38/38 [==============================] - 3s 67ms/step - loss: 3.2062e-04\n",
      "Epoch 59/100\n",
      "38/38 [==============================] - 3s 66ms/step - loss: 3.3686e-04\n",
      "Epoch 60/100\n",
      "38/38 [==============================] - 3s 67ms/step - loss: 3.6828e-04\n",
      "Epoch 61/100\n",
      "38/38 [==============================] - 3s 67ms/step - loss: 2.8306e-04\n",
      "Epoch 62/100\n",
      "38/38 [==============================] - 3s 66ms/step - loss: 4.0061e-04\n",
      "Epoch 63/100\n",
      "38/38 [==============================] - 3s 66ms/step - loss: 3.3014e-04\n",
      "Epoch 64/100\n",
      "38/38 [==============================] - 3s 67ms/step - loss: 3.0827e-04\n",
      "Epoch 65/100\n",
      "38/38 [==============================] - 3s 68ms/step - loss: 2.8807e-04\n",
      "Epoch 66/100\n",
      "38/38 [==============================] - 3s 67ms/step - loss: 2.6407e-04\n",
      "Epoch 67/100\n",
      "38/38 [==============================] - 3s 67ms/step - loss: 2.9327e-04\n",
      "Epoch 68/100\n",
      "38/38 [==============================] - 3s 67ms/step - loss: 3.2130e-04\n",
      "Epoch 69/100\n",
      "38/38 [==============================] - 3s 67ms/step - loss: 2.4136e-04\n",
      "Epoch 70/100\n",
      "38/38 [==============================] - 3s 66ms/step - loss: 3.3300e-04\n",
      "Epoch 71/100\n",
      "38/38 [==============================] - 3s 67ms/step - loss: 3.8699e-04\n",
      "Epoch 72/100\n",
      "38/38 [==============================] - 3s 67ms/step - loss: 2.6844e-04\n",
      "Epoch 73/100\n",
      "38/38 [==============================] - 2s 65ms/step - loss: 2.6408e-04\n",
      "Epoch 74/100\n",
      "38/38 [==============================] - 3s 66ms/step - loss: 2.6625e-04\n",
      "Epoch 75/100\n",
      "38/38 [==============================] - 3s 66ms/step - loss: 4.1765e-04\n",
      "Epoch 76/100\n",
      "38/38 [==============================] - 3s 66ms/step - loss: 3.1509e-04\n",
      "Epoch 77/100\n",
      "38/38 [==============================] - 3s 66ms/step - loss: 2.9233e-04\n",
      "Epoch 78/100\n",
      "38/38 [==============================] - 3s 68ms/step - loss: 3.6143e-04\n",
      "Epoch 79/100\n",
      "38/38 [==============================] - 3s 66ms/step - loss: 2.7370e-04\n",
      "Epoch 80/100\n",
      "38/38 [==============================] - 3s 67ms/step - loss: 2.7626e-04\n",
      "Epoch 81/100\n",
      "38/38 [==============================] - 3s 67ms/step - loss: 2.5543e-04\n",
      "Epoch 82/100\n",
      "38/38 [==============================] - 3s 67ms/step - loss: 2.7132e-04\n",
      "Epoch 83/100\n",
      "38/38 [==============================] - 3s 67ms/step - loss: 3.2789e-04\n",
      "Epoch 84/100\n",
      "38/38 [==============================] - 2s 66ms/step - loss: 2.5332e-04\n",
      "Epoch 85/100\n",
      "38/38 [==============================] - 3s 67ms/step - loss: 3.1793e-04\n",
      "Epoch 86/100\n",
      "38/38 [==============================] - 3s 69ms/step - loss: 2.4883e-04\n",
      "Epoch 87/100\n",
      "38/38 [==============================] - 3s 68ms/step - loss: 2.9189e-04\n",
      "Epoch 88/100\n",
      "38/38 [==============================] - 3s 68ms/step - loss: 2.4865e-04\n",
      "Epoch 89/100\n",
      "38/38 [==============================] - 3s 68ms/step - loss: 2.3255e-04\n",
      "Epoch 90/100\n",
      "38/38 [==============================] - 3s 66ms/step - loss: 2.6540e-04\n",
      "Epoch 91/100\n",
      "38/38 [==============================] - 3s 67ms/step - loss: 2.4530e-04\n",
      "Epoch 92/100\n",
      "38/38 [==============================] - 3s 67ms/step - loss: 2.6969e-04\n",
      "Epoch 93/100\n",
      "38/38 [==============================] - 3s 67ms/step - loss: 2.7483e-04\n",
      "Epoch 94/100\n",
      "38/38 [==============================] - 3s 67ms/step - loss: 3.7515e-04\n",
      "Epoch 95/100\n",
      "38/38 [==============================] - 3s 68ms/step - loss: 2.5142e-04\n",
      "Epoch 96/100\n",
      "38/38 [==============================] - 3s 67ms/step - loss: 3.3070e-04\n",
      "Epoch 97/100\n",
      "38/38 [==============================] - 3s 68ms/step - loss: 2.7166e-04\n",
      "Epoch 98/100\n",
      "38/38 [==============================] - 3s 67ms/step - loss: 2.7850e-04\n",
      "Epoch 99/100\n",
      "38/38 [==============================] - 3s 69ms/step - loss: 2.5384e-04\n",
      "Epoch 100/100\n",
      "38/38 [==============================] - 3s 66ms/step - loss: 3.3398e-04\n"
     ]
    },
    {
     "data": {
      "text/plain": [
       "<tensorflow.python.keras.callbacks.History at 0x7f69143794d0>"
      ]
     },
     "execution_count": 37,
     "metadata": {},
     "output_type": "execute_result"
    }
   ],
   "source": [
    "model.compile(\n",
    "    optimizer = 'adam',\n",
    "    loss = 'mean_squared_error'\n",
    ")\n",
    "model.fit(\n",
    "    X_train, y_train, epochs = 100, batch_size = 32\n",
    ")"
   ]
  },
  {
   "cell_type": "code",
   "execution_count": 38,
   "metadata": {},
   "outputs": [
    {
     "data": {
      "text/html": [
       "<div>\n",
       "<style scoped>\n",
       "    .dataframe tbody tr th:only-of-type {\n",
       "        vertical-align: middle;\n",
       "    }\n",
       "\n",
       "    .dataframe tbody tr th {\n",
       "        vertical-align: top;\n",
       "    }\n",
       "\n",
       "    .dataframe thead th {\n",
       "        text-align: right;\n",
       "    }\n",
       "</style>\n",
       "<table border=\"1\" class=\"dataframe\">\n",
       "  <thead>\n",
       "    <tr style=\"text-align: right;\">\n",
       "      <th></th>\n",
       "      <th>Date</th>\n",
       "      <th>Open</th>\n",
       "      <th>High</th>\n",
       "      <th>Low</th>\n",
       "      <th>Close</th>\n",
       "      <th>Adj Close</th>\n",
       "      <th>Volume</th>\n",
       "    </tr>\n",
       "  </thead>\n",
       "  <tbody>\n",
       "    <tr>\n",
       "      <th>0</th>\n",
       "      <td>02-01-2019</td>\n",
       "      <td>154.889999</td>\n",
       "      <td>158.850006</td>\n",
       "      <td>154.229996</td>\n",
       "      <td>157.919998</td>\n",
       "      <td>157.245605</td>\n",
       "      <td>37039700</td>\n",
       "    </tr>\n",
       "    <tr>\n",
       "      <th>1</th>\n",
       "      <td>03-01-2019</td>\n",
       "      <td>143.979996</td>\n",
       "      <td>145.720001</td>\n",
       "      <td>142.000000</td>\n",
       "      <td>142.190002</td>\n",
       "      <td>141.582779</td>\n",
       "      <td>91244100</td>\n",
       "    </tr>\n",
       "    <tr>\n",
       "      <th>2</th>\n",
       "      <td>04-01-2019</td>\n",
       "      <td>144.529999</td>\n",
       "      <td>148.550003</td>\n",
       "      <td>143.800003</td>\n",
       "      <td>148.259995</td>\n",
       "      <td>147.626846</td>\n",
       "      <td>58607100</td>\n",
       "    </tr>\n",
       "    <tr>\n",
       "      <th>3</th>\n",
       "      <td>07-01-2019</td>\n",
       "      <td>148.699997</td>\n",
       "      <td>148.830002</td>\n",
       "      <td>145.899994</td>\n",
       "      <td>147.929993</td>\n",
       "      <td>147.298264</td>\n",
       "      <td>54777800</td>\n",
       "    </tr>\n",
       "    <tr>\n",
       "      <th>4</th>\n",
       "      <td>08-01-2019</td>\n",
       "      <td>149.559998</td>\n",
       "      <td>151.820007</td>\n",
       "      <td>148.520004</td>\n",
       "      <td>150.750000</td>\n",
       "      <td>150.106216</td>\n",
       "      <td>41025300</td>\n",
       "    </tr>\n",
       "  </tbody>\n",
       "</table>\n",
       "</div>"
      ],
      "text/plain": [
       "         Date        Open        High         Low       Close   Adj Close  \\\n",
       "0  02-01-2019  154.889999  158.850006  154.229996  157.919998  157.245605   \n",
       "1  03-01-2019  143.979996  145.720001  142.000000  142.190002  141.582779   \n",
       "2  04-01-2019  144.529999  148.550003  143.800003  148.259995  147.626846   \n",
       "3  07-01-2019  148.699997  148.830002  145.899994  147.929993  147.298264   \n",
       "4  08-01-2019  149.559998  151.820007  148.520004  150.750000  150.106216   \n",
       "\n",
       "     Volume  \n",
       "0  37039700  \n",
       "1  91244100  \n",
       "2  58607100  \n",
       "3  54777800  \n",
       "4  41025300  "
      ]
     },
     "execution_count": 38,
     "metadata": {},
     "output_type": "execute_result"
    }
   ],
   "source": [
    "testSet = pd.read_csv(\n",
    "    'Applied-Deep-Learning-with-Keras' +\n",
    "    '/Lesson09/AAPL_test.csv'\n",
    ")\n",
    "testSet.head()"
   ]
  },
  {
   "cell_type": "code",
   "execution_count": 39,
   "metadata": {},
   "outputs": [
    {
     "data": {
      "text/plain": [
       "array([[154.889999],\n",
       "       [143.979996],\n",
       "       [144.529999],\n",
       "       [148.699997],\n",
       "       [149.559998],\n",
       "       [151.289993],\n",
       "       [152.5     ],\n",
       "       [152.880005],\n",
       "       [150.850006],\n",
       "       [150.270004],\n",
       "       [153.080002],\n",
       "       [154.199997],\n",
       "       [157.5     ],\n",
       "       [156.410004],\n",
       "       [154.149994],\n",
       "       [154.110001],\n",
       "       [155.479996],\n",
       "       [155.789993],\n",
       "       [156.25    ],\n",
       "       [163.25    ],\n",
       "       [166.110001]])"
      ]
     },
     "execution_count": 39,
     "metadata": {},
     "output_type": "execute_result"
    }
   ],
   "source": [
    "actualStock = testSet.iloc[:, 1:2].values\n",
    "actualStock"
   ]
  },
  {
   "cell_type": "code",
   "execution_count": 40,
   "metadata": {},
   "outputs": [],
   "source": [
    "total = pd.concat(\n",
    "    (trainSet['Open'], testSet['Open']),\n",
    "    axis = 0\n",
    ")"
   ]
  },
  {
   "cell_type": "code",
   "execution_count": 41,
   "metadata": {},
   "outputs": [],
   "source": [
    "inputs = total[len(total) - len(testSet) - 60:].values\n",
    "inputs = inputs.reshape(-1, 1)\n",
    "inputs = sc.transform(inputs)\n",
    "\n",
    "X_test = []\n",
    "for i in range(60, 81):\n",
    "    X_test.append(inputs[i - 60:i, 0])\n",
    "    \n",
    "X_test = np.array(X_test)\n",
    "X_test = np.reshape(\n",
    "    X_test, \n",
    "    (X_test.shape[0], X_test.shape[1], 1)\n",
    ")\n",
    "\n",
    "predictedStock = model.predict(X_test)\n",
    "predictedStock = sc.inverse_transform(predictedStock)"
   ]
  },
  {
   "cell_type": "code",
   "execution_count": 42,
   "metadata": {},
   "outputs": [
    {
     "data": {
      "image/png": "[encoded data removed]",
      "text/plain": [
       "<Figure size 432x288 with 1 Axes>"
      ]
     },
     "metadata": {
      "needs_background": "light"
     },
     "output_type": "display_data"
    }
   ],
   "source": [
    "plt.plot(\n",
    "    actualStock, color = 'green', \n",
    "    label = 'Real Apple Stock', ls='--'\n",
    ")\n",
    "plt.plot(\n",
    "    predictedStock, color = 'red', \n",
    "    label = 'Predicted Apple Stock', ls='-'\n",
    ")\n",
    "plt.title('Predicted Stock Price')\n",
    "plt.xlabel('Time in days')\n",
    "plt.ylabel('Real Stock Price')\n",
    "plt.legend()\n",
    "plt.show()"
   ]
  },
  {
   "cell_type": "code",
   "execution_count": null,
   "metadata": {},
   "outputs": [],
   "source": []
  },
  {
   "cell_type": "code",
   "execution_count": null,
   "metadata": {},
   "outputs": [],
   "source": []
  },
  {
   "cell_type": "code",
   "execution_count": null,
   "metadata": {},
   "outputs": [],
   "source": []
  },
  {
   "cell_type": "code",
   "execution_count": null,
   "metadata": {},
   "outputs": [],
   "source": []
  },
  {
   "cell_type": "code",
   "execution_count": 43,
   "metadata": {},
   "outputs": [],
   "source": [
    "# CNN과 Spring 연동하기"
   ]
  },
  {
   "cell_type": "code",
   "execution_count": null,
   "metadata": {},
   "outputs": [],
   "source": [
    "# 1. 새로운 터미널을 킨다.\n",
    "# 2. pip uninstall -y keras\n",
    "# 3. pip uninstall -y tensorflow\n",
    "# 4. pip uninstall -y tensorflow-gpu\n",
    "# 5. rm -rf ~/.keras\n",
    "# 6. 새로 킨 터미널을 껏다가 다시 킨다.\n",
    "# 7. pip install tensorflow==1.14\n",
    "# 8. pip install keras==2.2.5\n",
    "# 9. 터미널을 다시 껏다가 킨다.\n",
    "# 10. jupyter notebook을 구동시킨다."
   ]
  },
  {
   "cell_type": "code",
   "execution_count": 1,
   "metadata": {},
   "outputs": [
    {
     "name": "stderr",
     "output_type": "stream",
     "text": [
      "Using TensorFlow backend.\n",
      "/home/bitai/anaconda3/lib/python3.7/site-packages/tensorflow/python/framework/dtypes.py:516: FutureWarning: Passing (type, 1) or '1type' as a synonym of type is deprecated; in a future version of numpy, it will be understood as (type, (1,)) / '(1,)type'.\n",
      "  _np_qint8 = np.dtype([(\"qint8\", np.int8, 1)])\n",
      "/home/bitai/anaconda3/lib/python3.7/site-packages/tensorflow/python/framework/dtypes.py:517: FutureWarning: Passing (type, 1) or '1type' as a synonym of type is deprecated; in a future version of numpy, it will be understood as (type, (1,)) / '(1,)type'.\n",
      "  _np_quint8 = np.dtype([(\"quint8\", np.uint8, 1)])\n",
      "/home/bitai/anaconda3/lib/python3.7/site-packages/tensorflow/python/framework/dtypes.py:518: FutureWarning: Passing (type, 1) or '1type' as a synonym of type is deprecated; in a future version of numpy, it will be understood as (type, (1,)) / '(1,)type'.\n",
      "  _np_qint16 = np.dtype([(\"qint16\", np.int16, 1)])\n",
      "/home/bitai/anaconda3/lib/python3.7/site-packages/tensorflow/python/framework/dtypes.py:519: FutureWarning: Passing (type, 1) or '1type' as a synonym of type is deprecated; in a future version of numpy, it will be understood as (type, (1,)) / '(1,)type'.\n",
      "  _np_quint16 = np.dtype([(\"quint16\", np.uint16, 1)])\n",
      "/home/bitai/anaconda3/lib/python3.7/site-packages/tensorflow/python/framework/dtypes.py:520: FutureWarning: Passing (type, 1) or '1type' as a synonym of type is deprecated; in a future version of numpy, it will be understood as (type, (1,)) / '(1,)type'.\n",
      "  _np_qint32 = np.dtype([(\"qint32\", np.int32, 1)])\n",
      "/home/bitai/anaconda3/lib/python3.7/site-packages/tensorflow/python/framework/dtypes.py:525: FutureWarning: Passing (type, 1) or '1type' as a synonym of type is deprecated; in a future version of numpy, it will be understood as (type, (1,)) / '(1,)type'.\n",
      "  np_resource = np.dtype([(\"resource\", np.ubyte, 1)])\n",
      "/home/bitai/anaconda3/lib/python3.7/site-packages/tensorboard/compat/tensorflow_stub/dtypes.py:541: FutureWarning: Passing (type, 1) or '1type' as a synonym of type is deprecated; in a future version of numpy, it will be understood as (type, (1,)) / '(1,)type'.\n",
      "  _np_qint8 = np.dtype([(\"qint8\", np.int8, 1)])\n",
      "/home/bitai/anaconda3/lib/python3.7/site-packages/tensorboard/compat/tensorflow_stub/dtypes.py:542: FutureWarning: Passing (type, 1) or '1type' as a synonym of type is deprecated; in a future version of numpy, it will be understood as (type, (1,)) / '(1,)type'.\n",
      "  _np_quint8 = np.dtype([(\"quint8\", np.uint8, 1)])\n",
      "/home/bitai/anaconda3/lib/python3.7/site-packages/tensorboard/compat/tensorflow_stub/dtypes.py:543: FutureWarning: Passing (type, 1) or '1type' as a synonym of type is deprecated; in a future version of numpy, it will be understood as (type, (1,)) / '(1,)type'.\n",
      "  _np_qint16 = np.dtype([(\"qint16\", np.int16, 1)])\n",
      "/home/bitai/anaconda3/lib/python3.7/site-packages/tensorboard/compat/tensorflow_stub/dtypes.py:544: FutureWarning: Passing (type, 1) or '1type' as a synonym of type is deprecated; in a future version of numpy, it will be understood as (type, (1,)) / '(1,)type'.\n",
      "  _np_quint16 = np.dtype([(\"quint16\", np.uint16, 1)])\n",
      "/home/bitai/anaconda3/lib/python3.7/site-packages/tensorboard/compat/tensorflow_stub/dtypes.py:545: FutureWarning: Passing (type, 1) or '1type' as a synonym of type is deprecated; in a future version of numpy, it will be understood as (type, (1,)) / '(1,)type'.\n",
      "  _np_qint32 = np.dtype([(\"qint32\", np.int32, 1)])\n",
      "/home/bitai/anaconda3/lib/python3.7/site-packages/tensorboard/compat/tensorflow_stub/dtypes.py:550: FutureWarning: Passing (type, 1) or '1type' as a synonym of type is deprecated; in a future version of numpy, it will be understood as (type, (1,)) / '(1,)type'.\n",
      "  np_resource = np.dtype([(\"resource\", np.ubyte, 1)])\n"
     ]
    }
   ],
   "source": [
    "from keras.applications.vgg16 import decode_predictions\n",
    "from keras.applications.vgg16 import preprocess_input\n",
    "from keras.applications.resnet50 import ResNet50\n",
    "from keras.preprocessing import image\n",
    "\n",
    "import numpy as np"
   ]
  },
  {
   "cell_type": "code",
   "execution_count": 13,
   "metadata": {},
   "outputs": [],
   "source": [
    "def prepare_img(img, target):\n",
    "    img = img.resize(target)\n",
    "    img = img_to_array(img)\n",
    "    img = np.expand_dims(img, axis = 0)\n",
    "    img = imagenet_utils.preprocess_input(img)\n",
    "    \n",
    "    return img"
   ]
  },
  {
   "cell_type": "code",
   "execution_count": 14,
   "metadata": {},
   "outputs": [],
   "source": [
    "resModel = None\n",
    "\n",
    "def load_model():\n",
    "    global resModel\n",
    "    resModel = ResNet50()"
   ]
  },
  {
   "cell_type": "code",
   "execution_count": 15,
   "metadata": {},
   "outputs": [
    {
     "name": "stdout",
     "output_type": "stream",
     "text": [
      "1.14.0\n"
     ]
    }
   ],
   "source": [
    "import keras.backend.tensorflow_backend as tb\n",
    "import tensorflow as tf\n",
    "\n",
    "global graph, model\n",
    "graph = tf.get_default_graph()\n",
    "\n",
    "print(tf.__version__)"
   ]
  },
  {
   "cell_type": "code",
   "execution_count": 16,
   "metadata": {},
   "outputs": [],
   "source": [
    "from flask import Flask, request, jsonify\n",
    "from werkzeug.utils import secure_filename"
   ]
  },
  {
   "cell_type": "code",
   "execution_count": null,
   "metadata": {},
   "outputs": [
    {
     "name": "stdout",
     "output_type": "stream",
     "text": [
      "WARNING:tensorflow:From /home/bitai/anaconda3/lib/python3.7/site-packages/keras/backend/tensorflow_backend.py:66: The name tf.get_default_graph is deprecated. Please use tf.compat.v1.get_default_graph instead.\n",
      "\n",
      "WARNING:tensorflow:From /home/bitai/anaconda3/lib/python3.7/site-packages/keras/backend/tensorflow_backend.py:541: The name tf.placeholder is deprecated. Please use tf.compat.v1.placeholder instead.\n",
      "\n",
      "WARNING:tensorflow:From /home/bitai/anaconda3/lib/python3.7/site-packages/keras/backend/tensorflow_backend.py:4479: The name tf.truncated_normal is deprecated. Please use tf.random.truncated_normal instead.\n",
      "\n",
      "WARNING:tensorflow:From /home/bitai/anaconda3/lib/python3.7/site-packages/keras/backend/tensorflow_backend.py:190: The name tf.get_default_session is deprecated. Please use tf.compat.v1.get_default_session instead.\n",
      "\n",
      "WARNING:tensorflow:From /home/bitai/anaconda3/lib/python3.7/site-packages/keras/backend/tensorflow_backend.py:197: The name tf.ConfigProto is deprecated. Please use tf.compat.v1.ConfigProto instead.\n",
      "\n",
      "WARNING:tensorflow:From /home/bitai/anaconda3/lib/python3.7/site-packages/keras/backend/tensorflow_backend.py:2041: The name tf.nn.fused_batch_norm is deprecated. Please use tf.compat.v1.nn.fused_batch_norm instead.\n",
      "\n",
      "WARNING:tensorflow:From /home/bitai/anaconda3/lib/python3.7/site-packages/keras/backend/tensorflow_backend.py:4267: The name tf.nn.max_pool is deprecated. Please use tf.nn.max_pool2d instead.\n",
      "\n",
      "Downloading data from https://github.com/fchollet/deep-learning-models/releases/download/v0.2/resnet50_weights_tf_dim_ordering_tf_kernels.h5\n",
      "102858752/102853048 [==============================] - 24s 0us/step\n",
      " * Serving Flask app \"__main__\" (lazy loading)\n",
      " * Environment: production\n",
      "   WARNING: This is a development server. Do not use it in a production deployment.\n",
      "   Use a production WSGI server instead.\n",
      " * Debug mode: off\n"
     ]
    },
    {
     "name": "stderr",
     "output_type": "stream",
     "text": [
      " * Running on http://127.0.0.1:5000/ (Press CTRL+C to quit)\n",
      "[2020-07-20 14:56:44,030] ERROR in app: Exception on /imgServer [POST]\n",
      "Traceback (most recent call last):\n",
      "  File \"/home/bitai/anaconda3/lib/python3.7/site-packages/flask/app.py\", line 2446, in wsgi_app\n",
      "    response = self.full_dispatch_request()\n",
      "  File \"/home/bitai/anaconda3/lib/python3.7/site-packages/flask/app.py\", line 1951, in full_dispatch_request\n",
      "    rv = self.handle_user_exception(e)\n",
      "  File \"/home/bitai/anaconda3/lib/python3.7/site-packages/flask/app.py\", line 1820, in handle_user_exception\n",
      "    reraise(exc_type, exc_value, tb)\n",
      "  File \"/home/bitai/anaconda3/lib/python3.7/site-packages/flask/_compat.py\", line 39, in reraise\n",
      "    raise value\n",
      "  File \"/home/bitai/anaconda3/lib/python3.7/site-packages/flask/app.py\", line 1949, in full_dispatch_request\n",
      "    rv = self.dispatch_request()\n",
      "  File \"/home/bitai/anaconda3/lib/python3.7/site-packages/flask/app.py\", line 1935, in dispatch_request\n",
      "    return self.view_functions[rule.endpoint](**req.view_args)\n",
      "  File \"<ipython-input-17-04b7b0606290>\", line 13, in analysis_img\n",
      "    file, target_size = (224, 224)\n",
      "  File \"/home/bitai/anaconda3/lib/python3.7/site-packages/keras_preprocessing/image/utils.py\", line 113, in load_img\n",
      "    with open(path, 'rb') as f:\n",
      "FileNotFoundError: [Errno 2] No such file or directory: 'test_image_2.jpg'\n",
      "127.0.0.1 - - [20/Jul/2020 14:56:44] \"\u001b[35m\u001b[1mPOST /imgServer HTTP/1.1\u001b[0m\" 500 -\n",
      "127.0.0.1 - - [20/Jul/2020 14:56:44] \"\u001b[33mGET /favicon.ico HTTP/1.1\u001b[0m\" 404 -\n"
     ]
    },
    {
     "name": "stdout",
     "output_type": "stream",
     "text": [
      "POST\n",
      "test_image_2.jpg\n"
     ]
    },
    {
     "name": "stderr",
     "output_type": "stream",
     "text": [
      "[2020-07-20 14:57:06,630] ERROR in app: Exception on /imgServer [POST]\n",
      "Traceback (most recent call last):\n",
      "  File \"/home/bitai/anaconda3/lib/python3.7/site-packages/flask/app.py\", line 2446, in wsgi_app\n",
      "    response = self.full_dispatch_request()\n",
      "  File \"/home/bitai/anaconda3/lib/python3.7/site-packages/flask/app.py\", line 1951, in full_dispatch_request\n",
      "    rv = self.handle_user_exception(e)\n",
      "  File \"/home/bitai/anaconda3/lib/python3.7/site-packages/flask/app.py\", line 1820, in handle_user_exception\n",
      "    reraise(exc_type, exc_value, tb)\n",
      "  File \"/home/bitai/anaconda3/lib/python3.7/site-packages/flask/_compat.py\", line 39, in reraise\n",
      "    raise value\n",
      "  File \"/home/bitai/anaconda3/lib/python3.7/site-packages/flask/app.py\", line 1949, in full_dispatch_request\n",
      "    rv = self.dispatch_request()\n",
      "  File \"/home/bitai/anaconda3/lib/python3.7/site-packages/flask/app.py\", line 1935, in dispatch_request\n",
      "    return self.view_functions[rule.endpoint](**req.view_args)\n",
      "  File \"<ipython-input-17-04b7b0606290>\", line 13, in analysis_img\n",
      "    file, target_size = (224, 224)\n",
      "  File \"/home/bitai/anaconda3/lib/python3.7/site-packages/keras_preprocessing/image/utils.py\", line 113, in load_img\n",
      "    with open(path, 'rb') as f:\n",
      "FileNotFoundError: [Errno 2] No such file or directory: 'test_image_1.jpg'\n",
      "127.0.0.1 - - [20/Jul/2020 14:57:06] \"\u001b[35m\u001b[1mPOST /imgServer HTTP/1.1\u001b[0m\" 500 -\n"
     ]
    },
    {
     "name": "stdout",
     "output_type": "stream",
     "text": [
      "POST\n",
      "test_image_1.jpg\n"
     ]
    },
    {
     "name": "stderr",
     "output_type": "stream",
     "text": [
      "[2020-07-20 14:57:49,845] ERROR in app: Exception on /imgServer [POST]\n",
      "Traceback (most recent call last):\n",
      "  File \"/home/bitai/anaconda3/lib/python3.7/site-packages/flask/app.py\", line 2446, in wsgi_app\n",
      "    response = self.full_dispatch_request()\n",
      "  File \"/home/bitai/anaconda3/lib/python3.7/site-packages/flask/app.py\", line 1951, in full_dispatch_request\n",
      "    rv = self.handle_user_exception(e)\n",
      "  File \"/home/bitai/anaconda3/lib/python3.7/site-packages/flask/app.py\", line 1820, in handle_user_exception\n",
      "    reraise(exc_type, exc_value, tb)\n",
      "  File \"/home/bitai/anaconda3/lib/python3.7/site-packages/flask/_compat.py\", line 39, in reraise\n",
      "    raise value\n",
      "  File \"/home/bitai/anaconda3/lib/python3.7/site-packages/flask/app.py\", line 1949, in full_dispatch_request\n",
      "    rv = self.dispatch_request()\n",
      "  File \"/home/bitai/anaconda3/lib/python3.7/site-packages/flask/app.py\", line 1935, in dispatch_request\n",
      "    return self.view_functions[rule.endpoint](**req.view_args)\n",
      "  File \"<ipython-input-17-04b7b0606290>\", line 13, in analysis_img\n",
      "    file, target_size = (224, 224)\n",
      "  File \"/home/bitai/anaconda3/lib/python3.7/site-packages/keras_preprocessing/image/utils.py\", line 113, in load_img\n",
      "    with open(path, 'rb') as f:\n",
      "FileNotFoundError: [Errno 2] No such file or directory: 'test_image_1.jpg'\n",
      "127.0.0.1 - - [20/Jul/2020 14:57:49] \"\u001b[35m\u001b[1mPOST /imgServer HTTP/1.1\u001b[0m\" 500 -\n"
     ]
    },
    {
     "name": "stdout",
     "output_type": "stream",
     "text": [
      "POST\n",
      "test_image_1.jpg\n"
     ]
    },
    {
     "name": "stderr",
     "output_type": "stream",
     "text": [
      "[2020-07-20 15:00:40,562] ERROR in app: Exception on /imgServer [POST]\n",
      "Traceback (most recent call last):\n",
      "  File \"/home/bitai/anaconda3/lib/python3.7/site-packages/flask/app.py\", line 2446, in wsgi_app\n",
      "    response = self.full_dispatch_request()\n",
      "  File \"/home/bitai/anaconda3/lib/python3.7/site-packages/flask/app.py\", line 1951, in full_dispatch_request\n",
      "    rv = self.handle_user_exception(e)\n",
      "  File \"/home/bitai/anaconda3/lib/python3.7/site-packages/flask/app.py\", line 1820, in handle_user_exception\n",
      "    reraise(exc_type, exc_value, tb)\n",
      "  File \"/home/bitai/anaconda3/lib/python3.7/site-packages/flask/_compat.py\", line 39, in reraise\n",
      "    raise value\n",
      "  File \"/home/bitai/anaconda3/lib/python3.7/site-packages/flask/app.py\", line 1949, in full_dispatch_request\n",
      "    rv = self.dispatch_request()\n",
      "  File \"/home/bitai/anaconda3/lib/python3.7/site-packages/flask/app.py\", line 1935, in dispatch_request\n",
      "    return self.view_functions[rule.endpoint](**req.view_args)\n",
      "  File \"<ipython-input-17-04b7b0606290>\", line 13, in analysis_img\n",
      "    file, target_size = (224, 224)\n",
      "  File \"/home/bitai/anaconda3/lib/python3.7/site-packages/keras_preprocessing/image/utils.py\", line 113, in load_img\n",
      "    with open(path, 'rb') as f:\n",
      "FileNotFoundError: [Errno 2] No such file or directory: 'test_image_2.jpg'\n",
      "127.0.0.1 - - [20/Jul/2020 15:00:40] \"\u001b[35m\u001b[1mPOST /imgServer HTTP/1.1\u001b[0m\" 500 -\n"
     ]
    },
    {
     "name": "stdout",
     "output_type": "stream",
     "text": [
      "POST\n",
      "test_image_2.jpg\n"
     ]
    },
    {
     "name": "stderr",
     "output_type": "stream",
     "text": [
      "[2020-07-20 15:01:55,774] ERROR in app: Exception on /imgServer [POST]\n",
      "Traceback (most recent call last):\n",
      "  File \"/home/bitai/anaconda3/lib/python3.7/site-packages/flask/app.py\", line 2446, in wsgi_app\n",
      "    response = self.full_dispatch_request()\n",
      "  File \"/home/bitai/anaconda3/lib/python3.7/site-packages/flask/app.py\", line 1951, in full_dispatch_request\n",
      "    rv = self.handle_user_exception(e)\n",
      "  File \"/home/bitai/anaconda3/lib/python3.7/site-packages/flask/app.py\", line 1820, in handle_user_exception\n",
      "    reraise(exc_type, exc_value, tb)\n",
      "  File \"/home/bitai/anaconda3/lib/python3.7/site-packages/flask/_compat.py\", line 39, in reraise\n",
      "    raise value\n",
      "  File \"/home/bitai/anaconda3/lib/python3.7/site-packages/flask/app.py\", line 1949, in full_dispatch_request\n",
      "    rv = self.dispatch_request()\n",
      "  File \"/home/bitai/anaconda3/lib/python3.7/site-packages/flask/app.py\", line 1935, in dispatch_request\n",
      "    return self.view_functions[rule.endpoint](**req.view_args)\n",
      "  File \"<ipython-input-17-04b7b0606290>\", line 13, in analysis_img\n",
      "    file, target_size = (224, 224)\n",
      "  File \"/home/bitai/anaconda3/lib/python3.7/site-packages/keras_preprocessing/image/utils.py\", line 113, in load_img\n",
      "    with open(path, 'rb') as f:\n",
      "FileNotFoundError: [Errno 2] No such file or directory: 'test_image_2.jpg'\n",
      "127.0.0.1 - - [20/Jul/2020 15:01:55] \"\u001b[35m\u001b[1mPOST /imgServer HTTP/1.1\u001b[0m\" 500 -\n"
     ]
    },
    {
     "name": "stdout",
     "output_type": "stream",
     "text": [
      "POST\n",
      "test_image_2.jpg\n",
      "POST\n",
      "test_image_2.jpg\n",
      "(1, 224, 224, 3)\n",
      "Downloading data from https://storage.googleapis.com/download.tensorflow.org/data/imagenet_class_index.json\n",
      "40960/35363 [==================================] - 0s 0us/step\n"
     ]
    },
    {
     "name": "stderr",
     "output_type": "stream",
     "text": [
      "127.0.0.1 - - [20/Jul/2020 15:04:46] \"\u001b[37mPOST /imgServer HTTP/1.1\u001b[0m\" 200 -\n",
      "127.0.0.1 - - [20/Jul/2020 15:07:46] \"\u001b[37mPOST /imgServer HTTP/1.1\u001b[0m\" 200 -\n"
     ]
    },
    {
     "name": "stdout",
     "output_type": "stream",
     "text": [
      "POST\n",
      "test_image_2.jpg\n",
      "(1, 224, 224, 3)\n"
     ]
    },
    {
     "name": "stderr",
     "output_type": "stream",
     "text": [
      "127.0.0.1 - - [20/Jul/2020 15:08:10] \"\u001b[37mPOST /imgServer HTTP/1.1\u001b[0m\" 200 -\n"
     ]
    },
    {
     "name": "stdout",
     "output_type": "stream",
     "text": [
      "POST\n",
      "test_image_2.jpg\n",
      "(1, 224, 224, 3)\n"
     ]
    },
    {
     "name": "stderr",
     "output_type": "stream",
     "text": [
      "127.0.0.1 - - [20/Jul/2020 15:08:15] \"\u001b[37mPOST /imgServer HTTP/1.1\u001b[0m\" 200 -\n",
      "127.0.0.1 - - [20/Jul/2020 15:08:15] \"\u001b[37mPOST /imgServer HTTP/1.1\u001b[0m\" 200 -\n"
     ]
    },
    {
     "name": "stdout",
     "output_type": "stream",
     "text": [
      "POST\n",
      "test_image_2.jpg\n",
      "POST(1, 224, 224, 3)\n",
      "\n",
      "test_image_2.jpg\n",
      "(1, 224, 224, 3)\n"
     ]
    }
   ],
   "source": [
    "app = Flask(__name__)\n",
    "\n",
    "@app.route('/imgServer', methods = ['GET', 'POST'])\n",
    "def analysis_img():\n",
    "    data = {\"success\": False}\n",
    "    if request.method == 'POST':\n",
    "        print('POST')\n",
    "        file = request.files['file']\n",
    "        file = secure_filename(file.filename)\n",
    "        print(file)\n",
    "        \n",
    "        sea_img = image.load_img(\n",
    "            file, target_size = (224, 224)\n",
    "        )\n",
    "        \n",
    "        trans_img = image.img_to_array(sea_img)\n",
    "        trans_img = np.expand_dims(trans_img, axis = 0)\n",
    "        trans_img = preprocess_input(trans_img)\n",
    "        print(trans_img.shape)\n",
    "        \n",
    "        # 파일을 열면 닫아줘야 하는 것처럼\n",
    "        # tensorflow에서도 세션을 열고 닫아줘야 함.\n",
    "        # with을 넣어주면 열고, 세션을 자동으로 닫아줌.\n",
    "        with graph.as_default():\n",
    "            pred = resModel.predict(trans_img)\n",
    "            \n",
    "        label = decode_predictions(pred)\n",
    "        data[\"predictions\"] = []\n",
    "        \n",
    "        for (imageNetID, label, prob) in label[0]:\n",
    "            r = {\n",
    "                \"label\": label,\n",
    "                \"probability\": float(prob)\n",
    "            }\n",
    "            \n",
    "            data[\"predictions\"].append(r)\n",
    "            \n",
    "        data[\"success\"] = True\n",
    "    \n",
    "    return jsonify(data)\n",
    "\n",
    "if __name__ == \"__main__\":\n",
    "    load_model()\n",
    "    app.run()"
   ]
  },
  {
   "cell_type": "code",
   "execution_count": null,
   "metadata": {},
   "outputs": [],
   "source": []
  }
 ],
 "metadata": {
  "kernelspec": {
   "display_name": "Python 3",
   "language": "python",
   "name": "python3"
  },
  "language_info": {
   "codemirror_mode": {
    "name": "ipython",
    "version": 3
   },
   "file_extension": ".py",
   "mimetype": "text/x-python",
   "name": "python",
   "nbconvert_exporter": "python",
   "pygments_lexer": "ipython3",
   "version": "3.7.6"
  }
 },
 "nbformat": 4,
 "nbformat_minor": 4
}
