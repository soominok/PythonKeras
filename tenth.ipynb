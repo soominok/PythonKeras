{
 "cells": [
  {
   "cell_type": "code",
   "execution_count": 1,
   "metadata": {},
   "outputs": [
    {
     "name": "stdout",
     "output_type": "stream",
     "text": [
      "[ 1  2  3  4  5  6  7  8  9 10]\n"
     ]
    }
   ],
   "source": [
    "# p.88\n",
    "\n",
    "import numpy as np\n",
    "\n",
    "vec1 = np.array([1, 2, 3, 4, 5, 6, 7, 8, 9, 10])\n",
    "print(vec1)"
   ]
  },
  {
   "cell_type": "code",
   "execution_count": 2,
   "metadata": {},
   "outputs": [
    {
     "name": "stdout",
     "output_type": "stream",
     "text": [
      "[ 1  2  3  4  5  6  7  8  9 10]\n"
     ]
    }
   ],
   "source": [
    "# 이 방식이 조금 더 편함!\n",
    "vec1 = np.arange(1, 11)\n",
    "\n",
    "print(vec1)"
   ]
  },
  {
   "cell_type": "code",
   "execution_count": 4,
   "metadata": {},
   "outputs": [
    {
     "name": "stdout",
     "output_type": "stream",
     "text": [
      "[[ 1  2  3]\n",
      " [ 4  5  6]\n",
      " [ 7  8  9]\n",
      " [10 11 12]]\n",
      "(4, 3)\n"
     ]
    }
   ],
   "source": [
    "mat1 = np.array([\n",
    "    [1,   2,  3],\n",
    "    [4,   5,  6],\n",
    "    [7,   8,  9],\n",
    "    [10, 11, 12]\n",
    "])\n",
    "\n",
    "print(mat1)\n",
    "print(mat1.shape) # 4행 3열의 행렬이라는 것을 알 수 있음."
   ]
  },
  {
   "cell_type": "code",
   "execution_count": 5,
   "metadata": {},
   "outputs": [
    {
     "name": "stdout",
     "output_type": "stream",
     "text": [
      "[[ 1  2  3]\n",
      " [ 4  5  6]\n",
      " [ 7  8  9]\n",
      " [10 11 12]]\n",
      "(4, 3)\n"
     ]
    }
   ],
   "source": [
    "mat2 = np.matrix([\n",
    "    [1,   2,  3],\n",
    "    [4,   5,  6],\n",
    "    [7,   8,  9],\n",
    "    [10, 11, 12]\n",
    "])\n",
    "\n",
    "print(mat2)\n",
    "print(mat2.shape)\n",
    "\n",
    "# 위와 결과 동일\n",
    "# mat1, mat2가 만들기 좀 번거로움."
   ]
  },
  {
   "cell_type": "code",
   "execution_count": 6,
   "metadata": {},
   "outputs": [
    {
     "name": "stdout",
     "output_type": "stream",
     "text": [
      "[[[ 1  2  3]\n",
      "  [ 4  5  6]]\n",
      "\n",
      " [[ 7  8  9]\n",
      "  [10 11 12]]]\n",
      "(2, 2, 3)\n"
     ]
    }
   ],
   "source": [
    "# 행렬 안에 행렬이 들어 있는 느낌\n",
    "ten1 = np.array([\n",
    "    [\n",
    "        [1, 2, 3],\n",
    "        [4, 5, 6]],\n",
    "        \n",
    "        [[7, 8, 9],\n",
    "        [10, 11, 12]\n",
    "    ]\n",
    "])\n",
    "\n",
    "print(ten1)\n",
    "print(ten1.shape)"
   ]
  },
  {
   "cell_type": "code",
   "execution_count": 7,
   "metadata": {},
   "outputs": [
    {
     "name": "stdout",
     "output_type": "stream",
     "text": [
      "[[ 2  4  6]\n",
      " [ 8 10 12]\n",
      " [14 16 18]\n",
      " [20 22 24]]\n"
     ]
    }
   ],
   "source": [
    "mat3 = mat1 + mat2\n",
    "print(mat3)"
   ]
  },
  {
   "cell_type": "code",
   "execution_count": 9,
   "metadata": {},
   "outputs": [
    {
     "ename": "ValueError",
     "evalue": "shapes (4,3) and (4,3) not aligned: 3 (dim 1) != 4 (dim 0)",
     "output_type": "error",
     "traceback": [
      "\u001b[0;31m---------------------------------------------------------------------------\u001b[0m",
      "\u001b[0;31mValueError\u001b[0m                                Traceback (most recent call last)",
      "\u001b[0;32m<ipython-input-9-a600386602ae>\u001b[0m in \u001b[0;36m<module>\u001b[0;34m\u001b[0m\n\u001b[0;32m----> 1\u001b[0;31m \u001b[0mmat4\u001b[0m \u001b[0;34m=\u001b[0m \u001b[0mmat1\u001b[0m \u001b[0;34m*\u001b[0m \u001b[0mmat2\u001b[0m\u001b[0;34m\u001b[0m\u001b[0;34m\u001b[0m\u001b[0m\n\u001b[0m\u001b[1;32m      2\u001b[0m \u001b[0mprint\u001b[0m\u001b[0;34m(\u001b[0m\u001b[0mmat4\u001b[0m\u001b[0;34m)\u001b[0m\u001b[0;34m\u001b[0m\u001b[0;34m\u001b[0m\u001b[0m\n",
      "\u001b[0;32m~/anaconda3/lib/python3.7/site-packages/numpy/matrixlib/defmatrix.py\u001b[0m in \u001b[0;36m__rmul__\u001b[0;34m(self, other)\u001b[0m\n\u001b[1;32m    224\u001b[0m \u001b[0;34m\u001b[0m\u001b[0m\n\u001b[1;32m    225\u001b[0m     \u001b[0;32mdef\u001b[0m \u001b[0m__rmul__\u001b[0m\u001b[0;34m(\u001b[0m\u001b[0mself\u001b[0m\u001b[0;34m,\u001b[0m \u001b[0mother\u001b[0m\u001b[0;34m)\u001b[0m\u001b[0;34m:\u001b[0m\u001b[0;34m\u001b[0m\u001b[0;34m\u001b[0m\u001b[0m\n\u001b[0;32m--> 226\u001b[0;31m         \u001b[0;32mreturn\u001b[0m \u001b[0mN\u001b[0m\u001b[0;34m.\u001b[0m\u001b[0mdot\u001b[0m\u001b[0;34m(\u001b[0m\u001b[0mother\u001b[0m\u001b[0;34m,\u001b[0m \u001b[0mself\u001b[0m\u001b[0;34m)\u001b[0m\u001b[0;34m\u001b[0m\u001b[0;34m\u001b[0m\u001b[0m\n\u001b[0m\u001b[1;32m    227\u001b[0m \u001b[0;34m\u001b[0m\u001b[0m\n\u001b[1;32m    228\u001b[0m     \u001b[0;32mdef\u001b[0m \u001b[0m__imul__\u001b[0m\u001b[0;34m(\u001b[0m\u001b[0mself\u001b[0m\u001b[0;34m,\u001b[0m \u001b[0mother\u001b[0m\u001b[0;34m)\u001b[0m\u001b[0;34m:\u001b[0m\u001b[0;34m\u001b[0m\u001b[0;34m\u001b[0m\u001b[0m\n",
      "\u001b[0;32m<__array_function__ internals>\u001b[0m in \u001b[0;36mdot\u001b[0;34m(*args, **kwargs)\u001b[0m\n",
      "\u001b[0;31mValueError\u001b[0m: shapes (4,3) and (4,3) not aligned: 3 (dim 1) != 4 (dim 0)"
     ]
    }
   ],
   "source": [
    "mat4 = mat1 * mat2\n",
    "print(mat4)"
   ]
  },
  {
   "cell_type": "code",
   "execution_count": 12,
   "metadata": {},
   "outputs": [
    {
     "name": "stdout",
     "output_type": "stream",
     "text": [
      "[[1 2 3]\n",
      " [4 5 6]\n",
      " [7 8 9]]\n",
      "(3, 3)\n",
      "[[ 4  5  6]\n",
      " [ 7  8  9]\n",
      " [10 11 12]]\n",
      "(3, 3)\n"
     ]
    }
   ],
   "source": [
    "mat3 = np.array([\n",
    "    [1,   2,  3],\n",
    "    [4,   5,  6],\n",
    "    [7,   8,  9],\n",
    "])\n",
    "\n",
    "print(mat3)\n",
    "print(mat3.shape) \n",
    "\n",
    "mat4 = np.matrix([\n",
    "    [4,   5,  6],\n",
    "    [7,   8,  9],\n",
    "    [10, 11, 12]\n",
    "])\n",
    "\n",
    "print(mat4)\n",
    "print(mat4.shape)"
   ]
  },
  {
   "cell_type": "code",
   "execution_count": 13,
   "metadata": {},
   "outputs": [
    {
     "name": "stdout",
     "output_type": "stream",
     "text": [
      "[[ 48  54  60]\n",
      " [111 126 141]\n",
      " [174 198 222]]\n"
     ]
    }
   ],
   "source": [
    "mat5 = mat3 * mat4\n",
    "print(mat5)"
   ]
  },
  {
   "cell_type": "code",
   "execution_count": null,
   "metadata": {},
   "outputs": [],
   "source": [
    "# 행렬 연산의 규칙\n",
    "# 행렬의 행과 열로 구성된다.\n",
    "# 행렬의 곱셈을 수행하기 위한 최소한의 규칙\n",
    "# m by n 행렬을 곱하려면 n by x가 되어야 한다.\n",
    "# 두 행렬의 곱셈 결과는 m by x가 된다."
   ]
  },
  {
   "cell_type": "code",
   "execution_count": 14,
   "metadata": {},
   "outputs": [
    {
     "ename": "ValueError",
     "evalue": "shapes (4,3) and (4,3) not aligned: 3 (dim 1) != 4 (dim 0)",
     "output_type": "error",
     "traceback": [
      "\u001b[0;31m---------------------------------------------------------------------------\u001b[0m",
      "\u001b[0;31mValueError\u001b[0m                                Traceback (most recent call last)",
      "\u001b[0;32m<ipython-input-14-d1742c3d64d3>\u001b[0m in \u001b[0;36m<module>\u001b[0;34m\u001b[0m\n\u001b[0;32m----> 1\u001b[0;31m \u001b[0mmat5\u001b[0m \u001b[0;34m=\u001b[0m \u001b[0mmat1\u001b[0m \u001b[0;34m*\u001b[0m \u001b[0mmat2\u001b[0m\u001b[0;34m\u001b[0m\u001b[0;34m\u001b[0m\u001b[0m\n\u001b[0m",
      "\u001b[0;32m~/anaconda3/lib/python3.7/site-packages/numpy/matrixlib/defmatrix.py\u001b[0m in \u001b[0;36m__rmul__\u001b[0;34m(self, other)\u001b[0m\n\u001b[1;32m    224\u001b[0m \u001b[0;34m\u001b[0m\u001b[0m\n\u001b[1;32m    225\u001b[0m     \u001b[0;32mdef\u001b[0m \u001b[0m__rmul__\u001b[0m\u001b[0;34m(\u001b[0m\u001b[0mself\u001b[0m\u001b[0;34m,\u001b[0m \u001b[0mother\u001b[0m\u001b[0;34m)\u001b[0m\u001b[0;34m:\u001b[0m\u001b[0;34m\u001b[0m\u001b[0;34m\u001b[0m\u001b[0m\n\u001b[0;32m--> 226\u001b[0;31m         \u001b[0;32mreturn\u001b[0m \u001b[0mN\u001b[0m\u001b[0;34m.\u001b[0m\u001b[0mdot\u001b[0m\u001b[0;34m(\u001b[0m\u001b[0mother\u001b[0m\u001b[0;34m,\u001b[0m \u001b[0mself\u001b[0m\u001b[0;34m)\u001b[0m\u001b[0;34m\u001b[0m\u001b[0;34m\u001b[0m\u001b[0m\n\u001b[0m\u001b[1;32m    227\u001b[0m \u001b[0;34m\u001b[0m\u001b[0m\n\u001b[1;32m    228\u001b[0m     \u001b[0;32mdef\u001b[0m \u001b[0m__imul__\u001b[0m\u001b[0;34m(\u001b[0m\u001b[0mself\u001b[0m\u001b[0;34m,\u001b[0m \u001b[0mother\u001b[0m\u001b[0;34m)\u001b[0m\u001b[0;34m:\u001b[0m\u001b[0;34m\u001b[0m\u001b[0;34m\u001b[0m\u001b[0m\n",
      "\u001b[0;32m<__array_function__ internals>\u001b[0m in \u001b[0;36mdot\u001b[0;34m(*args, **kwargs)\u001b[0m\n",
      "\u001b[0;31mValueError\u001b[0m: shapes (4,3) and (4,3) not aligned: 3 (dim 1) != 4 (dim 0)"
     ]
    }
   ],
   "source": [
    "mat5 = mat1 * mat2"
   ]
  },
  {
   "cell_type": "code",
   "execution_count": 41,
   "metadata": {},
   "outputs": [
    {
     "name": "stdout",
     "output_type": "stream",
     "text": [
      "[[[ 1  5  9]\n",
      "  [ 3  7 11]]\n",
      "\n",
      " [[ 2  6 10]\n",
      "  [ 4  8 12]]]\n",
      "[[[ 1  2]\n",
      "  [ 3  4]]\n",
      "\n",
      " [[ 5  6]\n",
      "  [ 7  8]]\n",
      "\n",
      " [[ 9 10]\n",
      "  [11 12]]]\n",
      "(2, 2, 3)\n",
      "(3, 2, 2)\n"
     ]
    }
   ],
   "source": [
    "# 전치 행렬 = 행과 열의 위치를 바꾼다.\n",
    "print(mat1.T) \n",
    "print(mat1)\n",
    "print(mat1.T.shape) # 행렬의 사이즈가 바뀜\n",
    "print(mat1.shape)"
   ]
  },
  {
   "cell_type": "code",
   "execution_count": 16,
   "metadata": {},
   "outputs": [
    {
     "name": "stdout",
     "output_type": "stream",
     "text": [
      "[[166 188 210]\n",
      " [188 214 240]\n",
      " [210 240 270]]\n"
     ]
    }
   ],
   "source": [
    "# 3 by 4 * 4 by 3 => 3 by 3\n",
    "mat5 = mat1.T * mat2\n",
    "print(mat5)\n",
    "\n",
    "# 케라스 쓰면서 많이 실수하는 것은?\n",
    "# 자꾸 오류 메세지로 차원이 안맞는다고 뜨는데 왜 그렇지?\n",
    "# convolution도 행렬 연산인데, 행렬 연산을 할 때 size 안맞는걸 행렬 연산하면\n",
    "# 자꾸 오류가 뜨는 것!\n",
    "# 행렬 연산에는 위와 같이 규칙을 지켜줘야 함.\n",
    "\n",
    "# 166 =  1*1 + ~~~ 다시~~"
   ]
  },
  {
   "cell_type": "code",
   "execution_count": 17,
   "metadata": {},
   "outputs": [
    {
     "name": "stdout",
     "output_type": "stream",
     "text": [
      "[[ 14  32  50  68]\n",
      " [ 32  77 122 167]\n",
      " [ 50 122 194 266]\n",
      " [ 68 167 266 365]]\n"
     ]
    }
   ],
   "source": [
    "# 4 by 3 * 3 by 4 => 4 by 4\n",
    "mat5 = mat1 * mat2.T\n",
    "print(mat5)"
   ]
  },
  {
   "cell_type": "code",
   "execution_count": 18,
   "metadata": {},
   "outputs": [
    {
     "name": "stdout",
     "output_type": "stream",
     "text": [
      "(10,)\n"
     ]
    }
   ],
   "source": [
    "print(vec1.shape)\n",
    "# 1차원 10개 있음"
   ]
  },
  {
   "cell_type": "code",
   "execution_count": 19,
   "metadata": {},
   "outputs": [
    {
     "name": "stdout",
     "output_type": "stream",
     "text": [
      "[[ 0  2  4]\n",
      " [ 6  8 10]]\n",
      "(2, 3)\n"
     ]
    }
   ],
   "source": [
    "# 위의 예제들을 스마트하게 만들어보기!\n",
    "# 행렬 쉽게 만들기\n",
    "\n",
    "# np.arange(0, 11, 2) 시작이 0 ~ 11까지 2씩 증가, \n",
    "# reshape((2, 3) : 행 2, 열 3으로 만들자!\n",
    "smartMat = np.arange(0, 11, 2).reshape((2, 3))\n",
    "\n",
    "print(smartMat)\n",
    "print(smartMat.shape)\n"
   ]
  },
  {
   "cell_type": "code",
   "execution_count": 20,
   "metadata": {},
   "outputs": [
    {
     "name": "stdout",
     "output_type": "stream",
     "text": [
      "[[ 5  6  7]\n",
      " [ 8  9 10]\n",
      " [11 12 13]\n",
      " [14 15 16]]\n"
     ]
    }
   ],
   "source": [
    "# 전체 행렬에 4를 더한 형태\n",
    "# 행렬에 스칼라 더한 형태\n",
    "test = mat1 + 4\n",
    "\n",
    "print(test)"
   ]
  },
  {
   "cell_type": "code",
   "execution_count": 21,
   "metadata": {},
   "outputs": [
    {
     "name": "stdout",
     "output_type": "stream",
     "text": [
      "[[ 1  2  3  4]\n",
      " [ 5  6  7  8]\n",
      " [ 9 10 11 12]]\n",
      "(3, 4)\n"
     ]
    }
   ],
   "source": [
    "smartMat2 = np.arange(1, 13).reshape((3, 4))\n",
    "\n",
    "print(smartMat2)\n",
    "print(smartMat2.shape)"
   ]
  },
  {
   "cell_type": "code",
   "execution_count": 24,
   "metadata": {},
   "outputs": [
    {
     "name": "stdout",
     "output_type": "stream",
     "text": [
      "4\n"
     ]
    }
   ],
   "source": [
    "print(len(mat1))"
   ]
  },
  {
   "cell_type": "code",
   "execution_count": 25,
   "metadata": {},
   "outputs": [
    {
     "name": "stdout",
     "output_type": "stream",
     "text": [
      "[ 1  2  3  4  5  6  7  8  9 10 11 12]\n"
     ]
    }
   ],
   "source": [
    "# 차원 변환이 필요한 경우가 있음 - 가우스-조르단 소거법\n",
    "\n",
    "# 행렬을 1차원 벡터로 변환해야할 경우가 있음 \n",
    "# -> 가우스 - 조르단 소거법을 사용해야 할 때 \n",
    "# -> 어떤 선들이 여러 개 있을 때 그 선들의 교차성분을 찾으려고 할 때는 그들의 연립방정식을 계산해서 x,y (,z) 값을 찾아야 함.\n",
    "# >>> 그 성분을 연립방정식을 만족시키면서 뽑아내야 할 때,\n",
    "#     식이 10개라면 10원 연립방정식은 너무 어렵기 때문에 가우스-조르단 소거법을 사용!\n",
    "# 4 by 3 행렬을 1차원 벡터로 변환!\n",
    "mat1 = mat1.reshape(mat1.shape[0] * mat1.shape[1])\n",
    "\n",
    "print(mat1)"
   ]
  },
  {
   "cell_type": "code",
   "execution_count": 27,
   "metadata": {},
   "outputs": [
    {
     "name": "stdout",
     "output_type": "stream",
     "text": [
      "[[ 1  2  3]\n",
      " [ 4  5  6]\n",
      " [ 7  8  9]\n",
      " [10 11 12]]\n"
     ]
    }
   ],
   "source": [
    "print(mat2)"
   ]
  },
  {
   "cell_type": "code",
   "execution_count": 34,
   "metadata": {},
   "outputs": [
    {
     "name": "stdout",
     "output_type": "stream",
     "text": [
      "[[[ 1  2]\n",
      "  [ 3  4]]\n",
      "\n",
      " [[ 5  6]\n",
      "  [ 7  8]]\n",
      "\n",
      " [[ 9 10]\n",
      "  [11 12]]]\n"
     ]
    }
   ],
   "source": [
    "# 텐서 만들기\n",
    "\n",
    "# 텐서를 해석하는 방법 (다중 배열과 동일)\n",
    "# 맨 앞의 숫자가 큰 집합의 개수를 의미함\n",
    "# 뒤쪽의 2개는 행렬의 모양을 의미\n",
    "# 즉 뒤쪽에 2개를 통해 행렬의 모양을 잡고\n",
    "# 맨 앞의 숫자를 통해 해당 행렬이 몇 개 있는지 파악하면 된다.\n",
    "\n",
    "\n",
    "# 3개의 큰 행렬 집합이 있고, 2 by 2 행렬들이 들어 있음.\n",
    "ten2 = mat1.reshape((3, 2, 2))\n",
    "\n",
    "print(ten2)\n"
   ]
  },
  {
   "cell_type": "code",
   "execution_count": 48,
   "metadata": {},
   "outputs": [
    {
     "name": "stdout",
     "output_type": "stream",
     "text": [
      "[[[1 2 3]\n",
      "  [4 5 6]]\n",
      "\n",
      " [[1 2 3]\n",
      "  [4 5 6]]]\n",
      "(2, 2, 3)\n"
     ]
    }
   ],
   "source": [
    "# 계산하기 편하려면 편한 숫자로 잡아보자!\n",
    "# 타입을 바꿔서 출력\n",
    "ret = np.matrix(np.arange(1, 7)). reshape((2, 3))\n",
    "\n",
    "ten3 = np.array([\n",
    "    ret, ret\n",
    "]) \n",
    "\n",
    "print(ten3)\n",
    "print(ten3.shape)"
   ]
  },
  {
   "cell_type": "code",
   "execution_count": 50,
   "metadata": {},
   "outputs": [
    {
     "name": "stdout",
     "output_type": "stream",
     "text": [
      "[[[1 2 3]\n",
      "  [4 5 6]]\n",
      "\n",
      " [[2 3 4]\n",
      "  [5 6 7]]]\n"
     ]
    }
   ],
   "source": [
    "ret2 = np.matrix(np.arange(2, 8)).reshape((2, 3))\n",
    "\n",
    "ten33 = np.array([\n",
    "    ret, ret2\n",
    "]) \n",
    "\n",
    "print(ten33)"
   ]
  },
  {
   "cell_type": "code",
   "execution_count": 36,
   "metadata": {},
   "outputs": [
    {
     "name": "stdout",
     "output_type": "stream",
     "text": [
      "[[[1 1]\n",
      "  [4 4]]\n",
      "\n",
      " [[2 2]\n",
      "  [5 5]]\n",
      "\n",
      " [[3 3]\n",
      "  [6 6]]]\n",
      "(3, 2, 2)\n"
     ]
    }
   ],
   "source": [
    "# 텐서 간의 연산을 하기 위해 차원 맞추기\n",
    "\n",
    "print(ten3.T)\n",
    "print(ten3.T.shape)\n",
    "\n",
    "# [[[1 1]\n",
    "#  [4 4]]\n",
    "# 특정한 지점의 픽셀 값\n",
    "\n",
    "# [[2 2]\n",
    "#  [5 5]]\n",
    "# 그 다음 장면에서의 해당 위치의 픽셀 값"
   ]
  },
  {
   "cell_type": "code",
   "execution_count": 42,
   "metadata": {},
   "outputs": [
    {
     "ename": "ValueError",
     "evalue": "shapes (2,2,3) and (3,2,2) not aligned: 3 (dim 2) != 2 (dim 1)",
     "output_type": "error",
     "traceback": [
      "\u001b[0;31m---------------------------------------------------------------------------\u001b[0m",
      "\u001b[0;31mValueError\u001b[0m                                Traceback (most recent call last)",
      "\u001b[0;32m<ipython-input-42-ce0fc024961e>\u001b[0m in \u001b[0;36m<module>\u001b[0;34m\u001b[0m\n\u001b[1;32m     11\u001b[0m \u001b[0;34m\u001b[0m\u001b[0m\n\u001b[1;32m     12\u001b[0m \u001b[0;31m# 그래서 텐서의 연산은 dot()을 사용!!\u001b[0m\u001b[0;34m\u001b[0m\u001b[0;34m\u001b[0m\u001b[0;34m\u001b[0m\u001b[0m\n\u001b[0;32m---> 13\u001b[0;31m \u001b[0mten4\u001b[0m \u001b[0;34m=\u001b[0m \u001b[0mten3\u001b[0m\u001b[0;34m.\u001b[0m\u001b[0mdot\u001b[0m\u001b[0;34m(\u001b[0m\u001b[0mten2\u001b[0m\u001b[0;34m)\u001b[0m\u001b[0;34m\u001b[0m\u001b[0;34m\u001b[0m\u001b[0m\n\u001b[0m\u001b[1;32m     14\u001b[0m \u001b[0;31m# >>> 에러 남\u001b[0m\u001b[0;34m\u001b[0m\u001b[0;34m\u001b[0m\u001b[0;34m\u001b[0m\u001b[0m\n",
      "\u001b[0;31mValueError\u001b[0m: shapes (2,2,3) and (3,2,2) not aligned: 3 (dim 2) != 2 (dim 1)"
     ]
    }
   ],
   "source": [
    "# 텐서 연산\n",
    "# 텐서는 곱셈으로 표현할 수가 없음.\n",
    "\n",
    "# 왜?\n",
    "# 상대성 이론을 만들기 위해 도입된 수학이 텐서\n",
    "# 텐서 도트연산, 크로스연산, 사이클링 연산\n",
    "# 벡터 >> 내적(토트 프로덕트), 외적(크로스 프로덕트) \n",
    "# 텐서에서도 dot product, cross product 구현 가능!\n",
    "# 대신 cross product 구현하려면 사이클링 연산을 구현해야 함.\n",
    "# 사이클링 연산은 보통 잘 안씀\n",
    "\n",
    "# 일반적으로는 dot product를 주로 사용.\n",
    "\n",
    "# 그래서 텐서의 연산은 dot()을 사용!!\n",
    "ten4 = ten3.dot(ten2)\n",
    "# >>> 에러 남"
   ]
  },
  {
   "cell_type": "code",
   "execution_count": 53,
   "metadata": {},
   "outputs": [
    {
     "name": "stdout",
     "output_type": "stream",
     "text": [
      "(3, 2, 2)\n",
      "(2, 2, 3)\n"
     ]
    }
   ],
   "source": [
    "print(ten2.shape)\n",
    "print(ten3.shape)"
   ]
  },
  {
   "cell_type": "code",
   "execution_count": 54,
   "metadata": {},
   "outputs": [
    {
     "name": "stdout",
     "output_type": "stream",
     "text": [
      "[[[[  9  12  15]\n",
      "   [  9  12  15]]\n",
      "\n",
      "  [[ 19  26  33]\n",
      "   [ 19  26  33]]]\n",
      "\n",
      "\n",
      " [[[ 29  40  51]\n",
      "   [ 29  40  51]]\n",
      "\n",
      "  [[ 39  54  69]\n",
      "   [ 39  54  69]]]\n",
      "\n",
      "\n",
      " [[[ 49  68  87]\n",
      "   [ 49  68  87]]\n",
      "\n",
      "  [[ 59  82 105]\n",
      "   [ 59  82 105]]]]\n",
      "(3, 2, 2, 3)\n"
     ]
    }
   ],
   "source": [
    "# [[[ 1  2]   [[[1 2 3]\n",
    "#   [ 3  4]]    [4 5 6]]\n",
    "#             [[1 2 3]\n",
    "#               [4 5 6]]]\n",
    "\n",
    "# [[ 5  6]\n",
    "#  [ 7  8]]\n",
    "\n",
    "# [[ 9 10]\n",
    "#  [11 12]]]\n",
    "\n",
    "ten4 = ten2.dot(ten3)\n",
    "print(ten4)\n",
    "print(ten4.shape)\n",
    "# p.84에서\n",
    "# convolutin network가 바로 이런 연산을 따라감!\n",
    "\n",
    "# 이 경우는 2 by 3 짜리가 6개 생기는 구조여서 \n",
    "# 이렇게 구성되도록 텐서 연산하면 안되고\n",
    "# (x, 2, 2) or (x, 3, 3)이런식으로 맞춰줘야 함"
   ]
  },
  {
   "cell_type": "code",
   "execution_count": 55,
   "metadata": {},
   "outputs": [
    {
     "name": "stdout",
     "output_type": "stream",
     "text": [
      "[[[[  9  12  15]\n",
      "   [ 12  15  18]]\n",
      "\n",
      "  [[ 19  26  33]\n",
      "   [ 26  33  40]]]\n",
      "\n",
      "\n",
      " [[[ 29  40  51]\n",
      "   [ 40  51  62]]\n",
      "\n",
      "  [[ 39  54  69]\n",
      "   [ 54  69  84]]]\n",
      "\n",
      "\n",
      " [[[ 49  68  87]\n",
      "   [ 68  87 106]]\n",
      "\n",
      "  [[ 59  82 105]\n",
      "   [ 82 105 128]]]]\n",
      "(3, 2, 2, 3)\n"
     ]
    }
   ],
   "source": [
    "# [[[ 1  2]   [[[1 2 3]\n",
    "#   [ 3  4]]    [4 5 6]]\n",
    "#              [[2 3 4]\n",
    "#               [5 6 7]]]\n",
    "\n",
    "# [[ 5  6]\n",
    "#  [ 7  8]]\n",
    "\n",
    "# [[ 9 10]\n",
    "#  [11 12]]]\n",
    "\n",
    "ten44 = ten2.dot(ten33)\n",
    "print(ten44)\n",
    "print(ten44.shape)"
   ]
  },
  {
   "cell_type": "code",
   "execution_count": 47,
   "metadata": {},
   "outputs": [
    {
     "name": "stdout",
     "output_type": "stream",
     "text": [
      "[[1 2]\n",
      " [3 4]]\n",
      "[[1 2]\n",
      " [3 4]]\n",
      "[[ 1  4]\n",
      " [ 9 16]]\n",
      "[[ 7 10]\n",
      " [15 22]]\n"
     ]
    }
   ],
   "source": [
    "testMat1 = np.arange(1, 5).reshape((2, 2))\n",
    "testMat2 = np.arange(1, 5).reshape((2, 2))\n",
    "\n",
    "print(testMat1)\n",
    "print(testMat2)\n",
    "\n",
    "# 가능한 경우는 차원이 같을 때만!\n",
    "# 같은 위치끼리 곱해 줌\n",
    "print(testMat1 * testMat2)\n",
    "\n",
    "# 꼭 .dot() 해줘야 제대로 계산 됨!\n",
    "print(testMat1.dot(testMat2))"
   ]
  },
  {
   "cell_type": "code",
   "execution_count": 56,
   "metadata": {},
   "outputs": [],
   "source": [
    "# 인공지능 공부 순서\n",
    "# 1. 선형대수 (가징 기본) - rank\n",
    "#                       텐서 공부하려면 수리물리학 (아프켄, 보아스)\n",
    "# 2. 통계학\n",
    "# 3. 공업수학(라플라스 변환, 푸리에 변환)\n",
    "# 4. 커스텀 라이브러리"
   ]
  },
  {
   "cell_type": "code",
   "execution_count": 57,
   "metadata": {},
   "outputs": [],
   "source": [
    "# 실습!! #\n",
    "\n",
    "from keras.models import Sequential\n",
    "model = Sequential()\n",
    "\n",
    "# 합성곱 = 콘볼루션(Convolution), 컨벌루션"
   ]
  },
  {
   "cell_type": "code",
   "execution_count": 58,
   "metadata": {},
   "outputs": [],
   "source": [
    "from keras.layers import Dense\n",
    "from keras.models import Sequential\n",
    "input_shape = 20\n",
    "units = 1\n",
    "model.add(Dense(units, input_dim = input_shape))"
   ]
  },
  {
   "cell_type": "code",
   "execution_count": 59,
   "metadata": {},
   "outputs": [],
   "source": [
    "from keras.layers import Dense, Activation\n",
    "from keras.models import Sequential\n",
    "input_shape = 20\n",
    "units = 1\n",
    "model.add(Dense(units, input_dim = input_shape))\n",
    "model.add(Activation('tanh'))"
   ]
  },
  {
   "cell_type": "code",
   "execution_count": 61,
   "metadata": {},
   "outputs": [],
   "source": [
    "model.compile(optimizer = 'adam', loss = 'binary_crossentropy', metrics = ['accuracy'])"
   ]
  },
  {
   "cell_type": "code",
   "execution_count": 64,
   "metadata": {},
   "outputs": [
    {
     "ename": "NameError",
     "evalue": "name 'X_train' is not defined",
     "output_type": "error",
     "traceback": [
      "\u001b[0;31m---------------------------------------------------------------------------\u001b[0m",
      "\u001b[0;31mNameError\u001b[0m                                 Traceback (most recent call last)",
      "\u001b[0;32m<ipython-input-64-60317a4175dd>\u001b[0m in \u001b[0;36m<module>\u001b[0;34m\u001b[0m\n\u001b[1;32m      1\u001b[0m \u001b[0;31m# fit이 y = Mx + b 를 만드는 과정\u001b[0m\u001b[0;34m\u001b[0m\u001b[0;34m\u001b[0m\u001b[0;34m\u001b[0m\u001b[0m\n\u001b[0;32m----> 2\u001b[0;31m \u001b[0mhistory\u001b[0m \u001b[0;34m=\u001b[0m \u001b[0mmodel\u001b[0m\u001b[0;34m.\u001b[0m\u001b[0mfit\u001b[0m\u001b[0;34m(\u001b[0m\u001b[0mx\u001b[0m \u001b[0;34m=\u001b[0m \u001b[0mX_train\u001b[0m\u001b[0;34m,\u001b[0m \u001b[0my\u001b[0m \u001b[0;34m=\u001b[0m \u001b[0my_train\u001b[0m\u001b[0;34m[\u001b[0m\u001b[0;34m'y'\u001b[0m\u001b[0;34m]\u001b[0m\u001b[0;34m,\u001b[0m \u001b[0mepochs\u001b[0m \u001b[0;34m=\u001b[0m \u001b[0;36m10\u001b[0m\u001b[0;34m,\u001b[0m \u001b[0mbatch_size\u001b[0m \u001b[0;34m=\u001b[0m \u001b[0;36m32\u001b[0m\u001b[0;34m,\u001b[0m \u001b[0mvalidation_split\u001b[0m \u001b[0;34m=\u001b[0m \u001b[0;36m0.2\u001b[0m\u001b[0;34m)\u001b[0m\u001b[0;34m\u001b[0m\u001b[0;34m\u001b[0m\u001b[0m\n\u001b[0m",
      "\u001b[0;31mNameError\u001b[0m: name 'X_train' is not defined"
     ]
    }
   ],
   "source": [
    "# fit이 y = Mx + b 를 만드는 과정\n",
    "history = model.fit(x = X_train, y = y_train['y'], epochs = 10, batch_size = 32, validation_split = 0.2)"
   ]
  },
  {
   "cell_type": "code",
   "execution_count": null,
   "metadata": {},
   "outputs": [],
   "source": []
  },
  {
   "cell_type": "code",
   "execution_count": null,
   "metadata": {},
   "outputs": [],
   "source": []
  },
  {
   "cell_type": "code",
   "execution_count": null,
   "metadata": {},
   "outputs": [],
   "source": []
  },
  {
   "cell_type": "code",
   "execution_count": 85,
   "metadata": {},
   "outputs": [
    {
     "name": "stdout",
     "output_type": "stream",
     "text": [
      "Applied-Deep-Learning-with-Keras  nineth.ipynb\t\t tenth.ipynb\r\n",
      "data\t\t\t\t  nineth_practice.ipynb  Untitled.ipynb\r\n",
      "eighth.ipynb\t\t\t  README.md\r\n",
      "LICENSE\t\t\t\t  seventh.ipynb\r\n"
     ]
    }
   ],
   "source": [
    "!ls"
   ]
  },
  {
   "cell_type": "code",
   "execution_count": 87,
   "metadata": {},
   "outputs": [
    {
     "name": "stdout",
     "output_type": "stream",
     "text": [
      "Lesson01  Lesson03  Lesson05  Lesson07\tLesson09  README.md\r\n",
      "Lesson02  Lesson04  Lesson06  Lesson08\tLICENSE\r\n"
     ]
    }
   ],
   "source": [
    "!ls Applied-Deep-Learning-with-Keras"
   ]
  },
  {
   "cell_type": "code",
   "execution_count": 90,
   "metadata": {},
   "outputs": [
    {
     "name": "stdout",
     "output_type": "stream",
     "text": [
      "Activity01.ipynb  data\t\t    Exercise02.ipynb  Exercise04.ipynb\r\n",
      "bank.zip\t  Exercise01.ipynb  Exercise03.ipynb  Exercise05.ipynb\r\n"
     ]
    }
   ],
   "source": [
    "!ls Applied-Deep-Learning-with-Keras/Lesson01"
   ]
  },
  {
   "cell_type": "code",
   "execution_count": 91,
   "metadata": {},
   "outputs": [
    {
     "name": "stdout",
     "output_type": "stream",
     "text": [
      "bank.csv\t\tbank_data_feats_e2.csv\tbank_data_target_e2.csv\r\n",
      "bank_data_feats_a2.csv\tbank_data_feats_e3.csv\tbank-full.csv\r\n",
      "bank_data_feats.csv\tbank_data_target.csv\tbank-names.txt\r\n"
     ]
    }
   ],
   "source": [
    "!ls Applied-Deep-Learning-with-Keras/Lesson01/data/"
   ]
  },
  {
   "cell_type": "code",
   "execution_count": 1,
   "metadata": {},
   "outputs": [],
   "source": [
    "import pandas as pd\n",
    "feats = pd.read_csv('Applied-Deep-Learning-with-Keras/Lesson01/data/bank_data_feats_e3.csv', index_col = 0)\n",
    "target = pd.read_csv('Applied-Deep-Learning-with-Keras/Lesson01/data/bank_data_target_e2.csv', index_col = 0)"
   ]
  },
  {
   "cell_type": "code",
   "execution_count": 2,
   "metadata": {},
   "outputs": [],
   "source": [
    "from sklearn.model_selection import train_test_split\n",
    "test_size = 0.2\n",
    "random_state = 42\n",
    "X_train, X_test, y_train, y_test = train_test_split(feats, target, test_size = test_size, random_state = random_state)"
   ]
  },
  {
   "cell_type": "code",
   "execution_count": 3,
   "metadata": {},
   "outputs": [
    {
     "name": "stdout",
     "output_type": "stream",
     "text": [
      "(3616, 32)\n",
      "(905, 32)\n",
      "(3616, 1)\n",
      "(905, 1)\n"
     ]
    }
   ],
   "source": [
    "# 변수 32개 >>> 이 변수들이 독립적이라고 할 수는 없지만 그냥 일단 보는 것\n",
    "print(X_train.shape)\n",
    "print(X_test.shape)\n",
    "print(y_train.shape)\n",
    "print(y_test.shape)"
   ]
  },
  {
   "cell_type": "code",
   "execution_count": 4,
   "metadata": {},
   "outputs": [],
   "source": [
    "from keras.models import Sequential\n",
    "model = Sequential()"
   ]
  },
  {
   "cell_type": "code",
   "execution_count": 6,
   "metadata": {},
   "outputs": [],
   "source": [
    "from keras.layers import Dense, Activation\n",
    "from keras.models import Sequential\n",
    "\n",
    "input_shape = X_train.shape[1]\n",
    "units = 1\n",
    "\n",
    "model.add(Dense(units, input_dim = input_shape))\n",
    "model.add(Activation('tanh'))"
   ]
  },
  {
   "cell_type": "code",
   "execution_count": 7,
   "metadata": {},
   "outputs": [],
   "source": [
    "model.compile(optimizer = 'adam', loss = 'binary_crossentropy', metrics = ['accuracy'])"
   ]
  },
  {
   "cell_type": "code",
   "execution_count": 8,
   "metadata": {},
   "outputs": [
    {
     "name": "stdout",
     "output_type": "stream",
     "text": [
      "Model: \"sequential\"\n",
      "_________________________________________________________________\n",
      "Layer (type)                 Output Shape              Param #   \n",
      "=================================================================\n",
      "dense (Dense)                (None, 1)                 33        \n",
      "_________________________________________________________________\n",
      "activation (Activation)      (None, 1)                 0         \n",
      "=================================================================\n",
      "Total params: 33\n",
      "Trainable params: 33\n",
      "Non-trainable params: 0\n",
      "_________________________________________________________________\n",
      "None\n"
     ]
    }
   ],
   "source": [
    "print(model.summary()) \n",
    "# summary를 통해서 정보 얻을 수 있음.\n",
    "# 전체 파라미터와 우리가 구성한 인공지능 신경망 네트워크를 보여줌.\n",
    "# 아주 단순하게 구성되어 있음.\n",
    "\n",
    "# dense 네트워크는 입력과 출력을 그냥 묶어 줌\n",
    "# 파라미터 33개 >>> 이유는? y = f(x)인데, x에 대한 변수가 32개 있음\n",
    "# 32 + y = 33개\n",
    "# output shape은 행이 없음. 열 값만 있음 >>> y값 하나만 띡 나오는 것\n",
    "\n",
    "# Activation function은 파라미터가 0\n",
    "# 외부로부터 유입되는 파라미터가 없기 때문! \n",
    "# >>> 단순히 넘어온 정보 받아서 tanh해주는 것 \n",
    "\n",
    "# 이 모델은 y와 x(dense)만 연결한 것이니까 \n",
    "# 데이터가 들어와서 그냥 쭉 빠지는 것\n",
    "# 아무리 학습해도 개선이 안됨\n",
    "# >> 데이터가 아무런 가공도 없이 쭉 들어가서 쭉 빠지기 때문!"
   ]
  },
  {
   "cell_type": "code",
   "execution_count": 9,
   "metadata": {},
   "outputs": [
    {
     "name": "stdout",
     "output_type": "stream",
     "text": [
      "Epoch 1/10\n",
      "91/91 [==============================] - 0s 2ms/step - loss: 2.8838 - accuracy: 0.8008 - val_loss: 2.7403 - val_accuracy: 0.8191\n",
      "Epoch 2/10\n",
      "91/91 [==============================] - 0s 823us/step - loss: 2.6368 - accuracy: 0.8226 - val_loss: 2.6452 - val_accuracy: 0.8260\n",
      "Epoch 3/10\n",
      "91/91 [==============================] - 0s 823us/step - loss: 2.5416 - accuracy: 0.8299 - val_loss: 2.4802 - val_accuracy: 0.8329\n",
      "Epoch 4/10\n",
      "91/91 [==============================] - 0s 863us/step - loss: 2.4319 - accuracy: 0.8385 - val_loss: 2.3914 - val_accuracy: 0.8425\n",
      "Epoch 5/10\n",
      "91/91 [==============================] - 0s 926us/step - loss: 2.3735 - accuracy: 0.8420 - val_loss: 2.3163 - val_accuracy: 0.8453\n",
      "Epoch 6/10\n",
      "91/91 [==============================] - 0s 1ms/step - loss: 2.2888 - accuracy: 0.8475 - val_loss: 2.1693 - val_accuracy: 0.8536\n",
      "Epoch 7/10\n",
      "91/91 [==============================] - 0s 1ms/step - loss: 2.2096 - accuracy: 0.8534 - val_loss: 2.1226 - val_accuracy: 0.8591\n",
      "Epoch 8/10\n",
      "91/91 [==============================] - 0s 1ms/step - loss: 2.1196 - accuracy: 0.8596 - val_loss: 1.9631 - val_accuracy: 0.8702\n",
      "Epoch 9/10\n",
      "91/91 [==============================] - 0s 1ms/step - loss: 2.0626 - accuracy: 0.8655 - val_loss: 1.8841 - val_accuracy: 0.8757\n",
      "Epoch 10/10\n",
      "91/91 [==============================] - 0s 1ms/step - loss: 1.9790 - accuracy: 0.8700 - val_loss: 1.7809 - val_accuracy: 0.8812\n"
     ]
    }
   ],
   "source": [
    "history = model.fit(x = X_train, y = y_train['y'], epochs = 10, batch_size = 32, validation_split = 0.2)\n",
    "# epochs = 10 : 몇 번 반복시킬 것인가! (10번 검사)\n",
    "# validation_split = 0.2 : 검증데이터를 몇 % 잡겠는가? >>> 20% 잡음"
   ]
  },
  {
   "cell_type": "code",
   "execution_count": 10,
   "metadata": {},
   "outputs": [
    {
     "name": "stdout",
     "output_type": "stream",
     "text": [
      "{'loss': [2.883845090866089, 2.6368110179901123, 2.541600227355957, 2.431922197341919, 2.3734917640686035, 2.288769245147705, 2.209622383117676, 2.119572401046753, 2.0626277923583984, 1.9789690971374512], 'accuracy': [0.8008298873901367, 0.8226141333580017, 0.8298755288124084, 0.8385200500488281, 0.8419778943061829, 0.8475103974342346, 0.8533886671066284, 0.8596127033233643, 0.8654910326004028, 0.8699861764907837], 'val_loss': [2.7402501106262207, 2.645214796066284, 2.480175733566284, 2.391449213027954, 2.3162827491760254, 2.1693060398101807, 2.1226348876953125, 1.9630787372589111, 1.884061574935913, 1.7808979749679565], 'val_accuracy': [0.8190608024597168, 0.8259668350219727, 0.8328729271888733, 0.8425414562225342, 0.8453038930892944, 0.8535911440849304, 0.8591160178184509, 0.8701657652854919, 0.8756905794143677, 0.8812154531478882]}\n"
     ]
    }
   ],
   "source": [
    "print(history.history)"
   ]
  },
  {
   "cell_type": "code",
   "execution_count": 111,
   "metadata": {},
   "outputs": [
    {
     "data": {
      "image/png": "[encoded data removed]",
      "text/plain": [
       "<Figure size 432x288 with 1 Axes>"
      ]
     },
     "metadata": {
      "needs_background": "light"
     },
     "output_type": "display_data"
    },
    {
     "data": {
      "image/png": "[encoded data removed]",
      "text/plain": [
       "<Figure size 432x288 with 1 Axes>"
      ]
     },
     "metadata": {
      "needs_background": "light"
     },
     "output_type": "display_data"
    }
   ],
   "source": [
    "# 추론 완료했으므로 그래프로도 확인!\n",
    "import matplotlib.pyplot as plt\n",
    "%matplotlib inline\n",
    "\n",
    "plt.plot(history.history['accuracy'])\n",
    "plt.plot(history.history['val_accuracy'])\n",
    "plt.title('Model Accuracy')\n",
    "plt.ylabel('Accuracy')\n",
    "plt.xlabel('Loop')\n",
    "plt.legend(['Train', 'Validation'], loc = 'upper left')\n",
    "plt.show()\n",
    "# 반복하는 동안 개선된 것이 없음! 그냥 직선!\n",
    "\n",
    "plt.plot(history.history['loss'])\n",
    "plt.plot(history.history['val_accuracy'])\n",
    "plt.title('Model Loss')\n",
    "plt.ylabel('Loss')\n",
    "plt.xlabel('Loop')\n",
    "plt.legend(['Train', 'Validation'], loc = 'upper left')\n",
    "plt.show()\n",
    "# 반복하는 동안 개선된 것이 없음\n",
    "\n",
    "# 학습 데이터가 많더라도 소용 없음 (개선 없음)\n",
    "# 히든 레이어가 없는 구성이기 때문! >>> dense 하나 밖에 없으니까!"
   ]
  },
  {
   "cell_type": "code",
   "execution_count": 110,
   "metadata": {},
   "outputs": [
    {
     "name": "stdout",
     "output_type": "stream",
     "text": [
      "29/29 [==============================] - 0s 567us/step - loss: 1.7546 - accuracy: 0.8862\n"
     ]
    }
   ],
   "source": [
    "test_loss = model.evaluate(X_test, y_test['y'])"
   ]
  },
  {
   "cell_type": "code",
   "execution_count": null,
   "metadata": {},
   "outputs": [],
   "source": [
    "2020.08.22\t"
   ]
  },
  {
   "cell_type": "code",
   "execution_count": null,
   "metadata": {},
   "outputs": [],
   "source": []
  },
  {
   "cell_type": "code",
   "execution_count": null,
   "metadata": {},
   "outputs": [],
   "source": []
  },
  {
   "cell_type": "code",
   "execution_count": 1,
   "metadata": {},
   "outputs": [
    {
     "name": "stdout",
     "output_type": "stream",
     "text": [
      "Activity02.ipynb     bank_data_target.csv  Exercise07.ipynb  Exercise09.ipynb\r\n",
      "bank_data_feats.csv  Exercise06.ipynb\t   Exercise08.ipynb\r\n"
     ]
    }
   ],
   "source": [
    "!ls Applied-Deep-Learning-with-Keras/Lesson02"
   ]
  },
  {
   "cell_type": "code",
   "execution_count": 1,
   "metadata": {},
   "outputs": [],
   "source": [
    "import pandas as pd\n",
    "feats = pd.read_csv('Applied-Deep-Learning-with-Keras/Lesson02/bank_data_feats.csv', index_col = 0)\n",
    "target = pd.read_csv('Applied-Deep-Learning-with-Keras/Lesson02/bank_data_target.csv', index_col = 0)"
   ]
  },
  {
   "cell_type": "code",
   "execution_count": 2,
   "metadata": {},
   "outputs": [
    {
     "name": "stdout",
     "output_type": "stream",
     "text": [
      "Epoch 1/10\n",
      "91/91 [==============================] - 0s 2ms/step - loss: 8.6305 - accuracy: 0.4198 - val_loss: 8.2738 - val_accuracy: 0.4461\n",
      "Epoch 2/10\n",
      "91/91 [==============================] - 0s 841us/step - loss: 7.2824 - accuracy: 0.5093 - val_loss: 6.3666 - val_accuracy: 0.5677\n",
      "Epoch 3/10\n",
      "91/91 [==============================] - 0s 790us/step - loss: 3.2028 - accuracy: 0.7856 - val_loss: 1.6405 - val_accuracy: 0.8936\n",
      "Epoch 4/10\n",
      "91/91 [==============================] - 0s 803us/step - loss: 1.8454 - accuracy: 0.8804 - val_loss: 1.6405 - val_accuracy: 0.8936\n",
      "Epoch 5/10\n",
      "91/91 [==============================] - 0s 844us/step - loss: 1.8454 - accuracy: 0.8804 - val_loss: 1.6405 - val_accuracy: 0.8936\n",
      "Epoch 6/10\n",
      "91/91 [==============================] - 0s 820us/step - loss: 1.8454 - accuracy: 0.8804 - val_loss: 1.6405 - val_accuracy: 0.8936\n",
      "Epoch 7/10\n",
      "91/91 [==============================] - 0s 844us/step - loss: 1.8454 - accuracy: 0.8804 - val_loss: 1.6405 - val_accuracy: 0.8936\n",
      "Epoch 8/10\n",
      "91/91 [==============================] - 0s 802us/step - loss: 1.8454 - accuracy: 0.8804 - val_loss: 1.6405 - val_accuracy: 0.8936\n",
      "Epoch 9/10\n",
      "91/91 [==============================] - 0s 820us/step - loss: 1.8454 - accuracy: 0.8804 - val_loss: 1.6405 - val_accuracy: 0.8936\n",
      "Epoch 10/10\n",
      "91/91 [==============================] - 0s 803us/step - loss: 1.8454 - accuracy: 0.8804 - val_loss: 1.6405 - val_accuracy: 0.8936\n"
     ]
    }
   ],
   "source": [
    "from sklearn.model_selection import train_test_split\n",
    "test_size = 0.2\n",
    "random_state = 42\n",
    "X_train, X_test, y_train, y_test = train_test_split(feats, target, test_size = test_size, random_state = random_state)\n",
    "\n",
    "from keras.models import Sequential\n",
    "model = Sequential()\n",
    "\n",
    "from keras.layers import Dense, Activation\n",
    "\n",
    "input_shape = X_train.shape[1]\n",
    "units = 1\n",
    "\n",
    "model.add(Dense(units, input_dim = input_shape))\n",
    "model.add(Activation('tanh'))\n",
    "\n",
    "model.compile(optimizer = 'adam', loss = 'binary_crossentropy', metrics = ['accuracy'])\n",
    "\n",
    "history = model.fit(x = X_train, y = y_train['y'], epochs = 10, batch_size = 32, validation_split = 0.2)\n",
    "\n",
    "# 일정 구간 이후로는 값이 수렴함 >>> 개선되지는 않음\n",
    "# 결국 학습효과가 있는 것은 아님!\n",
    "# 정보가 수렴하는 것은 반복학습을 해도 효과가 없음.\n",
    "# 위에 Lesson01 데이터를 이용한 것이 더 좋은 데이터!\n",
    "# 학습하지 않아도 일정하니까!"
   ]
  },
  {
   "cell_type": "code",
   "execution_count": 4,
   "metadata": {},
   "outputs": [
    {
     "data": {
      "image/png": "[encoded data removed]",
      "text/plain": [
       "<Figure size 432x288 with 1 Axes>"
      ]
     },
     "metadata": {
      "needs_background": "light"
     },
     "output_type": "display_data"
    },
    {
     "data": {
      "image/png": "[encoded data removed]",
      "text/plain": [
       "<Figure size 432x288 with 1 Axes>"
      ]
     },
     "metadata": {
      "needs_background": "light"
     },
     "output_type": "display_data"
    }
   ],
   "source": [
    "# 추론 완료했으므로 그래프로도 확인!\n",
    "import matplotlib.pyplot as plt\n",
    "\n",
    "plt.plot(history.history['accuracy'])\n",
    "plt.plot(history.history['val_accuracy'])\n",
    "plt.title('Model Accuracy')\n",
    "plt.ylabel('Accuracy')\n",
    "plt.xlabel('Loop')\n",
    "plt.legend(['Train', 'Validation'], loc = 'upper left')\n",
    "plt.show()\n",
    " \n",
    "\n",
    "plt.plot(history.history['loss'])\n",
    "plt.plot(history.history['val_accuracy'])\n",
    "plt.title('Model Loss')\n",
    "plt.ylabel('Loss')\n",
    "plt.xlabel('Loop')\n",
    "plt.legend(['Train', 'Validation'], loc = 'upper left')\n",
    "plt.show()\n",
    "\n",
    "# 일정값 이후로는 값이 수렴!\n"
   ]
  },
  {
   "cell_type": "code",
   "execution_count": null,
   "metadata": {},
   "outputs": [],
   "source": []
  },
  {
   "cell_type": "code",
   "execution_count": null,
   "metadata": {},
   "outputs": [],
   "source": []
  },
  {
   "cell_type": "code",
   "execution_count": 18,
   "metadata": {},
   "outputs": [],
   "source": [
    "# <3장. 케라스를 활용한 딥러닝>"
   ]
  },
  {
   "cell_type": "code",
   "execution_count": null,
   "metadata": {},
   "outputs": [],
   "source": [
    "# p.120\n",
    "# Euler Formula\n",
    "# e^ix = cos(x) + i sin(x)  # 이 식은 원의 방정식도 됨\n",
    "# e^-ix = cos(x) - i sin(x)\n",
    "# e^ix + e^-ix = 2 cos(x)\n",
    "# cos(x) = (e^ix + e^-ix) / 2  <<< cos(x)의 실제 exponential 형식의 정의!\n",
    "\n",
    "# e^ix - e^-ix = 2i sin(x)\n",
    "# sin(x) = (e^ix - e^-ix) /2i \n",
    "# >>> x와 y축으로 하면 i는 y축이 되기 때문에 /2 해도 됨! (복소 평면이라면 허수값을 계산해야 하지만!)\n",
    "# i가 벡터 표기법인데, 벡터를 표현할 때 (x + y)라고 한다면 x축 방향 벡터와 y축 방향 벡터를 더한다는 의미 (대각선이 나옴)\n",
    "# ex) e^ix = cos(x) + i sin(x) 여기서도 실수 축이 cos(x)이고 허수 축이 sin(x) >>> 그래서 원을 그리게 됨\n",
    "\n",
    "# tan(x) = sin(x) / cos(x)\n",
    "\n",
    "# cosh(x) = (e^x + e^-x) /2  >>> i만 e^x로 바꿔주면 됨!!!\n",
    "# sinh(x) = (e^x - e^-x) /2  >>> i만 빠지면 됨!\n",
    "# tanh(x) = sinh(x)) / cosh(x) \n",
    "# tanh(x)(쌍곡선 함수)는 -1부터 1 사이의 값을 가지게 된다.\n",
    "\n",
    "# sigmoid(시그모이드 함수)와는 조금 다름 >> 0부터 1까지 범위를 가짐"
   ]
  },
  {
   "cell_type": "code",
   "execution_count": 20,
   "metadata": {},
   "outputs": [],
   "source": [
    "# p.121 ~ 122\n",
    "\n",
    "#  X : 1 by 2\n",
    "# W1 : 2 by 3\n",
    "# b1 : 1 by 3\n",
    "# z1 = X * W1 + b1\n",
    "# 행렬 곱셈의 규칙\n",
    "# (1 by 2) (2 by 3) ===> (1 by 3)\n",
    "\n",
    "# a1 : (1 by 3) ---> 대신 값들의 hyperbolic tangent가 적용되었음!\n",
    "# W2 : 3 by 5\n",
    "# b2 : 1 by 5\n",
    "# z2 = a1 * W2 + b2  --> hyperbolic tangent를 적용하고 있음!\n",
    "# (1 by 3)(3 by 5) ===> (1 by 5)\n",
    "\n",
    "# a2 : (1 by 5) ---> hyperbolic tangent 적용! \n",
    "# W3 : 5 by 1\n",
    "# b3 : 1 by 1\n",
    "# z3 = a2 * W3 + b3\n",
    "# (1 by 5)(5 by 1) ===> (1 by 1)\n",
    "# ---> 1 by 1과 1 by 1이 더해서 연산이 가능 \n",
    "\n",
    "# z3에다가 Y값을 계산 (개인가요? 아닌가요? 0,1을 알려주기 위해서)\n",
    "# sigmoid(z3)를 계산하면 0에서 1사이 값을 나타냄\n",
    "\n",
    "# Y = sigmoid(z3) ===> 0 ~ 1 확률로 나타난다.\n",
    "\n",
    "#########\n",
    "# 뉴럴 네트워크(딥러닝)이 행렬들의 연산이라고 했는데,\n",
    "# 규칙을 따라가니까 (행렬 사이즈 마음대로 바뀌지만)\n",
    "# 결과는 1 by 1로 귀결 됨!\n",
    "\n",
    "# sigmoid를 적용하면 0 ~ 1사이의 값을 가지니까\n",
    "# 전체를 0% ~ 100%로 보면 그 사이에 나온 값이 확률이 됨.\n",
    "# 0.4가 나오면 40%, 0.8이 나오면 80% ----------------> 이것은 개다, 고양이다를 판정!\n",
    "\n",
    "# Ex) 어떤 음악을 들려줬을 때 누가 작사작곡했고 누가 부른, 제목 무엇이다를 알려줄 수 있음."
   ]
  },
  {
   "cell_type": "code",
   "execution_count": 1,
   "metadata": {},
   "outputs": [
    {
     "name": "stdout",
     "output_type": "stream",
     "text": [
      "Num of Dataset: 300\n",
      "Num of Features: 10\n",
      "Possible Output Classes: [0 1]\n"
     ]
    }
   ],
   "source": [
    "import numpy as np\n",
    "from sklearn.datasets import make_classification\n",
    "\n",
    "X, y = make_classification(\n",
    "    # 데이터 300개\n",
    "    n_samples = 300,\n",
    "    # 독립 변수 10개\n",
    "    n_features = 10, \n",
    "    # 나올 수 있는 결과 2개\n",
    "    n_classes = 2)\n",
    "\n",
    "print(\"Num of Dataset:\", X.shape[0])\n",
    "print(\"Num of Features:\", X.shape[1])\n",
    "print(\"Possible Output Classes:\", np.unique(y))"
   ]
  },
  {
   "cell_type": "code",
   "execution_count": 2,
   "metadata": {},
   "outputs": [],
   "source": [
    "# Features가 10개라는 뜻은\n",
    "# y = ax1 + bx2 + cx3 + dx4 + ex5 + fx6 + gx7 + hx8 + ix9 + jx10 + alpha\n",
    "\n",
    "# 입력이 10개 들어가야 함.\n",
    "\n",
    "# 앞에 32였을 때는 개수 데이터들이 32개 있었다는 뜻"
   ]
  },
  {
   "cell_type": "code",
   "execution_count": 3,
   "metadata": {},
   "outputs": [],
   "source": [
    "from keras.models import Sequential\n",
    "\n",
    "model = Sequential()"
   ]
  },
  {
   "cell_type": "code",
   "execution_count": 4,
   "metadata": {},
   "outputs": [],
   "source": [
    "from keras.layers import Dense, Activation\n",
    "\n",
    "# Dense(출력 개수, 활성화 함수, 입력 개수)\n",
    "model.add(Dense(20, activation = 'tanh', input_dim = 10))\n",
    "# 출력 개수 20인 것은 레이어1 지나고 나서 20개의 노드가 있는 것.\n",
    "hyperbolic tangent\n",
    "# 네트워크로 연결되었으니까 입력 몇개 들어왔는지 알고 있기 때문에\n",
    "# 다음 Dense 만들어줄 때는 input_dim 안써줘도 됨!"
   ]
  },
  {
   "cell_type": "code",
   "execution_count": 5,
   "metadata": {},
   "outputs": [],
   "source": [
    "# 이렇게 하면 히든 레이어를 많이 만들 수 있음.\n",
    "# 네트워크 개수가 좀 많긴 함\n",
    "model.add(Dense(40, activation = 'tanh'))\n",
    "model.add(Dense(10, activation = 'tanh'))\n",
    "model.add(Dense(1, activation = 'sigmoid'))"
   ]
  },
  {
   "cell_type": "code",
   "execution_count": 6,
   "metadata": {},
   "outputs": [],
   "source": [
    "model.compile(optimizer = 'sgd', loss = 'binary_crossentropy')"
   ]
  },
  {
   "cell_type": "code",
   "execution_count": 7,
   "metadata": {},
   "outputs": [
    {
     "name": "stdout",
     "output_type": "stream",
     "text": [
      "Epoch 1/100\n",
      "60/60 [==============================] - 0s 590us/step - loss: 0.6399\n",
      "Epoch 2/100\n",
      "60/60 [==============================] - 0s 572us/step - loss: 0.4567\n",
      "Epoch 3/100\n",
      "60/60 [==============================] - 0s 547us/step - loss: 0.3839\n",
      "Epoch 4/100\n",
      "60/60 [==============================] - 0s 524us/step - loss: 0.3454\n",
      "Epoch 5/100\n",
      "60/60 [==============================] - 0s 506us/step - loss: 0.3242\n",
      "Epoch 6/100\n",
      "60/60 [==============================] - 0s 546us/step - loss: 0.3105\n",
      "Epoch 7/100\n",
      "60/60 [==============================] - 0s 502us/step - loss: 0.3018\n",
      "Epoch 8/100\n",
      "60/60 [==============================] - 0s 521us/step - loss: 0.2960\n",
      "Epoch 9/100\n",
      "60/60 [==============================] - 0s 541us/step - loss: 0.2921\n",
      "Epoch 10/100\n",
      "60/60 [==============================] - 0s 546us/step - loss: 0.2880\n",
      "Epoch 11/100\n",
      "60/60 [==============================] - 0s 538us/step - loss: 0.2862\n",
      "Epoch 12/100\n",
      "60/60 [==============================] - 0s 520us/step - loss: 0.2840\n",
      "Epoch 13/100\n",
      "60/60 [==============================] - 0s 564us/step - loss: 0.2820\n",
      "Epoch 14/100\n",
      "60/60 [==============================] - 0s 520us/step - loss: 0.2802\n",
      "Epoch 15/100\n",
      "60/60 [==============================] - 0s 494us/step - loss: 0.2784\n",
      "Epoch 16/100\n",
      "60/60 [==============================] - 0s 538us/step - loss: 0.2769\n",
      "Epoch 17/100\n",
      "60/60 [==============================] - 0s 519us/step - loss: 0.2763\n",
      "Epoch 18/100\n",
      "60/60 [==============================] - 0s 515us/step - loss: 0.2755\n",
      "Epoch 19/100\n",
      "60/60 [==============================] - 0s 503us/step - loss: 0.2735\n",
      "Epoch 20/100\n",
      "60/60 [==============================] - 0s 510us/step - loss: 0.2723\n",
      "Epoch 21/100\n",
      "60/60 [==============================] - 0s 535us/step - loss: 0.2717\n",
      "Epoch 22/100\n",
      "60/60 [==============================] - 0s 520us/step - loss: 0.2697\n",
      "Epoch 23/100\n",
      "60/60 [==============================] - 0s 523us/step - loss: 0.2694\n",
      "Epoch 24/100\n",
      "60/60 [==============================] - 0s 531us/step - loss: 0.2682\n",
      "Epoch 25/100\n",
      "60/60 [==============================] - 0s 514us/step - loss: 0.2667\n",
      "Epoch 26/100\n",
      "60/60 [==============================] - 0s 491us/step - loss: 0.2663\n",
      "Epoch 27/100\n",
      "60/60 [==============================] - 0s 517us/step - loss: 0.2647\n",
      "Epoch 28/100\n",
      "60/60 [==============================] - 0s 547us/step - loss: 0.2636\n",
      "Epoch 29/100\n",
      "60/60 [==============================] - 0s 566us/step - loss: 0.2625\n",
      "Epoch 30/100\n",
      "60/60 [==============================] - 0s 505us/step - loss: 0.2613\n",
      "Epoch 31/100\n",
      "60/60 [==============================] - 0s 504us/step - loss: 0.2602\n",
      "Epoch 32/100\n",
      "60/60 [==============================] - 0s 582us/step - loss: 0.2593\n",
      "Epoch 33/100\n",
      "60/60 [==============================] - 0s 552us/step - loss: 0.2578\n",
      "Epoch 34/100\n",
      "60/60 [==============================] - 0s 483us/step - loss: 0.2571\n",
      "Epoch 35/100\n",
      "60/60 [==============================] - 0s 514us/step - loss: 0.2560\n",
      "Epoch 36/100\n",
      "60/60 [==============================] - 0s 525us/step - loss: 0.2547\n",
      "Epoch 37/100\n",
      "60/60 [==============================] - 0s 543us/step - loss: 0.2535\n",
      "Epoch 38/100\n",
      "60/60 [==============================] - 0s 497us/step - loss: 0.2527\n",
      "Epoch 39/100\n",
      "60/60 [==============================] - 0s 545us/step - loss: 0.2512\n",
      "Epoch 40/100\n",
      "60/60 [==============================] - 0s 537us/step - loss: 0.2505\n",
      "Epoch 41/100\n",
      "60/60 [==============================] - 0s 510us/step - loss: 0.2495\n",
      "Epoch 42/100\n",
      "60/60 [==============================] - 0s 513us/step - loss: 0.2483\n",
      "Epoch 43/100\n",
      "60/60 [==============================] - 0s 505us/step - loss: 0.2472\n",
      "Epoch 44/100\n",
      "60/60 [==============================] - 0s 541us/step - loss: 0.2463\n",
      "Epoch 45/100\n",
      "60/60 [==============================] - 0s 515us/step - loss: 0.2448\n",
      "Epoch 46/100\n",
      "60/60 [==============================] - 0s 539us/step - loss: 0.2443\n",
      "Epoch 47/100\n",
      "60/60 [==============================] - 0s 526us/step - loss: 0.2426\n",
      "Epoch 48/100\n",
      "60/60 [==============================] - 0s 491us/step - loss: 0.2418\n",
      "Epoch 49/100\n",
      "60/60 [==============================] - 0s 502us/step - loss: 0.2406\n",
      "Epoch 50/100\n",
      "60/60 [==============================] - 0s 518us/step - loss: 0.2391\n",
      "Epoch 51/100\n",
      "60/60 [==============================] - 0s 539us/step - loss: 0.2386\n",
      "Epoch 52/100\n",
      "60/60 [==============================] - 0s 514us/step - loss: 0.2378\n",
      "Epoch 53/100\n",
      "60/60 [==============================] - 0s 491us/step - loss: 0.2364\n",
      "Epoch 54/100\n",
      "60/60 [==============================] - 0s 509us/step - loss: 0.2355\n",
      "Epoch 55/100\n",
      "60/60 [==============================] - 0s 616us/step - loss: 0.2347\n",
      "Epoch 56/100\n",
      "60/60 [==============================] - 0s 577us/step - loss: 0.2335\n",
      "Epoch 57/100\n",
      "60/60 [==============================] - 0s 544us/step - loss: 0.2327\n",
      "Epoch 58/100\n",
      "60/60 [==============================] - 0s 542us/step - loss: 0.2312\n",
      "Epoch 59/100\n",
      "60/60 [==============================] - 0s 534us/step - loss: 0.2309\n",
      "Epoch 60/100\n",
      "60/60 [==============================] - 0s 516us/step - loss: 0.2290\n",
      "Epoch 61/100\n",
      "60/60 [==============================] - 0s 525us/step - loss: 0.2287\n",
      "Epoch 62/100\n",
      "60/60 [==============================] - 0s 562us/step - loss: 0.2272\n",
      "Epoch 63/100\n",
      "60/60 [==============================] - 0s 606us/step - loss: 0.2258\n",
      "Epoch 64/100\n",
      "60/60 [==============================] - 0s 514us/step - loss: 0.2252\n",
      "Epoch 65/100\n",
      "60/60 [==============================] - 0s 517us/step - loss: 0.2240\n",
      "Epoch 66/100\n",
      "60/60 [==============================] - 0s 504us/step - loss: 0.2227\n",
      "Epoch 67/100\n",
      "60/60 [==============================] - 0s 620us/step - loss: 0.2214\n",
      "Epoch 68/100\n",
      "60/60 [==============================] - 0s 525us/step - loss: 0.2204\n",
      "Epoch 69/100\n",
      "60/60 [==============================] - 0s 510us/step - loss: 0.2194\n",
      "Epoch 70/100\n",
      "60/60 [==============================] - 0s 511us/step - loss: 0.2181\n",
      "Epoch 71/100\n",
      "60/60 [==============================] - 0s 502us/step - loss: 0.2177\n",
      "Epoch 72/100\n",
      "60/60 [==============================] - 0s 525us/step - loss: 0.2163\n",
      "Epoch 73/100\n",
      "60/60 [==============================] - 0s 524us/step - loss: 0.2150\n",
      "Epoch 74/100\n",
      "60/60 [==============================] - 0s 562us/step - loss: 0.2143\n",
      "Epoch 75/100\n",
      "60/60 [==============================] - 0s 500us/step - loss: 0.2127\n",
      "Epoch 76/100\n",
      "60/60 [==============================] - 0s 540us/step - loss: 0.2121\n",
      "Epoch 77/100\n",
      "60/60 [==============================] - 0s 563us/step - loss: 0.2100\n",
      "Epoch 78/100\n",
      "60/60 [==============================] - 0s 566us/step - loss: 0.2089\n",
      "Epoch 79/100\n",
      "60/60 [==============================] - 0s 541us/step - loss: 0.2083\n",
      "Epoch 80/100\n",
      "60/60 [==============================] - 0s 541us/step - loss: 0.2067\n",
      "Epoch 81/100\n",
      "60/60 [==============================] - 0s 523us/step - loss: 0.2058\n",
      "Epoch 82/100\n",
      "60/60 [==============================] - 0s 560us/step - loss: 0.2048\n",
      "Epoch 83/100\n",
      "60/60 [==============================] - 0s 656us/step - loss: 0.2043\n",
      "Epoch 84/100\n",
      "60/60 [==============================] - 0s 525us/step - loss: 0.2029\n",
      "Epoch 85/100\n",
      "60/60 [==============================] - 0s 536us/step - loss: 0.2015\n",
      "Epoch 86/100\n",
      "60/60 [==============================] - 0s 551us/step - loss: 0.2001\n",
      "Epoch 87/100\n",
      "60/60 [==============================] - 0s 587us/step - loss: 0.1996\n",
      "Epoch 88/100\n",
      "60/60 [==============================] - 0s 605us/step - loss: 0.1984\n",
      "Epoch 89/100\n",
      "60/60 [==============================] - 0s 530us/step - loss: 0.1965\n",
      "Epoch 90/100\n",
      "60/60 [==============================] - 0s 564us/step - loss: 0.1957\n",
      "Epoch 91/100\n",
      "60/60 [==============================] - 0s 579us/step - loss: 0.1948\n",
      "Epoch 92/100\n",
      "60/60 [==============================] - 0s 555us/step - loss: 0.1935\n",
      "Epoch 93/100\n",
      "60/60 [==============================] - 0s 559us/step - loss: 0.1919\n",
      "Epoch 94/100\n",
      "60/60 [==============================] - 0s 521us/step - loss: 0.1916\n",
      "Epoch 95/100\n",
      "60/60 [==============================] - 0s 566us/step - loss: 0.1902\n",
      "Epoch 96/100\n",
      "60/60 [==============================] - 0s 544us/step - loss: 0.1886\n",
      "Epoch 97/100\n",
      "60/60 [==============================] - 0s 535us/step - loss: 0.1872\n",
      "Epoch 98/100\n",
      "60/60 [==============================] - 0s 552us/step - loss: 0.1861\n",
      "Epoch 99/100\n"
     ]
    },
    {
     "name": "stdout",
     "output_type": "stream",
     "text": [
      "60/60 [==============================] - 0s 583us/step - loss: 0.1854\n",
      "Epoch 100/100\n",
      "60/60 [==============================] - 0s 563us/step - loss: 0.1839\n"
     ]
    }
   ],
   "source": [
    "# 다시~~\n",
    "history = model.fit(X, y, epochs = 100, batch_size = 5)\n",
    "# model.fit(X, y, epochs = 100, batch_size = 5, verbose = 0)\n",
    "# 학습 횟수를 늘릴수록 확실히 효과가 좋음!\n",
    "# verbose = 0하면 출력을 안함!"
   ]
  },
  {
   "cell_type": "code",
   "execution_count": 8,
   "metadata": {},
   "outputs": [
    {
     "name": "stdout",
     "output_type": "stream",
     "text": [
      "<tensorflow.python.keras.callbacks.History object at 0x7f5fe41ca890>\n"
     ]
    }
   ],
   "source": [
    "print(history)"
   ]
  },
  {
   "cell_type": "code",
   "execution_count": 9,
   "metadata": {},
   "outputs": [
    {
     "name": "stdout",
     "output_type": "stream",
     "text": [
      "{'loss': [0.6398915648460388, 0.45666685700416565, 0.38386887311935425, 0.3453628718852997, 0.32417547702789307, 0.31050339341163635, 0.3018300235271454, 0.2960225045681, 0.29205048084259033, 0.2879698574542999, 0.286243736743927, 0.28404462337493896, 0.28202083706855774, 0.28017348051071167, 0.27844640612602234, 0.27685800194740295, 0.27625757455825806, 0.2754669487476349, 0.27350419759750366, 0.2722676992416382, 0.2716706693172455, 0.2697141468524933, 0.2693735361099243, 0.2682036757469177, 0.26674684882164, 0.26634857058525085, 0.26474279165267944, 0.2635798156261444, 0.26250866055488586, 0.26129069924354553, 0.26019352674484253, 0.2592724859714508, 0.257839560508728, 0.25709035992622375, 0.25596141815185547, 0.2547164261341095, 0.2534586489200592, 0.2527255117893219, 0.2511751055717468, 0.2504567503929138, 0.24947907030582428, 0.2482951134443283, 0.24723388254642487, 0.24626001715660095, 0.2448272705078125, 0.24429303407669067, 0.2425684928894043, 0.24183744192123413, 0.24058935046195984, 0.2390931397676468, 0.23859930038452148, 0.23781181871891022, 0.2363654524087906, 0.23553909361362457, 0.23469078540802002, 0.23347070813179016, 0.23269937932491302, 0.2311992347240448, 0.23085850477218628, 0.2289544641971588, 0.22871853411197662, 0.22720235586166382, 0.22576957941055298, 0.22523631155490875, 0.22402127087116241, 0.22268499433994293, 0.22137033939361572, 0.22040532529354095, 0.21941566467285156, 0.21813899278640747, 0.21767742931842804, 0.2163299322128296, 0.21497859060764313, 0.21425926685333252, 0.21272416412830353, 0.2121235728263855, 0.21002155542373657, 0.2089354246854782, 0.20834621787071228, 0.20672394335269928, 0.2058398723602295, 0.20481792092323303, 0.2043038010597229, 0.20291753113269806, 0.20150905847549438, 0.20007489621639252, 0.1995786726474762, 0.19841933250427246, 0.19652080535888672, 0.19566857814788818, 0.19484978914260864, 0.19346877932548523, 0.19193924963474274, 0.1915690004825592, 0.19018107652664185, 0.18863187730312347, 0.18715281784534454, 0.18608960509300232, 0.18542036414146423, 0.18388459086418152]}\n"
     ]
    }
   ],
   "source": [
    "print(history.history)"
   ]
  },
  {
   "cell_type": "code",
   "execution_count": 10,
   "metadata": {},
   "outputs": [
    {
     "data": {
      "image/png": "[encoded data removed]",
      "text/plain": [
       "<Figure size 432x288 with 1 Axes>"
      ]
     },
     "metadata": {
      "needs_background": "light"
     },
     "output_type": "display_data"
    }
   ],
   "source": [
    "# 다시!\n",
    "import matplotlib.pyplot as plt\n",
    "\n",
    "plt.plot(history.history['loss'])\n",
    "plt.title('Model Loss')\n",
    "plt.ylabel('Loss')\n",
    "plt.xlabel('Loop')\n",
    "plt.show()\n",
    "\n",
    "# 시작할때 쑥 내려감\n",
    "# y축이 0.25인 것은 정확도가 75% 정도 인 것"
   ]
  },
  {
   "cell_type": "code",
   "execution_count": 11,
   "metadata": {},
   "outputs": [
    {
     "name": "stdout",
     "output_type": "stream",
     "text": [
      "Model: \"sequential\"\n",
      "_________________________________________________________________\n",
      "Layer (type)                 Output Shape              Param #   \n",
      "=================================================================\n",
      "dense (Dense)                (None, 20)                220       \n",
      "_________________________________________________________________\n",
      "dense_1 (Dense)              (None, 40)                840       \n",
      "_________________________________________________________________\n",
      "dense_2 (Dense)              (None, 10)                410       \n",
      "_________________________________________________________________\n",
      "dense_3 (Dense)              (None, 1)                 11        \n",
      "=================================================================\n",
      "Total params: 1,481\n",
      "Trainable params: 1,481\n",
      "Non-trainable params: 0\n",
      "_________________________________________________________________\n",
      "None\n"
     ]
    }
   ],
   "source": [
    "print(model.summary())\n",
    "\n",
    "# 레이어가 다층으로 구성됨!\n",
    "# 히든레이어가 3개나 생김! (2번째 줄부터 세보면)"
   ]
  },
  {
   "cell_type": "code",
   "execution_count": null,
   "metadata": {},
   "outputs": [],
   "source": []
  },
  {
   "cell_type": "code",
   "execution_count": null,
   "metadata": {},
   "outputs": [],
   "source": []
  }
 ],
 "metadata": {
  "kernelspec": {
   "display_name": "Python 3",
   "language": "python",
   "name": "python3"
  },
  "language_info": {
   "codemirror_mode": {
    "name": "ipython",
    "version": 3
   },
   "file_extension": ".py",
   "mimetype": "text/x-python",
   "name": "python",
   "nbconvert_exporter": "python",
   "pygments_lexer": "ipython3",
   "version": "3.7.6"
  }
 },
 "nbformat": 4,
 "nbformat_minor": 4
}
