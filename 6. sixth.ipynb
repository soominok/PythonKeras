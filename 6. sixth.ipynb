{
 "cells": [
  {
   "cell_type": "code",
   "execution_count": 1,
   "metadata": {},
   "outputs": [
    {
     "data": {
      "text/plain": [
       "[name: \"/device:CPU:0\"\n",
       " device_type: \"CPU\"\n",
       " memory_limit: 268435456\n",
       " locality {\n",
       " }\n",
       " incarnation: 4277473944518758407,\n",
       " name: \"/device:XLA_CPU:0\"\n",
       " device_type: \"XLA_CPU\"\n",
       " memory_limit: 17179869184\n",
       " locality {\n",
       " }\n",
       " incarnation: 13848668279784988063\n",
       " physical_device_desc: \"device: XLA_CPU device\",\n",
       " name: \"/device:XLA_GPU:0\"\n",
       " device_type: \"XLA_GPU\"\n",
       " memory_limit: 17179869184\n",
       " locality {\n",
       " }\n",
       " incarnation: 2792233578429999560\n",
       " physical_device_desc: \"device: XLA_GPU device\"]"
      ]
     },
     "execution_count": 1,
     "metadata": {},
     "output_type": "execute_result"
    }
   ],
   "source": [
    "from tensorflow.python.client import device_lib\n",
    "\n",
    "device_lib.list_local_devices()"
   ]
  },
  {
   "cell_type": "code",
   "execution_count": 2,
   "metadata": {},
   "outputs": [],
   "source": [
    "# 프로세스와 스레드\n",
    "# 윈도우 vs 리눅스, 유닉스\n",
    "# 윈도우는 프로세스내에서 스레드가 쪼개지는 개념\n",
    "\n",
    "# 리눅스에서는 프로세스와 스레드가 모두 개별적인 Task 구조를 가진다.\n",
    "# Thread ID가 있어서 Thread ID 묶여있는 녀석들은 전부 메모리 섹션의 Data 영역을 공유하게 된다.\n",
    "\n",
    "# 보통 스레드는 CPU 코어의 개수만큼 만들게 된다.\n",
    "# (특정 하나의 연산을 극대화하고자 할 때)\n",
    "\n",
    "# \"메모리 섹션의 Data 영역을 공유한다.\"의 문제점?\n",
    "\n",
    "# 시나리오.\n",
    "# 스레드 A vs 스레드 B\n",
    "# 전역변수 D를 공통적으로 공유하고 있는 상태 <<< Critical Section(크리티컬 섹션)\n",
    "# 스레드 A가 하는 일은 ++\n",
    "# 스레드 B가 하는 일은 --\n",
    "# 이것이 스레드로 번갈아가며 작업이 될 경우 발생할 수 있는 문제는?\n",
    "# >>> 프로세스란 CPU의 추상화다! >>> 이유는? 우리가 구동하는 모든 프로그램은 CPU에게 제어권이 넘어가야만 실행이 가능하다.\n",
    "# 컴퓨터 구조론에서 제일 강조하는 것 중 하나!\n",
    "# >>> CPU는 오직 한 순간에 한 가지 일만 한다.\n",
    "# 프로세스는 서로 CPU를 얻기 위해서 경쟁을 한다는 것. >> 그렇기 때문에 프로세스란 CPU 추상화다! 라고 한 것.\n",
    "# 실제 프로세스는 ~~~\n",
    "\n",
    "\n",
    "# ??? 그런데 여러개를 수행할 수 있다고 했는데, 이게 왜 가능하지 ???\n",
    "# (1) Multi Tasking - 작업 자체는 순차적인데 굉장히 빠를 뿐이어서 멀티 태스킹!\n",
    "# (2) Context Switching - 내일 다시 설명\n",
    "# 30억개 명령어를 1초안에 생성할 수 있음.\n",
    "# 0.3초 - 10억개 / \n",
    "\n",
    "\n",
    "# A가 ++ 작업을 하고 있는 도중에 제어권이 B에 넘어가면, \n",
    "# (A가 진행하지 못한 상태에서 B가 여러번 진행될 수 있음)\n",
    "# 위의 크리티컬 섹션이 된 녀석들의 데이터를\n",
    "# 안정적으로 보장해주기 위해 필요한 것이 바로 Semaphore, Mutex, Spinlock 같은 녀석들이다.\n",
    "\n",
    "# 동영상, 이미지 분석, 실시간 처리하는 작업이 필요하다면 멀티 스레드가 꼭 필요함 >>> 빠른 속도를 위해서"
   ]
  },
  {
   "cell_type": "code",
   "execution_count": 3,
   "metadata": {},
   "outputs": [],
   "source": [
    "# CPU 스펙 보기\n",
    "# >>> cat /proc/cpuinfo 하면 정보를 확인할 수 있음."
   ]
  },
  {
   "cell_type": "code",
   "execution_count": null,
   "metadata": {},
   "outputs": [],
   "source": []
  }
 ],
 "metadata": {
  "kernelspec": {
   "display_name": "Python 3",
   "language": "python",
   "name": "python3"
  },
  "language_info": {
   "codemirror_mode": {
    "name": "ipython",
    "version": 3
   },
   "file_extension": ".py",
   "mimetype": "text/x-python",
   "name": "python",
   "nbconvert_exporter": "python",
   "pygments_lexer": "ipython3",
   "version": "3.7.6"
  }
 },
 "nbformat": 4,
 "nbformat_minor": 4
}
