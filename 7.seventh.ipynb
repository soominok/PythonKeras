{
 "cells": [
  {
   "cell_type": "code",
   "execution_count": 1,
   "metadata": {},
   "outputs": [
    {
     "name": "stdout",
     "output_type": "stream",
     "text": [
      " git 저장소 연습\n"
     ]
    }
   ],
   "source": [
    "print(\" git 저장소 연습\")"
   ]
  },
  {
   "cell_type": "code",
   "execution_count": null,
   "metadata": {},
   "outputs": [],
   "source": [
    "# 나만의 git 저장소를 가져보도록 하자!\n",
    "# 1. Github에 접속한다.\n",
    "# 2. 로그인하고 접속하면 Repositories에 New가 있고 이것을 누른다.\n",
    "# 3. 맨 위쪽에 Repository Name과 Description을 작성한다.\n",
    "# 4. 아래쪽의 .gitignore를 설정해주고 라이센스를 선택한다.\n",
    "#    회사에서 라이센스 선택시 회의가 필요하므로 이런 작업을 할 일이 있다면\n",
    "#    반드시 먼저 상사에게 보고를 하고 진행하도록 한다.\n",
    "# 5. Create Repository를 눌러서 저장소를 생성한다.\n",
    "# 6. 초록색 버튼 Code에 보면 Clone이 있다.\n",
    "#    해당 URL을 전부 복사한다.\n",
    "# 7. 먼저 저장소의 기본 위치를 선택한다.\n",
    "#    cd ~\n",
    "#    cd proj\n",
    "#    홈 디렉토리 밑에 proj에 진입하게 된다.\n",
    "# 8. git clone '가져오고 싶은 저장소 이름'\n",
    "#    (홑 따옴표 필요 없음)\n",
    "# 9. 작업할 저장소로 위치를 이동한다.\n",
    "# 10. 해당 위치에서 jupyter notebook을 입력한다.\n",
    "# 11. 그러면 웹 브라우저에 쥬피터가 실행될 것이고\n",
    "#     여기서 기존에 파이썬 작업을 하듯이 파일을 작성하면 된다.\n",
    "# 12. git status - 현재 추적되지 않고 있는 파일을 볼 수 있다.\n",
    "# 13. 추적이 되지 않으므로 해당 파일을 추적하고 싶다면\n",
    "#     git add를 통해 파일을 추적할 수 있게 만들어준다.\n",
    "#     정말 잘 추적이 되는지 확인하기 위해\n",
    "#     github에 있는 저장소 원본으로 이동해서 추적되지 않음을 확인한다.\n",
    "#     git add '추적할 파일명 혹은 디렉토리 전체도 가능'\n",
    "# 14. git status를 입력하면 추적이 됨을 알리는 초록색 파일로 나타난다.\n",
    "#     그리고 commit 하라는 메시지가 같이 올라온다.\n",
    "# 15. git push origin master\n",
    "#     커밋된 내용을 모두 master(원격 저장소:원본)에 갱신한다.\n",
    "# *** 만약 위의 명령을 쳤는데 config --global 나오면\n",
    "#     해당 명령으로 email 주소와 name을 등록하면 된다.\n",
    "#     git config --global user.name \"git 이름 및 별명\"\n",
    "#     git config --global user.email \"깃 가입시 사용한 이메일 주소\""
   ]
  },
  {
   "cell_type": "code",
   "execution_count": 3,
   "metadata": {},
   "outputs": [
    {
     "name": "stdout",
     "output_type": "stream",
     "text": [
      "Count Down ... 5\n",
      "Count Down ... 4\n",
      "Count Down ... 3\n",
      "Count Down ... 2\n",
      "Count Down ... 1\n"
     ]
    }
   ],
   "source": [
    "import time\n",
    "import multiprocessing # 멀티 프로세스 사용\n",
    "\n",
    "#multiprocessing.Process는 프로세스를 만드는데 활용할 수 있다.\n",
    "# 1초에 한번씩 숫자가 하나씩 줄어들면서 출력 됨.\n",
    "class countDown(multiprocessing.Process):\n",
    "    # 프로세스를 생성했다.\n",
    "    def __init__(self, x):\n",
    "        # 생성자쪽에서 multiprocessing.Process의 생성자를 호출해서\n",
    "        # 실제 구동 가능한 프로세스를 만들었다.\n",
    "        # 해당 프로세스에는 x값을 입력으로 들어온 값을 설정한다.\n",
    "        multiprocessing.Process.__init__(self)\n",
    "        self.x = x\n",
    "    \n",
    "    # run()을 하면 실제 프로세스가 구동하는 함수\n",
    "    def run(self):\n",
    "        while True:\n",
    "            if self.x == 0: # 항상 참이 되니까 무한 루프\n",
    "                break\n",
    "                \n",
    "            print(\"Count Down ... %d\" % self.x)\n",
    "            self.x -= 1\n",
    "            # sleep(초단위 시간)을 통해서 대기할 수 있음\n",
    "            time.sleep(1)\n",
    "\n",
    "# 5초간 5 4 3 2 1을 카운트하는 프로세스를 생성한다.\n",
    "p = countDown(5)\n",
    "# 실제 p에 해당하는 클래스의 run()을 구동한다.\n",
    "p.start()"
   ]
  },
  {
   "cell_type": "code",
   "execution_count": 8,
   "metadata": {},
   "outputs": [
    {
     "name": "stdout",
     "output_type": "stream",
     "text": [
      "Count Down ... 40\n",
      "Count Down ... 39\n",
      "Count Down ... 38\n",
      "Count Down ... 37\n",
      "Count Down ... 36\n",
      "Count Down ... 35\n",
      "Count Down ... 34\n",
      "Count Down ... 33\n",
      "Count Down ... 32\n",
      "Count Down ... 31\n",
      "Count Down ... 30\n",
      "Count Down ... 29\n",
      "Count Down ... 28\n",
      "Count Down ... 27\n",
      "Count Down ... 26\n",
      "Count Down ... 25\n",
      "Count Down ... 24\n",
      "Count Down ... 23\n",
      "Count Down ... 22\n",
      "Count Down ... 21\n",
      "Count Down ... 20\n",
      "Count Down ... 19\n",
      "Count Down ... 18\n",
      "Count Down ... 17\n",
      "Count Down ... 16\n",
      "Count Down ... 15\n",
      "Count Down ... 14\n",
      "Count Down ... 13\n",
      "Count Down ... 12\n",
      "Count Down ... 11\n"
     ]
    },
    {
     "name": "stderr",
     "output_type": "stream",
     "text": [
      "Process countDown-8:\n",
      "Traceback (most recent call last):\n",
      "  File \"/home/bitai/anaconda3/lib/python3.7/multiprocessing/process.py\", line 297, in _bootstrap\n",
      "    self.run()\n",
      "  File \"<ipython-input-3-9238a4a4bd1d>\", line 16, in run\n",
      "    time.sleep(1)\n",
      "KeyboardInterrupt\n"
     ]
    }
   ],
   "source": [
    "p = countDown(40)\n",
    "# 실제 p에 해당하는 클래스의 run()을 구동한다.\n",
    "p.start()\n",
    "\n",
    "# 터미널에 가서 ps -ef하면 \n",
    "# bitai     3560  2255  0 11:21 ?        00:00:00 /home/bitai/anaconda3/bin/python\n",
    "# >>> 40~1까지 출력하는 프로세스\n",
    "\n",
    "# bitai     2255  1445  0 10:20 ?        00:00:01 /home/bitai/anaconda3/bin/python\n",
    "# >>> 부모 프로세스이기 때문에 윙서 3번째 열에 2255라는 부모프로세스를 가져옴.\n",
    "\n",
    "# 프로그램이 구동되는 도중에는 <defunct> 표시가 없었는데\n",
    "# 프로그램이 구동 완료된 이후에는 <defunct> 표시가 나타났다.\n",
    "# 리눅스에서는 프로세스를 관리할 때 자식 프로세스가 죽으면 부모 프로세스 자식 프로세스의 시신을 회수해 가야 한다.\n",
    "# 그러나 부모 프로세스도 죽었다면 좀비 프로세스가 되서\n",
    "# init 프로세스가 정화를 해줄때까지 defunct 상태에 놓이게 된다.\n",
    "# bitai     3560  2255  0 11:21 ?        00:00:00 [ZMQbg/73] <defunct>\n",
    "\n",
    "# 적당한 시간이 지나면 init(최상위 조상) 프로세스가 죽은 프로세스를 정리한다.\n",
    "# 정리하고 나 이후에 다시 ps -ef 명령을 보면\n",
    "# 기존에 있던 프로세스 아이디(PID)가 사라진 것을 확인할 수 있다.\n"
   ]
  },
  {
   "cell_type": "code",
   "execution_count": 9,
   "metadata": {},
   "outputs": [
    {
     "name": "stdout",
     "output_type": "stream",
     "text": [
      "I'm working ...: p1\n",
      "I'm working ...: p2\n",
      "I'm working ...: p3\n",
      "I'm working ...: p4\n",
      "Main thread ...\n",
      "I'm working ...: p1\n",
      "Main thread ...\n",
      "I'm working ...: p1\n",
      "I'm working ...: p4\n",
      "Main thread ...\n",
      "I'm working ...: p2\n",
      "I'm working ...: p1\n",
      "Main thread ...\n",
      "I'm working ...: p1\n",
      "I'm working ...: p4\n",
      "Main thread ...\n",
      "I'm working ...: p3\n",
      "I'm working ...: p1\n",
      "Main thread ...\n",
      "I'm working ...: p2\n",
      "I'm working ...: p4\n",
      "I'm working ...: p1\n",
      "Main thread ...\n",
      "I'm working ...: p1\n",
      "Main thread ...\n",
      "I'm working ...: p4\n",
      "I'm working ...: p1\n",
      "Main thread ...\n",
      "I'm working ...: p2\n",
      "I'm working ...: p1\n",
      "Main thread ...\n",
      "I'm working ...: p3\n",
      "I'm working ...: p4\n",
      "I'm working ...: p1\n",
      "Main thread ...\n",
      "I'm working ...: p1\n",
      "Main thread ...\n",
      "I'm working ...: p2\n",
      "I'm working ...: p4\n",
      "I'm working ...: p1\n",
      "Main thread ...\n",
      "I'm working ...: p1\n",
      "Main thread ...\n",
      "I'm working ...: p4\n",
      "I'm working ...: p1\n",
      "Main thread ...\n",
      "I'm working ...: p3\n",
      "I'm working ...: p2\n",
      "I'm working ...: p1\n",
      "Main thread ...\n",
      "I'm working ...: p4\n",
      "I'm working ...: p1\n",
      "Main thread ...\n",
      "I'm working ...: p1\n",
      "Main thread ...\n",
      "I'm working ...: p2\n",
      "I'm working ...: p4\n",
      "I'm working ...: p1\n",
      "Main thread ...\n",
      "I'm working ...: p1\n",
      "Main thread ...\n",
      "I'm working ...: p3\n",
      "I'm working ...: p4\n",
      "I'm working ...: p1\n",
      "Main thread ...\n",
      "I'm working ...: p2\n",
      "I'm working ...: p1\n",
      "Main thread ...\n",
      "I'm working ...: p4\n",
      "I'm working ...: p1\n",
      "Main thread ...\n",
      "I'm working ...: p1\n",
      "Main thread ...\n",
      "I'm working ...: p2\n",
      "I'm working ...: p4\n",
      "I'm working ...: p1\n",
      "Main thread ...\n",
      "I'm working ...: p3\n",
      "I'm working ...: p1\n",
      "Main thread ...\n",
      "I'm working ...: p4\n",
      "I'm working ...: p1\n",
      "Main thread ...\n",
      "I'm working ...: p2\n",
      "I'm working ...: p1\n",
      "Main thread ...\n",
      "I'm working ...: p4\n",
      "I'm working ...: p1\n",
      "Main thread ...\n",
      "I'm working ...: p1\n",
      "Main thread ...\n",
      "I'm working ...: p3\n",
      "I'm working ...: p2\n",
      "I'm working ...: p4\n",
      "I'm working ...: p1\n",
      "Main thread ...\n",
      "I'm working ...: p1\n",
      "Main thread ...\n",
      "I'm working ...: p4\n",
      "I'm working ...: p1\n",
      "Main thread ...\n",
      "I'm working ...: p2\n",
      "I'm working ...: p1\n",
      "Main thread ...\n",
      "I'm working ...: p4\n",
      "I'm working ...: p1\n",
      "Main thread ...\n",
      "I'm working ...: p3\n",
      "I'm working ...: p1\n",
      "Main thread ...\n",
      "I'm working ...: p2\n",
      "I'm working ...: p4\n",
      "I'm working ...: p1\n",
      "Main thread ...\n",
      "I'm working ...: p1\n",
      "Main thread ...\n",
      "I'm working ...: p4\n",
      "I'm working ...: p1\n",
      "Main thread ...\n",
      "I'm working ...: p2\n",
      "I'm working ...: p1\n",
      "Main thread ...\n",
      "I'm working ...: p3\n",
      "I'm working ...: p4\n",
      "I'm working ...: p1\n",
      "Main thread ...\n",
      "I'm working ...: p1\n",
      "Main thread ...\n",
      "I'm working ...: p2\n",
      "I'm working ...: p4\n",
      "I'm working ...: p1\n",
      "Main thread ...\n",
      "I'm working ...: p1\n",
      "Main thread ...\n",
      "I'm working ...: p4\n",
      "I'm working ...: p1\n",
      "Main thread ...\n",
      "I'm working ...: p3\n",
      "I'm working ...: p2\n",
      "I'm working ...: p1\n",
      "Main thread ...\n",
      "I'm working ...: p4\n"
     ]
    },
    {
     "name": "stderr",
     "output_type": "stream",
     "text": [
      "Process Process-11:\n",
      "Process Process-9:\n",
      "Process Process-10:\n",
      "  File \"/home/bitai/anaconda3/lib/python3.7/multiprocessing/process.py\", line 297, in _bootstrap\n",
      "    self.run()\n",
      "  File \"/home/bitai/anaconda3/lib/python3.7/multiprocessing/process.py\", line 297, in _bootstrap\n",
      "    self.run()\n",
      "Process Process-12:\n",
      "Traceback (most recent call last):\n",
      "Traceback (most recent call last):\n",
      "Traceback (most recent call last):\n",
      "Traceback (most recent call last):\n",
      "  File \"/home/bitai/anaconda3/lib/python3.7/multiprocessing/process.py\", line 297, in _bootstrap\n",
      "    self.run()\n",
      "  File \"/home/bitai/anaconda3/lib/python3.7/multiprocessing/process.py\", line 297, in _bootstrap\n",
      "    self.run()\n"
     ]
    },
    {
     "name": "stdout",
     "output_type": "stream",
     "text": [
      "Main thread ...\n"
     ]
    },
    {
     "name": "stderr",
     "output_type": "stream",
     "text": [
      "  File \"/home/bitai/anaconda3/lib/python3.7/multiprocessing/process.py\", line 99, in run\n",
      "    self._target(*self._args, **self._kwargs)\n",
      "  File \"/home/bitai/anaconda3/lib/python3.7/multiprocessing/process.py\", line 99, in run\n",
      "    self._target(*self._args, **self._kwargs)\n"
     ]
    },
    {
     "ename": "KeyboardInterrupt",
     "evalue": "",
     "output_type": "error",
     "traceback": [
      "\u001b[0;31m---------------------------------------------------------------------------\u001b[0m",
      "\u001b[0;31mKeyboardInterrupt\u001b[0m                         Traceback (most recent call last)",
      "\u001b[0;32m<ipython-input-9-a74c8bfe2177>\u001b[0m in \u001b[0;36m<module>\u001b[0;34m\u001b[0m\n\u001b[1;32m     36\u001b[0m     \u001b[0;31m# 자신의 프로세스 ID는 PID, 부모의 프로세스 DI는 PPID\u001b[0m\u001b[0;34m\u001b[0m\u001b[0;34m\u001b[0m\u001b[0;34m\u001b[0m\u001b[0m\n\u001b[1;32m     37\u001b[0m     \u001b[0mprint\u001b[0m\u001b[0;34m(\u001b[0m\u001b[0;34m\"Main thread ...\"\u001b[0m\u001b[0;34m)\u001b[0m\u001b[0;34m\u001b[0m\u001b[0;34m\u001b[0m\u001b[0m\n\u001b[0;32m---> 38\u001b[0;31m     \u001b[0mtime\u001b[0m\u001b[0;34m.\u001b[0m\u001b[0msleep\u001b[0m\u001b[0;34m(\u001b[0m\u001b[0;36m1\u001b[0m\u001b[0;34m)\u001b[0m\u001b[0;34m\u001b[0m\u001b[0;34m\u001b[0m\u001b[0m\n\u001b[0m\u001b[1;32m     39\u001b[0m \u001b[0;34m\u001b[0m\u001b[0m\n\u001b[1;32m     40\u001b[0m \u001b[0;31m# ps -ef로 프로세스 리스트를 확인할 수 있고\u001b[0m\u001b[0;34m\u001b[0m\u001b[0;34m\u001b[0m\u001b[0;34m\u001b[0m\u001b[0m\n",
      "\u001b[0;31mKeyboardInterrupt\u001b[0m: "
     ]
    },
    {
     "name": "stderr",
     "output_type": "stream",
     "text": [
      "  File \"/home/bitai/anaconda3/lib/python3.7/multiprocessing/process.py\", line 99, in run\n",
      "    self._target(*self._args, **self._kwargs)\n",
      "  File \"/home/bitai/anaconda3/lib/python3.7/multiprocessing/process.py\", line 99, in run\n",
      "    self._target(*self._args, **self._kwargs)\n",
      "  File \"<ipython-input-9-a74c8bfe2177>\", line 10, in process\n",
      "    time.sleep(interval)\n",
      "  File \"<ipython-input-9-a74c8bfe2177>\", line 10, in process\n",
      "    time.sleep(interval)\n",
      "  File \"<ipython-input-9-a74c8bfe2177>\", line 10, in process\n",
      "    time.sleep(interval)\n",
      "  File \"<ipython-input-9-a74c8bfe2177>\", line 10, in process\n",
      "    time.sleep(interval)\n",
      "KeyboardInterrupt\n",
      "KeyboardInterrupt\n",
      "KeyboardInterrupt\n",
      "KeyboardInterrupt\n"
     ]
    }
   ],
   "source": [
    "# 멀티 프로세스란? 여러개가 동시다발적으로 작업을 하는 과정\n",
    "import time\n",
    "import multiprocessing\n",
    "\n",
    "# 프로세스 함수는 메시지를 출력하고\n",
    "# 일정한 시간 간격으로 동작을 하도록 서포트한다.\n",
    "def process(message, interval):\n",
    "    while True:\n",
    "        print(\"I'm working ...: %s\" % message)\n",
    "        time.sleep(interval)\n",
    "        \n",
    "# 람다 = 메서드를 객체화 한 것.\n",
    "# p1이라는 프로세스를 만드는데 이 녀석에게 위에 def process 함수의 일을 시킬 것이다.\n",
    "# 그리고 파라미터(입력)로는 args = (\"p1\", 1)을 전달할 것이다.\n",
    "p1 = multiprocessing.Process(target = process, args = (\"p1\", 1, ))\n",
    "# p2인데 작업은 3초 마다\n",
    "p2 = multiprocessing.Process(target = process, args = (\"p2\", 3, ))\n",
    "# p3인데 작업은 5초 마다\n",
    "p3 = multiprocessing.Process(target = process, args = (\"p3\", 5, )) # 5초마다 하나씩 옮김\n",
    "# p4인데 작업은 2초 마다\n",
    "p4 = multiprocessing.Process(target = process, args = (\"p4\", 2, ))\n",
    "\n",
    "p1.start()\n",
    "p2.start()\n",
    "p3.start()\n",
    "p4.start()\n",
    "\n",
    "cnt = 0\n",
    "\n",
    "while cnt < 100:\n",
    "    cnt += 1\n",
    "    # 메인 스레드(부모 프로세스)\n",
    "    # 프로세스를 생성할 때는 부모 프로세스가 자식 프로세스를 관리하게 된다.\n",
    "    # ps -ef  명령으로 볼 때\n",
    "    # 자식 프로세스들은 모두 공통된 부모 프로세스를 가지게 된다.\n",
    "    # 자신의 프로세스 ID는 PID, 부모의 프로세스 DI는 PPID\n",
    "    print(\"Main thread ...\")\n",
    "    time.sleep(1)\n",
    "\n",
    "    \n",
    "# <팁>\n",
    "# ps -ef로 프로세스 리스트를 확인할 수 있고\n",
    "# 확인된 프로세스들 중 강종을 하고 싶은 녀석이 있다면\n",
    "# kill -0 PID 숫자를 통해서 제거할 수 있다.\n",
    "# >>> <defunct>로 변경할 수 있다.\n",
    "\n",
    "# 4개의 프로세스를 실행시켰기 때문에 4개가 생성        \n",
    "# bitai     3686  2255  0 11:26 ?        00:00:00 /home/bitai/anaconda3/bin/python\n",
    "# bitai     3689  2255  0 11:26 ?        00:00:00 /home/bitai/anaconda3/bin/python\n",
    "# bitai     3692  2255  0 11:26 ?        00:00:00 /home/bitai/anaconda3/bin/python\n",
    "# bitai     3693  2255  0 11:26 ?        00:00:00 /home/bitai/anaconda3/bin/python\n",
    "\n",
    "# 초마다 실행되는 것을 중지시키면 이렇게 바뀜.\n",
    "# bitai     3686  2255  0 11:26 ?        00:00:00 [ZMQbg/107] <defunct>\n",
    "# bitai     3689  2255  0 11:26 ?        00:00:00 [ZMQbg/47] <defunct>\n",
    "# bitai     3692  2255  0 11:26 ?        00:00:00 [ZMQbg/35] <defunct>\n",
    "# bitai     3693  2255  0 11:26 ?        00:00:00 [ZMQbg/63] <defunct>"
   ]
  },
  {
   "cell_type": "code",
   "execution_count": 15,
   "metadata": {},
   "outputs": [
    {
     "name": "stdout",
     "output_type": "stream",
     "text": [
      "100\n",
      "[0, 1, 4, 9, 16, 25, 36, 49, 64, 81]\n",
      "0\n",
      "1\n",
      "4\n",
      "None\n",
      "pass\n"
     ]
    },
    {
     "ename": "TimeoutError",
     "evalue": "",
     "output_type": "error",
     "traceback": [
      "\u001b[0;31m---------------------------------------------------------------------------\u001b[0m",
      "\u001b[0;31mTimeoutError\u001b[0m                              Traceback (most recent call last)",
      "\u001b[0;32m<ipython-input-15-7302d8533c02>\u001b[0m in \u001b[0;36m<module>\u001b[0;34m\u001b[0m\n\u001b[1;32m     39\u001b[0m \u001b[0;31m# 10초간 슬립을 하는데 대기 시간은 3초이므로 에러가 발생!\u001b[0m\u001b[0;34m\u001b[0m\u001b[0;34m\u001b[0m\u001b[0;34m\u001b[0m\u001b[0m\n\u001b[1;32m     40\u001b[0m \u001b[0mres\u001b[0m \u001b[0;34m=\u001b[0m \u001b[0mpool\u001b[0m\u001b[0;34m.\u001b[0m\u001b[0mapply_async\u001b[0m\u001b[0;34m(\u001b[0m\u001b[0mtime\u001b[0m\u001b[0;34m.\u001b[0m\u001b[0msleep\u001b[0m\u001b[0;34m,\u001b[0m \u001b[0;34m(\u001b[0m\u001b[0;36m10\u001b[0m\u001b[0;34m,\u001b[0m \u001b[0;34m)\u001b[0m\u001b[0;34m)\u001b[0m\u001b[0;34m\u001b[0m\u001b[0;34m\u001b[0m\u001b[0m\n\u001b[0;32m---> 41\u001b[0;31m \u001b[0mprint\u001b[0m\u001b[0;34m(\u001b[0m\u001b[0mres\u001b[0m\u001b[0;34m.\u001b[0m\u001b[0mget\u001b[0m\u001b[0;34m(\u001b[0m\u001b[0mtimeout\u001b[0m \u001b[0;34m=\u001b[0m \u001b[0;36m3\u001b[0m\u001b[0;34m)\u001b[0m\u001b[0;34m)\u001b[0m \u001b[0;31m# 시간이 길어질 경우 적정시간을 정해서 timeout을 해줘야 함.\u001b[0m\u001b[0;34m\u001b[0m\u001b[0;34m\u001b[0m\u001b[0m\n\u001b[0m",
      "\u001b[0;32m~/anaconda3/lib/python3.7/multiprocessing/pool.py\u001b[0m in \u001b[0;36mget\u001b[0;34m(self, timeout)\u001b[0m\n\u001b[1;32m    651\u001b[0m         \u001b[0mself\u001b[0m\u001b[0;34m.\u001b[0m\u001b[0mwait\u001b[0m\u001b[0;34m(\u001b[0m\u001b[0mtimeout\u001b[0m\u001b[0;34m)\u001b[0m\u001b[0;34m\u001b[0m\u001b[0;34m\u001b[0m\u001b[0m\n\u001b[1;32m    652\u001b[0m         \u001b[0;32mif\u001b[0m \u001b[0;32mnot\u001b[0m \u001b[0mself\u001b[0m\u001b[0;34m.\u001b[0m\u001b[0mready\u001b[0m\u001b[0;34m(\u001b[0m\u001b[0;34m)\u001b[0m\u001b[0;34m:\u001b[0m\u001b[0;34m\u001b[0m\u001b[0;34m\u001b[0m\u001b[0m\n\u001b[0;32m--> 653\u001b[0;31m             \u001b[0;32mraise\u001b[0m \u001b[0mTimeoutError\u001b[0m\u001b[0;34m\u001b[0m\u001b[0;34m\u001b[0m\u001b[0m\n\u001b[0m\u001b[1;32m    654\u001b[0m         \u001b[0;32mif\u001b[0m \u001b[0mself\u001b[0m\u001b[0;34m.\u001b[0m\u001b[0m_success\u001b[0m\u001b[0;34m:\u001b[0m\u001b[0;34m\u001b[0m\u001b[0;34m\u001b[0m\u001b[0m\n\u001b[1;32m    655\u001b[0m             \u001b[0;32mreturn\u001b[0m \u001b[0mself\u001b[0m\u001b[0;34m.\u001b[0m\u001b[0m_value\u001b[0m\u001b[0;34m\u001b[0m\u001b[0;34m\u001b[0m\u001b[0m\n",
      "\u001b[0;31mTimeoutError\u001b[0m: "
     ]
    }
   ],
   "source": [
    "# 다시듣기\n",
    "\n",
    "import time\n",
    "from multiprocessing import Pool\n",
    "\n",
    "def f(x):\n",
    "    return x * x\n",
    "\n",
    "# 프로세스들의 집합 장소를 만들어서 4개를 수용할 수 있도록 하였다.\n",
    "pool = Pool(processes = 4)\n",
    "\n",
    "# 숫자 10을 제곱하는 용도 >> 이렇게 작업 하나할 때는 비동기 처리가 필요 없음\n",
    "# 이때 작업 전체는 비동기 처리가 이루어진다.\n",
    "# pool.apply_async()가 비동기 처리 작업을 지원한다.\n",
    "# 프로세스에 작업 처리를 전달할 경우에는 데이터 2개를 넣을 때 2개를 표시해주고 , 표시하고 괄호를 닫아야 한다.\n",
    "# ex) pool.abcd(f, (10, 20, ))\n",
    "res = pool. apply_async(f, (10, ))\n",
    "\n",
    "# 1초 안에 처리하지 못하면 에러!\n",
    "# 처리를 한다면 결과를 출력한다.\n",
    "print(res.get(timeout = 1))\n",
    "\n",
    "# 위의 def f라는 기능을 10번 작업하도록 한다.\n",
    "# range(10)은 데이터 개수가 10개 이므로 비동기 처리의 의미가 있다.\n",
    "print(pool.map(f, range(10)))\n",
    "\n",
    "# pool.imap의 경우에는 출력하지 않고 iteratin(반복) 가능한 객체를 만든다.\n",
    "it = pool.imap(f, range(10))\n",
    "# it.next()를 통해서 첫 번째 결과\n",
    "print(it.next())\n",
    "# it.next()를 통해서 두 번째 결과\n",
    "print(it.next())\n",
    "# 세 번째 결과를 출력한다.\n",
    "print(it.next(timeout = 2))\n",
    "\n",
    "# 10초간 슬립하고 하는 일이 없으므로 None이 나온다. \n",
    "res = pool.apply_async(time.sleep, (10, ))\n",
    "print(res.get(timeout = 60))\n",
    "print(\"pass\")\n",
    "\n",
    "# 10초간 슬립을 하는데 대기 시간은 3초이므로 에러가 발생! >>> 3초를 대기해도 결과가 없으면 오류가 나는 것.\n",
    "res = pool.apply_async(time.sleep, (10, ))\n",
    "print(res.get(timeout = 3)) # 시간이 길어질 경우 적정시간을 정해서 timeout을 해줘야 함."
   ]
  },
  {
   "cell_type": "code",
   "execution_count": 10,
   "metadata": {},
   "outputs": [
    {
     "name": "stdout",
     "output_type": "stream",
     "text": [
      "Final Money = 14007\n",
      "Final Money = 20019\n",
      "Final Money = 21213\n",
      "Final Money = 17173\n",
      "Final Money = 17434\n",
      "Final Money = 23336\n",
      "Final Money = 25804\n",
      "Final Money = 19143\n",
      "Final Money = 18632\n",
      "Final Money = 17034\n"
     ]
    }
   ],
   "source": [
    "# *** 다시 듣기\n",
    "\n",
    "import multiprocessing as mp\n",
    "\n",
    "# 프로세스는 CPU의 추상화 >> CPU를 획득하기 위해서 경쟁함.\n",
    "# p1 프로세스의 작업 \n",
    "# class 아니고 함수임을 주의!\n",
    "def withdraw(money):\n",
    "    for _ in range(20000):\n",
    "        money.value -= 1  # 2만번 루프 도니까 2만원 출금\n",
    "        \n",
    "# p2 프로세스의 작업\n",
    "def deposit(money):\n",
    "    for _ in range(20000):\n",
    "        money.value += 1  # 2만번 루프 도니까 2만원 입금\n",
    "\n",
    "        \n",
    "def perform_process():\n",
    "\n",
    "    # money는 크리티컬 섹션이 되었다. + 공유하는 공통적인 변수로 만들어 줄 수 있는 것 \n",
    "    # mp.Value('i', 20000) 이걸 쓰면 프로세스 간의 정보를 공유할 수 있음.\n",
    "    # >>> 여러 프로세스들이 동시다발적으로 접근 가능할 수 있는 영역이 된 것.\n",
    "    # 왜? 여러 프로세스들이 동시다발적으로 접근 가능하기 때문에 >>> 변수들이 크리티컬 섹션이 됨.\n",
    "    \n",
    "    # 프로세스 간에는 원래 데이터를 공유할 수 없다.\n",
    "    # 그러다보니 IPC라는 것을 내부적으로 사용하여\n",
    "    # 프로세스 간에 정보를 공유할 수 있도록 해준다.\n",
    "    # 이 작업을 mp.Value()가 해준 것이다.\n",
    "    money = mp.Value('i', 20000) # 초기 자본금 2만원 \n",
    "    \n",
    "    \n",
    "    p1 = mp.Process(target = withdraw, args = (money, ))\n",
    "    p2 = mp.Process(target = deposit, args = (money, ))\n",
    "    \n",
    "    p1.start()\n",
    "    p2.start()\n",
    "    \n",
    "    p1.join()\n",
    "    p2.join() \n",
    "    \n",
    "    print(\"Final Money = {}\".format(money.value))\n",
    "    \n",
    "for _ in range(10):\n",
    "    perform_process()"
   ]
  },
  {
   "cell_type": "code",
   "execution_count": 22,
   "metadata": {},
   "outputs": [
    {
     "name": "stdout",
     "output_type": "stream",
     "text": [
      "Final Money = 20000\n",
      "Final Money = 20000\n",
      "Final Money = 20000\n",
      "Final Money = 20000\n",
      "Final Money = 20000\n",
      "Final Money = 20000\n",
      "Final Money = 20000\n",
      "Final Money = 20000\n",
      "Final Money = 20000\n",
      "Final Money = 20000\n"
     ]
    }
   ],
   "source": [
    "# 일정한 금액이 출력됨! >>> 은행 전산에서는 위와 같은 상황이 발생하면 안되기 때문에 lock을 이용함!!!!\n",
    "\n",
    "import multiprocessing as mp\n",
    "\n",
    "# 프로세스는 CPU의 추상화 >> CPU를 획득하기 위해서 경쟁함.\n",
    "# p1 프로세스의 작업 \n",
    "# class 아니고 함수임을 주의!\n",
    "def withdraw(money, lock):\n",
    "    for _ in range(20000):\n",
    "        # 자물쇠를 채운다. - lock.acqure()\n",
    "        # 자물쇠를 채웠으므로 아무도 여기에는 이제 들어오지 못한다.\n",
    "        # 들어오지 못하는 영역이결국 크리티컬 섹션이다.\n",
    "        # 만약 자물쇠(락)가 채워진 상태에서 다른 녀석이 \n",
    "        # 자물쇠(락)을 얻으려고 하면 접근히자 못하게 된다.\n",
    "        # (락이 풀릴때 까지 - lock.release())\n",
    "        lock.acquire() \n",
    "        money.value -= 1  # 2만번 루프 도니까 2만원 출금\n",
    "        \n",
    "        lock.release() # 락을 푼 것\n",
    "\n",
    "# p2 프로세스의 작업\n",
    "def deposit(money, lock):\n",
    "    for _ in range(20000):\n",
    "        lock.acquire()\n",
    "        money.value += 1  # 2만번 루프 도니까 2만원 입금\n",
    "        lock.release()\n",
    "        \n",
    "def perform_process():\n",
    "    # money는 크리티컬 섹션이 되었다. >>> 여러 프로세스들이 동시다발적으로 접근 가능할 수 있는 영역이 된 것.\n",
    "    # 왜? 여러 프로세스들이 동시다발적으로 접근 가능하기 때문에 >>> 변수들이 크리티컬 섹션이 됨.\n",
    "    money = mp.Value('i', 20000) # 초기 자본금 2만원\n",
    "    \n",
    "    # 크리티컬 섹션을 보호해주기이 위한 락을 추가했다.\n",
    "    # 락을 남발하면 오히려 성능을 저하시킬 수 있다.\n",
    "    # 그러나 크리티컬 섹션에 대한 보호를 수행하는데 락을 반드시 사용해야 한다.\n",
    "    lock = mp.Lock()\n",
    "    \n",
    "    p1 = mp.Process(target = withdraw, args = (money, lock, ))\n",
    "    p2 = mp.Process(target = deposit, args = (money, lock, ))\n",
    "    \n",
    "    p1.start()\n",
    "    p2.start()\n",
    "    \n",
    "    p1.join()\n",
    "    p2.join()\n",
    "    \n",
    "    print(\"Final Money = {}\".format(money.value))\n",
    "    \n",
    "for _ in range(10):\n",
    "    perform_process()"
   ]
  },
  {
   "cell_type": "code",
   "execution_count": 24,
   "metadata": {},
   "outputs": [
    {
     "name": "stdout",
     "output_type": "stream",
     "text": [
      "[time:Thu Jul  2 19:52:09 2020][tid:139673385027328] Thread!\n",
      "[time:Thu Jul  2 19:52:09 2020][tid:139673376634624] Thread!\n",
      "\n",
      "\n",
      "[time:Thu Jul  2 19:52:09 2020][tid:139673368241920] Thread!\n",
      "\n",
      "[time:Thu Jul  2 19:52:09 2020][tid:139673359849216] Thread!\n",
      "\n",
      "[time:Thu Jul  2 19:52:09 2020][tid:139672873334528] Thread!\n",
      "\n",
      "[time:Thu Jul  2 19:52:09 2020][tid:139672864941824] Thread!\n",
      "\n",
      "[time:Thu Jul  2 19:52:09 2020][tid:139672856549120] Thread!\n",
      "\n",
      "[time:Thu Jul  2 19:52:09 2020][tid:139672848156416] Thread!\n",
      "\n",
      "[time:Thu Jul  2 19:52:09 2020][tid:139672839763712] Thread!\n",
      "\n",
      "[time:Thu Jul  2 19:52:09 2020][tid:139672831371008] Thread!\n",
      "\n",
      "[time:Thu Jul  2 19:52:09 2020][tid:139672822978304] Thread!\n",
      "\n",
      "[time:Thu Jul  2 19:52:09 2020][tid:139672470681344] Thread!\n",
      "\n"
     ]
    }
   ],
   "source": [
    "import time\n",
    "import threading\n",
    "\n",
    "# threading.Thread를 상속받아 Dummy Thread를 기본적인 Thread 구조로 만들었다.\n",
    "# 여기서는 run만 해주면 바로 스레드를 활용할 수 있게 된다.\n",
    "# run에는 스레드가 작업할 내용을 작성해주면 된다.\n",
    "class DummyThread(threading.Thread):\n",
    "    def run(self):\n",
    "        # time.ctime()은 생성 시간\n",
    "        now = time.ctime()\n",
    "        # self.ident는 Thread 자체의 ID 값을 나타낸다.\n",
    "        print(\n",
    "            \"[time:%s][tid:%d] Thread!\\n\" % (now, self.ident)  \n",
    "        )\n",
    "        time.sleep(30) # sleep을 30초 정도 줌\n",
    "        \n",
    "# 같은 PID를 가지는 것이 13개가 나옴!\n",
    "# 그 이유는\n",
    "# 스레드를 전체 총괄하는 Main Threa가 있고\n",
    "# 그리고 Main Thread(Process)의 통제를 받는 12개의 별도 Thread가 존재하는 것 \n",
    "# 그래서 ps-eLf로 살펴봤을 때 Main Thread에 해당하는 녀석 1개와\n",
    "# 직접 range를 주고 만든 Thread 12개가 잡혀서\n",
    "# 총 13개의 Thread가 잡힌 모습을 볼 수 있었다.\n",
    "# chrome으로 잡힌 이유는 크롬에서 스레드를 만들었기 때문 >>> 주피터에서 스레드를 실행했기 때문임!!\n",
    "for _ in range(12):\n",
    "    t = DummyThread()\n",
    "    t.start()\n",
    "    \n",
    "    \n",
    "# 스레드 ID ps 해볼 수 있음 >>> ps -eLf\n",
    "# PID는 주민등록번호와 같은 것이라서 고유한 정보로 나와야 하는데, ps -eLf를 치면 PID가 스레드 ID가 됨!\n",
    "# 같은 녀석들은 하나의 스레드 안에서 돌아가고 있는 것들!"
   ]
  },
  {
   "cell_type": "code",
   "execution_count": 1,
   "metadata": {},
   "outputs": [],
   "source": [
    "# Thread는 Process와 다른 점이 하나 있다.\n",
    "# Thread는 기본적으로 Data 영역을 공유한다.\n",
    "# Process는 기본적으로 Data 영역이 분리되어 있다.\n",
    "# >>> Process 간의 정보를 주고 받으려면 Data 영역을 쉐어링시키는 작업을 해줘야 함.\n",
    "#     위의 money = mp.Value('i', 20000)\n",
    "#     이 작업을 하면 크리티컬 섹션이 되기도 하지만, 엄밀히 말하면 공유하는 공통적인 변수로 만들어 줄 수 있는 것.\n",
    "\n",
    "# ★★★★★\n",
    "# 스레드 쪽에서는 다른건 전부 프로세스와 동일한데, Data 영역을 별도로 지정해주지 않아도 알아서 공유가 된다는 점이 핵심적인 차이\n",
    "# 애초에 데이터를 공유하고 lock을 공유하는 프로세스보다는 스레드를 쓰는게 낫음.\n",
    "# 프로세스는 왜 필요할까?\n",
    "# Main Thread가 process\n"
   ]
  },
  {
   "cell_type": "code",
   "execution_count": 7,
   "metadata": {},
   "outputs": [
    {
     "name": "stdout",
     "output_type": "stream",
     "text": [
      "x = 1727251 after Iteratin 0\n",
      "x = 1566065 after Iteratin 1\n",
      "x = 1747371 after Iteratin 2\n",
      "x = 1616316 after Iteratin 3\n",
      "x = 1602558 after Iteratin 4\n",
      "x = 1737769 after Iteratin 5\n",
      "x = 1536801 after Iteratin 6\n",
      "x = 1571770 after Iteratin 7\n",
      "x = 1581972 after Iteratin 8\n",
      "x = 1650943 after Iteratin 9\n"
     ]
    }
   ],
   "source": [
    "import threading\n",
    "\n",
    "# 전역 변수는 Data 영역에 배치된다.\n",
    "# 이 전역 변수는 디폴트로 공유가 됨\n",
    "x = 0 \n",
    " \n",
    "def increment_global():\n",
    "    global x\n",
    "    x += 1\n",
    "\n",
    "# thread는 기본적으로 Data 영역을 공유함 \n",
    "# >>> 스레드는 지정해주지 않아도 공유가 됨\n",
    "# 프로세는 mp.Value('i', ) 해서 공유시켜줬음. >> 강제로 공유 자원을 만들어준 것!\n",
    "# >>> 애초에 안되는 것을 한 것이기 때문에 추가적 비용 발생\n",
    "\n",
    "# 두 개의 스레드를 만들었다.\n",
    "# 두 개의 스레드는 taskOfThread라는 함수를 구동시킨다.\n",
    "def taskOfThread():\n",
    "    for _ in range(100000):\n",
    "        increment_global()\n",
    "        \n",
    "def thread_main():\n",
    "    global x\n",
    "    x = 0\n",
    "    \n",
    "    t1 = threading.Thread(target = taskOfThread)\n",
    "    t2 = threading.Thread(target = taskOfThread)\n",
    "    \n",
    "    t1.start()\n",
    "    t2.start()\n",
    "    \n",
    "    t1.join()\n",
    "    t2.join()\n",
    "    \n",
    "\n",
    "# 요번 예제를 통해서는 결국 Thread가\n",
    "# 전역 변수 (Data 영역)의 내용을 별도의 작업 없이도\n",
    "# 공유할 수 있음을 확인하는 부분이다.\n",
    "for i in range(10):\n",
    "    thread_main()\n",
    "    print(\"x = {1} after Iteratin {0}\".format(i, x))\n",
    "    \n",
    "# 2000000이 잘 나온다는 것이 컴퓨터 성능이 좋다는 뜻.\n",
    "# 스레드에 주어진 분자가 정해져있는데 시간 내에 잘 처리하면 200000이 잘 나온 것\n",
    "# 200000이 아닌 다른 숫자가 나온다는 것은 context switching이 일어난 것.\n",
    "# 1000000을 하면 아무래도 처리하는 시간이 걸리기 때문에 다른 숫자가 나옴. (숫자가 흐트러짐/ 많이 깨짐)\n",
    "\n",
    "# 아까는 2만으로 해서 더하고 빼는 것을 프로세스로 구동시켰을 때\n",
    "# 그렇게 빠르지 않았음!!\n",
    "\n",
    "# 여기서는 10만으로 해서 5배가 더 많지만 스레드로 구동했을 때 빨랐음! \n",
    "# >>> 데이터 안정성은 보장 안되지만, Data 영역을 기본적으로 공유하고 있기 때문에 추가적 비용이 발생 X"
   ]
  },
  {
   "cell_type": "code",
   "execution_count": 9,
   "metadata": {},
   "outputs": [
    {
     "name": "stdout",
     "output_type": "stream",
     "text": [
      "x = 2000000 after Iteratin 0\n",
      "x = 2000000 after Iteratin 1\n",
      "x = 2000000 after Iteratin 2\n",
      "x = 2000000 after Iteratin 3\n",
      "x = 2000000 after Iteratin 4\n",
      "x = 2000000 after Iteratin 5\n",
      "x = 2000000 after Iteratin 6\n",
      "x = 2000000 after Iteratin 7\n",
      "x = 2000000 after Iteratin 8\n",
      "x = 2000000 after Iteratin 9\n"
     ]
    }
   ],
   "source": [
    "# 어떤 상황에서도 데이터 안전하게 가져올 수 있도록 해보자!\n",
    "# 데이터가 어떤 상황에서도 같은 값으로 안전하게 보장이 됨\n",
    "import threading\n",
    "\n",
    "# Threading 라이브러리의 Lock을 사용하는 것이 thread를 다룰 때는 더 좋다.\n",
    "# 스레드가 lock을 인식할 수 있도록 가져옴 (Thread 전용 lock)\n",
    "lock = threading.Lock() \n",
    "x = 0 \n",
    " \n",
    "def increment_global():\n",
    "    global x\n",
    "    x += 1\n",
    "\n",
    "def taskOfThread():\n",
    "    for _ in range(1000000):\n",
    "        lock.acquire()\n",
    "        increment_global()\n",
    "        lock.release()\n",
    "        \n",
    "        \n",
    "def thread_main():\n",
    "    global x\n",
    "    x = 0\n",
    "    \n",
    "    t1 = threading.Thread(target = taskOfThread)\n",
    "    t2 = threading.Thread(target = taskOfThread)\n",
    "    \n",
    "    t1.start()\n",
    "    t2.start()\n",
    "    \n",
    "    t1.join()\n",
    "    t2.join()\n",
    "    \n",
    "for i in range(10):\n",
    "    thread_main()\n",
    "    print(\"x = {1} after Iteratin {0}\".format(i, x))\n",
    "    \n"
   ]
  },
  {
   "cell_type": "code",
   "execution_count": 3,
   "metadata": {},
   "outputs": [
    {
     "name": "stdout",
     "output_type": "stream",
     "text": [
      "Worker Process is for 1: 10625\n",
      "Worker Process is for 2: 10625\n",
      "Worker Process is for 3: 10625\n",
      "Worker Process is for 4: 10625\n",
      "Worker Process is for 5: 10625\n"
     ]
    }
   ],
   "source": [
    "# pull을 이용해서 멀티 태스킹 해보기\n",
    "# 정적분 구현할 때 쓴 코드와 똑같음\n",
    "\n",
    "def square2(x):\n",
    "    return x * x\n",
    "\n",
    "myList = [1, 2, 3, 4, 5]\n",
    "res = []\n",
    "\n",
    "for num in myList:\n",
    "    res.append(square(num))\n",
    "    \n",
    "# 메인 프로세스가 5번 수행하면서 결과 생성"
   ]
  },
  {
   "cell_type": "code",
   "execution_count": 4,
   "metadata": {},
   "outputs": [
    {
     "name": "stdout",
     "output_type": "stream",
     "text": [
      "Worker Process is for 2: 10684\n",
      "Worker Process is for 5: 10687\n",
      "Worker Process is for 1: 10683\n",
      "Worker Process is for 4: 10686\n",
      "Worker Process is for 3: 10685\n",
      "<multiprocessing.pool.Pool object at 0x7f091460cc10>\n",
      "[1, 4, 9, 16, 25]\n"
     ]
    },
    {
     "name": "stderr",
     "output_type": "stream",
     "text": [
      "Process ForkPoolWorker-21:\n",
      "Process ForkPoolWorker-20:\n",
      "Process ForkPoolWorker-18:\n",
      "Process ForkPoolWorker-17:\n",
      "Process ForkPoolWorker-19:\n",
      "Process ForkPoolWorker-24:\n",
      "Process ForkPoolWorker-22:\n",
      "Process ForkPoolWorker-23:\n",
      "Traceback (most recent call last):\n",
      "Traceback (most recent call last):\n",
      "Traceback (most recent call last):\n",
      "Traceback (most recent call last):\n",
      "Traceback (most recent call last):\n",
      "Traceback (most recent call last):\n",
      "  File \"/home/bitai/anaconda3/lib/python3.7/multiprocessing/process.py\", line 297, in _bootstrap\n",
      "    self.run()\n",
      "  File \"/home/bitai/anaconda3/lib/python3.7/multiprocessing/process.py\", line 297, in _bootstrap\n",
      "    self.run()\n",
      "Traceback (most recent call last):\n",
      "Traceback (most recent call last):\n",
      "  File \"/home/bitai/anaconda3/lib/python3.7/multiprocessing/process.py\", line 297, in _bootstrap\n",
      "    self.run()\n",
      "  File \"/home/bitai/anaconda3/lib/python3.7/multiprocessing/process.py\", line 297, in _bootstrap\n",
      "    self.run()\n",
      "  File \"/home/bitai/anaconda3/lib/python3.7/multiprocessing/process.py\", line 297, in _bootstrap\n",
      "    self.run()\n",
      "  File \"/home/bitai/anaconda3/lib/python3.7/multiprocessing/process.py\", line 297, in _bootstrap\n",
      "    self.run()\n",
      "  File \"/home/bitai/anaconda3/lib/python3.7/multiprocessing/process.py\", line 297, in _bootstrap\n",
      "    self.run()\n",
      "  File \"/home/bitai/anaconda3/lib/python3.7/multiprocessing/process.py\", line 99, in run\n",
      "    self._target(*self._args, **self._kwargs)\n",
      "  File \"/home/bitai/anaconda3/lib/python3.7/multiprocessing/process.py\", line 99, in run\n",
      "    self._target(*self._args, **self._kwargs)\n",
      "  File \"/home/bitai/anaconda3/lib/python3.7/multiprocessing/process.py\", line 297, in _bootstrap\n",
      "    self.run()\n",
      "  File \"/home/bitai/anaconda3/lib/python3.7/multiprocessing/process.py\", line 99, in run\n",
      "    self._target(*self._args, **self._kwargs)\n",
      "  File \"/home/bitai/anaconda3/lib/python3.7/multiprocessing/process.py\", line 99, in run\n",
      "    self._target(*self._args, **self._kwargs)\n",
      "  File \"/home/bitai/anaconda3/lib/python3.7/multiprocessing/process.py\", line 99, in run\n",
      "    self._target(*self._args, **self._kwargs)\n",
      "  File \"/home/bitai/anaconda3/lib/python3.7/multiprocessing/pool.py\", line 110, in worker\n",
      "    task = get()\n",
      "  File \"/home/bitai/anaconda3/lib/python3.7/multiprocessing/pool.py\", line 110, in worker\n",
      "    task = get()\n",
      "  File \"/home/bitai/anaconda3/lib/python3.7/multiprocessing/pool.py\", line 110, in worker\n",
      "    task = get()\n",
      "  File \"/home/bitai/anaconda3/lib/python3.7/multiprocessing/queues.py\", line 351, in get\n",
      "    with self._rlock:\n",
      "  File \"/home/bitai/anaconda3/lib/python3.7/multiprocessing/pool.py\", line 110, in worker\n",
      "    task = get()\n",
      "  File \"/home/bitai/anaconda3/lib/python3.7/multiprocessing/pool.py\", line 110, in worker\n",
      "    task = get()\n",
      "  File \"/home/bitai/anaconda3/lib/python3.7/multiprocessing/process.py\", line 99, in run\n",
      "    self._target(*self._args, **self._kwargs)\n",
      "  File \"/home/bitai/anaconda3/lib/python3.7/multiprocessing/process.py\", line 99, in run\n",
      "    self._target(*self._args, **self._kwargs)\n",
      "  File \"/home/bitai/anaconda3/lib/python3.7/multiprocessing/queues.py\", line 351, in get\n",
      "    with self._rlock:\n",
      "  File \"/home/bitai/anaconda3/lib/python3.7/multiprocessing/synchronize.py\", line 95, in __enter__\n",
      "    return self._semlock.__enter__()\n",
      "  File \"/home/bitai/anaconda3/lib/python3.7/multiprocessing/process.py\", line 99, in run\n",
      "    self._target(*self._args, **self._kwargs)\n",
      "KeyboardInterrupt\n",
      "  File \"/home/bitai/anaconda3/lib/python3.7/multiprocessing/pool.py\", line 110, in worker\n",
      "    task = get()\n",
      "  File \"/home/bitai/anaconda3/lib/python3.7/multiprocessing/queues.py\", line 351, in get\n",
      "    with self._rlock:\n",
      "  File \"/home/bitai/anaconda3/lib/python3.7/multiprocessing/pool.py\", line 110, in worker\n",
      "    task = get()\n",
      "  File \"/home/bitai/anaconda3/lib/python3.7/multiprocessing/synchronize.py\", line 95, in __enter__\n",
      "    return self._semlock.__enter__()\n",
      "  File \"/home/bitai/anaconda3/lib/python3.7/multiprocessing/queues.py\", line 351, in get\n",
      "    with self._rlock:\n",
      "  File \"/home/bitai/anaconda3/lib/python3.7/multiprocessing/pool.py\", line 110, in worker\n",
      "    task = get()\n",
      "  File \"/home/bitai/anaconda3/lib/python3.7/multiprocessing/queues.py\", line 351, in get\n",
      "    with self._rlock:\n",
      "  File \"/home/bitai/anaconda3/lib/python3.7/multiprocessing/queues.py\", line 351, in get\n",
      "    with self._rlock:\n",
      "  File \"/home/bitai/anaconda3/lib/python3.7/multiprocessing/queues.py\", line 351, in get\n",
      "    with self._rlock:\n",
      "  File \"/home/bitai/anaconda3/lib/python3.7/multiprocessing/synchronize.py\", line 95, in __enter__\n",
      "    return self._semlock.__enter__()\n",
      "  File \"/home/bitai/anaconda3/lib/python3.7/multiprocessing/synchronize.py\", line 95, in __enter__\n",
      "    return self._semlock.__enter__()\n",
      "KeyboardInterrupt\n",
      "  File \"/home/bitai/anaconda3/lib/python3.7/multiprocessing/synchronize.py\", line 95, in __enter__\n",
      "    return self._semlock.__enter__()\n",
      "  File \"/home/bitai/anaconda3/lib/python3.7/multiprocessing/queues.py\", line 352, in get\n",
      "    res = self._reader.recv_bytes()\n",
      "  File \"/home/bitai/anaconda3/lib/python3.7/multiprocessing/synchronize.py\", line 95, in __enter__\n",
      "    return self._semlock.__enter__()\n",
      "KeyboardInterrupt\n",
      "  File \"/home/bitai/anaconda3/lib/python3.7/multiprocessing/synchronize.py\", line 95, in __enter__\n",
      "    return self._semlock.__enter__()\n",
      "KeyboardInterrupt\n",
      "KeyboardInterrupt\n",
      "KeyboardInterrupt\n",
      "  File \"/home/bitai/anaconda3/lib/python3.7/multiprocessing/connection.py\", line 216, in recv_bytes\n",
      "    buf = self._recv_bytes(maxlength)\n",
      "KeyboardInterrupt\n",
      "  File \"/home/bitai/anaconda3/lib/python3.7/multiprocessing/connection.py\", line 407, in _recv_bytes\n",
      "    buf = self._recv(4)\n",
      "  File \"/home/bitai/anaconda3/lib/python3.7/multiprocessing/connection.py\", line 379, in _recv\n",
      "    chunk = read(handle, remaining)\n",
      "KeyboardInterrupt\n"
     ]
    }
   ],
   "source": [
    "# 스레드를 사용하면 위에 코드보다 더 나은 결과 얻을 수 있음.\n",
    "# 멀티 태스킹을 사용하면 프로세스들이 작업을 나눠서 결과를 도출할 수 있음 (작업 분산 가능)\n",
    "# 네트워크까지 묶으면 분산 컴퓨팅도 가능한 것!!!\n",
    "\n",
    "import os\n",
    "import multiprocessing\n",
    "\n",
    "def square(n):\n",
    "    print(\"Worker Process is for {0}: {1}\".format(n, os.getpid()))\n",
    "    return n * n\n",
    "\n",
    "p = multiprocessing.Pool()\n",
    "res = p.map(square, myList)\n",
    "\n",
    "print(res)\n"
   ]
  },
  {
   "cell_type": "code",
   "execution_count": 1,
   "metadata": {},
   "outputs": [
    {
     "name": "stderr",
     "output_type": "stream",
     "text": [
      "(thread_0 ) Waiting to join the pool\n",
      "(thread_1 ) Waiting to join the pool\n",
      "(thread_2 ) Waiting to join the pool\n",
      "(thread_3 ) Waiting to join the pool\n",
      "(thread_4 ) Waiting to join the pool\n",
      "(thread_5 ) Waiting to join the pool\n",
      "(thread_6 ) Waiting to join the pool\n",
      "(thread_7 ) Waiting to join the pool\n"
     ]
    },
    {
     "name": "stdout",
     "output_type": "stream",
     "text": [
      "makeActivemakeActive\n",
      "makeActive append\n",
      "\n",
      "makeActive\n"
     ]
    },
    {
     "name": "stderr",
     "output_type": "stream",
     "text": [
      "(thread_8 ) Waiting to join the pool\n",
      "(thread_9 ) Waiting to join the pool\n",
      "(thread_1 ) Running: ['thread_1']\n"
     ]
    },
    {
     "name": "stdout",
     "output_type": "stream",
     "text": [
      "makeActive append\n",
      "makeInactive\n"
     ]
    },
    {
     "name": "stderr",
     "output_type": "stream",
     "text": [
      "(thread_0 ) Running: ['thread_1', 'thread_0']\n"
     ]
    },
    {
     "name": "stdout",
     "output_type": "stream",
     "text": [
      "makeActive append\n",
      "makeInactive\n"
     ]
    },
    {
     "name": "stderr",
     "output_type": "stream",
     "text": [
      "(thread_2 ) Running: ['thread_1', 'thread_0', 'thread_2']\n",
      "(thread_1 ) Running: ['thread_0', 'thread_2']\n",
      "(thread_0 ) Running: ['thread_2']\n"
     ]
    },
    {
     "name": "stdout",
     "output_type": "stream",
     "text": [
      "makeInactive remove\n",
      "makeInactive remove\n",
      "makeActive\n",
      "makeActive append\n",
      "makeActive\n",
      "makeInactive\n"
     ]
    },
    {
     "name": "stderr",
     "output_type": "stream",
     "text": [
      "(thread_3 ) Running: ['thread_2', 'thread_3']\n"
     ]
    },
    {
     "name": "stdout",
     "output_type": "stream",
     "text": [
      "makeActive append\n",
      "makeInactive\n"
     ]
    },
    {
     "name": "stderr",
     "output_type": "stream",
     "text": [
      "(thread_4 ) Running: ['thread_2', 'thread_3', 'thread_4']\n",
      "(thread_2 ) Running: ['thread_3', 'thread_4']\n",
      "(thread_3 ) Running: ['thread_4']\n"
     ]
    },
    {
     "name": "stdout",
     "output_type": "stream",
     "text": [
      "makeInactive remove\n",
      "makeInactive removemakeActive\n",
      "\n",
      "makeActive appendmakeActive\n",
      "\n",
      "makeInactive\n"
     ]
    },
    {
     "name": "stderr",
     "output_type": "stream",
     "text": [
      "(thread_5 ) Running: ['thread_4', 'thread_5']\n"
     ]
    },
    {
     "name": "stdout",
     "output_type": "stream",
     "text": [
      "makeActive append\n",
      "makeInactive\n"
     ]
    },
    {
     "name": "stderr",
     "output_type": "stream",
     "text": [
      "(thread_6 ) Running: ['thread_4', 'thread_5', 'thread_6']\n",
      "(thread_4 ) Running: ['thread_5', 'thread_6']\n",
      "(thread_5 ) Running: ['thread_6']\n"
     ]
    },
    {
     "name": "stdout",
     "output_type": "stream",
     "text": [
      "makeInactive remove\n",
      "makeActive\n",
      "makeInactive remove\n",
      "makeActive append\n",
      "makeActive\n",
      "makeInactive\n"
     ]
    },
    {
     "name": "stderr",
     "output_type": "stream",
     "text": [
      "(thread_7 ) Running: ['thread_6', 'thread_7']\n"
     ]
    },
    {
     "name": "stdout",
     "output_type": "stream",
     "text": [
      "makeActive append\n",
      "makeInactive\n"
     ]
    },
    {
     "name": "stderr",
     "output_type": "stream",
     "text": [
      "(thread_8 ) Running: ['thread_6', 'thread_7', 'thread_8']\n",
      "(thread_6 ) Running: ['thread_7', 'thread_8']\n",
      "(thread_7 ) Running: ['thread_8']\n"
     ]
    },
    {
     "name": "stdout",
     "output_type": "stream",
     "text": [
      "makeInactive remove\n",
      "makeInactive remove\n",
      "makeActive\n",
      "makeActive append\n",
      "makeInactive\n"
     ]
    },
    {
     "name": "stderr",
     "output_type": "stream",
     "text": [
      "(thread_9 ) Running: ['thread_8', 'thread_9']\n",
      "(thread_8 ) Running: ['thread_9']\n"
     ]
    },
    {
     "name": "stdout",
     "output_type": "stream",
     "text": [
      "makeInactive remove\n"
     ]
    },
    {
     "name": "stderr",
     "output_type": "stream",
     "text": [
      "(thread_9 ) Running: []\n"
     ]
    },
    {
     "name": "stdout",
     "output_type": "stream",
     "text": [
      "makeInactive\n",
      "makeInactive remove\n"
     ]
    }
   ],
   "source": [
    "# 세마포어 만들어보기\n",
    "\n",
    "import threading\n",
    "import time\n",
    "import logging\n",
    "\n",
    "logging.basicConfig(level=logging.DEBUG,\n",
    "                    format='(%(threadName)-9s) %(message)s',)\n",
    "\n",
    "# 동작할 수 있는 스레드 여러 개 만들고\n",
    "# 동시다발적으로 그 스레드들이 작업할 수 있게 해보자!\n",
    "# 특정한 개수를 채우면 lock으로 진입하지 못하게 해보면 \n",
    "# 세마포어는 정해진 개수만큼만 lock으로 들어갈 수 있는데 \n",
    "# 그 이상은 수용하지 않음을 확인해볼 수 있음\n",
    "class ThreadPool(object):\n",
    "    def __init__(self):\n",
    "        super(ThreadPool, self).__init__()\n",
    "        self.active = []\n",
    "        self.lock = threading.Lock()\n",
    "        \n",
    "    def makeActive(self, name):\n",
    "        print('makeActive')\n",
    "        # with가 걸려있으면 해당 스코프가 끝나기전엔\n",
    "        # lock이 release 되지 않는다.\n",
    "        with self.lock: # 자체에 lock을 걸음 >>> 데이터를 지키기 위해\n",
    "            print('makesumin00331Active append')\n",
    "            \n",
    "            # 세마포어는 lock을 여러 개 가질 수 있음 \n",
    "            # 실제 연산할 내용은 여기에 작성한다.\n",
    "            self.active.append(name)\n",
    "\n",
    "            time.sleep(5)\n",
    "            logging.debug('Running: %s', self.active)\n",
    "    def makeInactive(self, name):\n",
    "        print('makeInactive')\n",
    "        with self.lock:\n",
    "            print('makeInactive remove')\n",
    "            self.active.remove(name)\n",
    "            logging.debug('Running: %s', self.active)\n",
    "\n",
    "            \n",
    "# f라는 함수는 로깅을 하면서 이름을 뿌려주고 1초간 대기하는 형식!\n",
    "def f(s, pool):\n",
    "    logging.debug('Waiting to join the pool')\n",
    "    # 세마포어 베이스의 작업을 하겠다는 의미\n",
    "    with s:\n",
    "        name = threading.currentThread().getName() # 현재 스레드의 이름을 얻어옴\n",
    "        pool.makeActive(name)\n",
    "        time.sleep(1)\n",
    "        pool.makeInactive(name)\n",
    "\n",
    "# 여러개의 스레드를 수용할 수 있는 Pool을 만든다.\n",
    "# 객체 생성\n",
    "pool = ThreadPool()\n",
    "\n",
    "# 최대 3개까지 사용할 수 있는 세마포어를 만든다.\n",
    "s = threading.Semaphore(3)\n",
    "\n",
    "# 총 10개의 스레드를 만들어서 구동시킨다.\n",
    "# f로 작업을 하고 s와 pool에 전달\n",
    "for i in range(10):\n",
    "    t = threading.Thread(\n",
    "        target=f, name='thread_'+ str(i), args=(s, pool)\n",
    "    )\n",
    "    t.start()"
   ]
  },
  {
   "cell_type": "code",
   "execution_count": 8,
   "metadata": {},
   "outputs": [
    {
     "name": "stdout",
     "output_type": "stream",
     "text": [
      "[[166.   58.7]\n",
      " [176.   75.7]\n",
      " [171.   62.1]\n",
      " [173.   70.4]\n",
      " [169.   60.1]]\n",
      "(5, 2)\n"
     ]
    }
   ],
   "source": [
    "# Numpy 배우기\n",
    "\n",
    "# conda install matplotlib\n",
    "# conda install pandas\n",
    "# conda install numpy\n",
    "\n",
    "import numpy as np\n",
    "import pandas as pd\n",
    "import matplotlib.pyplot as plt\n",
    "\n",
    "sampleData1 = np.array(\n",
    "    [\n",
    "        [166, 58.7], [176.0, 75.7], [171.0, 62.1], [173.0, 70.4], [169.0, 60.1]\n",
    "    ]\n",
    ")\n",
    "\n",
    "# 행렬 생성\n",
    "print(sampleData1) \n",
    "\n",
    "# 행렬 변수의 shape을 출력하면 행렬의 차원을 얻을 수 있다.\n",
    "print(sampleData1.shape) # (5,2) => 5행 2열"
   ]
  },
  {
   "cell_type": "code",
   "execution_count": 9,
   "metadata": {},
   "outputs": [
    {
     "data": {
      "image/png": "[encoded data removed]",
      "text/plain": [
       "<Figure size 432x288 with 1 Axes>"
      ]
     },
     "metadata": {
      "needs_background": "light"
     },
     "output_type": "display_data"
    }
   ],
   "source": [
    "# 그래프 그려보기\n",
    "# 산점도 출력\n",
    "for point in sampleData1:\n",
    "    plt.scatter(point[0], point[1], c = 'k', s = 50)\n",
    "    \n",
    "plt.grid()\n",
    "plt.xlabel('$x$')\n",
    "plt.ylabel('$y$')\n",
    "plt.show()"
   ]
  },
  {
   "cell_type": "code",
   "execution_count": 10,
   "metadata": {},
   "outputs": [
    {
     "name": "stdout",
     "output_type": "stream",
     "text": [
      "[0 1 2 3 4 5 6 7 8 9]\n",
      "[ 5  6  7  8  9 10 11 12 13 14]\n",
      "[ 1  3  5  7  9 11 13 15 17 19 21 23 25 27 29 31 33 35 37 39 41 43 45 47\n",
      " 49 51 53 55 57 59 61 63 65 67 69 71 73 75 77 79 81 83 85 87 89 91 93 95\n",
      " 97 99]\n"
     ]
    }
   ],
   "source": [
    "# np.arange를 하면 리스트? 배열을 쉽게 만들 수 있음.\n",
    "\n",
    "# 0 ~ 9\n",
    "value = np.arange(10)\n",
    "# 5 ~ 14\n",
    "value2 = np.arange(5, 15)\n",
    "# 1 ~ 99까지인데 중간의 차이가 2씩\n",
    "value3 = np.arange(1, 100, 2)\n",
    "\n",
    "print(value)\n",
    "print(value2)\n",
    "print(value3)"
   ]
  },
  {
   "cell_type": "code",
   "execution_count": null,
   "metadata": {},
   "outputs": [],
   "source": [
    "# 정적분 문제 스레드에 적용해보기\n",
    "# 문제 풀어보기\n",
    "\n",
    "# 3일차에서 풀었던 정적분 문제를 멀티 프로세스 및 스레드 기반으로 가속시켜보자!\n",
    "# 정밀도는 올라가고 동작 속도도 빨라지게 만든다.\n",
    "\n",
    "# 이전에 했던 정적분 코드(third)를 정밀도를 유지하거나 좋아지면서 속도 엄청 빠르게 결과 낼 수 있음.\n",
    "# 작업 분산 시키면 정밀도는 더 높게 잡고 속도도 더 빨라짐\n",
    "# 연산량이 많은 것을 빠르고 쉽게 만들 수 있음\n"
   ]
  },
  {
   "cell_type": "code",
   "execution_count": 20,
   "metadata": {},
   "outputs": [
    {
     "name": "stdout",
     "output_type": "stream",
     "text": [
      "300000000.0\n",
      "0 ~ 3까지 적분 결과는 = 8.999999917440913\n",
      "t1 = 49.0\n"
     ]
    }
   ],
   "source": [
    "##### 기존 방식 #####\n",
    "\n",
    "import os\n",
    "import time\n",
    "import numpy as np\n",
    "import multiprocessing\n",
    "\n",
    "dx = 0.00000001\n",
    "start = 0.0\n",
    "end = 3.0\n",
    "\n",
    "t = time.mktime(time.localtime()) # 현재 시간 구하기\n",
    "\n",
    "loopLen = (end - start) / dx\n",
    "print(loopLen)\n",
    "\n",
    "x = 0\n",
    "y = 0\n",
    "area = 0\n",
    "\n",
    "for i in range(int(loopLen)):\n",
    "    y = x ** 2\n",
    "    x += dx\n",
    "    area += dx * y\n",
    "    \n",
    "print(\"0 ~ 3까지 적분 결과는 = \" + str(area))\n",
    "\n",
    "# 소요시간 구하기 - 49초 나왔음\n",
    "t1 = time.mktime(time.localtime()) - t\n",
    "print(\"t1 =\", t1) "
   ]
  },
  {
   "cell_type": "code",
   "execution_count": 22,
   "metadata": {},
   "outputs": [
    {
     "name": "stdout",
     "output_type": "stream",
     "text": [
      "y = x^2에 대한 0 ~ 3까지의 정적분 결과는 =  8.999999954999995\n",
      "t1 = 2.0\n"
     ]
    }
   ],
   "source": [
    "##### 스레드, (멀티)프로세스 없이 np를 이용해 정적분 풀이 #####\n",
    "\n",
    "import time\n",
    "import numpy as np\n",
    "\n",
    "t = time.mktime(time.localtime())\n",
    "\n",
    "dx = 0.00000001\n",
    "\n",
    "# y = x^2\n",
    "def integralRange2(start, end):\n",
    "    curX = np.arange(start, end, dx)\n",
    "    Y = curX ** 2\n",
    "    eachBlock = dx * Y\n",
    "    area = np.sum(eachBlock)\n",
    "    return area\n",
    "    \n",
    "print(\"y = x^2에 대한 0 ~ 3까지의 정적분 결과는 = \", integralRange2(0,3))\n",
    " \n",
    "# 소요시간 구하기 - 2초 나옴\n",
    "t1 = time.mktime(time.localtime()) - t\n",
    "print(\"t1 =\", t1) \n",
    "\n"
   ]
  },
  {
   "cell_type": "code",
   "execution_count": 23,
   "metadata": {},
   "outputs": [
    {
     "name": "stdout",
     "output_type": "stream",
     "text": [
      "y = x^2에 대한 0 ~ 3까지의 정적분 결과는 =  <multiprocessing.pool.ApplyResult object at 0x7f085aec56d0>\n",
      "t1 = 0.0\n"
     ]
    }
   ],
   "source": [
    "##### 멀티 프로세스 및 스레드 버전의 정적분 풀이 (병렬화) #####\n",
    "\n",
    "import os\n",
    "import time\n",
    "import numpy as np\n",
    "import multiprocessing\n",
    "import os\n",
    "import numpy as np\n",
    "import multiprocessing\n",
    "\n",
    "t = time.mktime(time.localtime())\n",
    "p = multiprocessing.Pool(processes = 12)\n",
    "dx = 0.00000001\n",
    "\n",
    "# 실질적으로 연산이 많이 일어나는 구간\n",
    "def calc(x):\n",
    "    return dx * (x ** 2)\n",
    "\n",
    "def integralRange(start, end):\n",
    "    curX = np.arange(start, end, dx)\n",
    "    # apply_async의 경우에는 비동기 처리 - 0.0초\n",
    "    res = p.apply_async(calc, curX)\n",
    "    # map의 경우엔 동기 처리 - 75초\n",
    "    # res = p.map(calc, curX)\n",
    "    area = np.sum(res)\n",
    "    return area\n",
    "\n",
    "    \n",
    "print(\"y = x^2에 대한 0 ~ 3까지의 정적분 결과는 = \", integralRange(0,3))\n",
    "\n",
    "# 소요시간 구하기\n",
    "t1 = time.mktime(time.localtime()) - t\n",
    "print(\"t1 =\", t1) "
   ]
  },
  {
   "cell_type": "code",
   "execution_count": null,
   "metadata": {},
   "outputs": [],
   "source": []
  }
 ],
 "metadata": {
  "kernelspec": {
   "display_name": "Python 3",
   "language": "python",
   "name": "python3"
  },
  "language_info": {
   "codemirror_mode": {
    "name": "ipython",
    "version": 3
   },
   "file_extension": ".py",
   "mimetype": "text/x-python",
   "name": "python",
   "nbconvert_exporter": "python",
   "pygments_lexer": "ipython3",
   "version": "3.7.6"
  }
 },
 "nbformat": 4,
 "nbformat_minor": 4
}
