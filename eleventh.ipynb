{
 "cells": [
  {
   "cell_type": "code",
   "execution_count": 1,
   "metadata": {},
   "outputs": [],
   "source": [
    "# p.132"
   ]
  },
  {
   "cell_type": "code",
   "execution_count": 4,
   "metadata": {},
   "outputs": [],
   "source": [
    "import matplotlib.pyplot as plt\n",
    "import matplotlib\n",
    "\n",
    "import numpy as np"
   ]
  },
  {
   "cell_type": "code",
   "execution_count": 5,
   "metadata": {},
   "outputs": [
    {
     "name": "stdout",
     "output_type": "stream",
     "text": [
      "Python 3.7.6\r\n"
     ]
    }
   ],
   "source": [
    "# !는 시스템 명령어 실행하는 것!\n",
    "# 터미널에서 하는 명령어를 주피터 상에서 실행할 수 있도록 해줌.\n",
    "!python --version"
   ]
  },
  {
   "cell_type": "code",
   "execution_count": 6,
   "metadata": {},
   "outputs": [],
   "source": [
    "# 데이터 셋 만들기\n",
    "# 데이터 분포를 원으로 만드는 것이 가장 좋음!\n",
    "\n",
    "import matplotlib.patches as mpatches\n",
    "from sklearn.datasets import make_blobs, make_circles"
   ]
  },
  {
   "cell_type": "code",
   "execution_count": 7,
   "metadata": {},
   "outputs": [],
   "source": [
    "def plot_data(pl, X, y):\n",
    "    pl.plot(X[y == 0, 0], X[y == 0, 1], 'ob', alpha = 0.5)\n",
    "    pl.plot(X[y == 1, 0], X[y == 1, 1], 'xr', alpha = 0.5)\n",
    "    pl.legend(['0', '1'])\n",
    "    return pl"
   ]
  },
  {
   "cell_type": "code",
   "execution_count": 8,
   "metadata": {
    "scrolled": true
   },
   "outputs": [
    {
     "data": {
      "image/png": "[encoded data removed]",
      "text/plain": [
       "<Figure size 432x288 with 1 Axes>"
      ]
     },
     "metadata": {
      "needs_background": "light"
     },
     "output_type": "display_data"
    }
   ],
   "source": [
    "#  해석 다시 보긷\n",
    "X, y = make_circles(\n",
    "    n_samples = 400, \n",
    "    factor =0.6,\n",
    "    noise = 0.1,\n",
    "    random_state = 42\n",
    ")\n",
    "\n",
    "pl = plot_data(plt, X, y)\n",
    "pl.show()"
   ]
  },
  {
   "cell_type": "code",
   "execution_count": 9,
   "metadata": {},
   "outputs": [
    {
     "name": "stdout",
     "output_type": "stream",
     "text": [
      "X size = (400, 2)\n",
      "y size = (400,)\n",
      "Num of Samples = 400\n"
     ]
    }
   ],
   "source": [
    "# 랜덤값을 설정하기 위해서 seed 설정\n",
    "seed = 1\n",
    "\n",
    "print(\"X size =\", X.shape) \n",
    "\n",
    "print(\"y size =\", y.shape)\n",
    "print(\"Num of Samples =\", X.shape[0])\n",
    "\n",
    "# 왜 X size가 400, 2일까?\n",
    "# 400 : Sample의 개수\n",
    "#   2 : 2차원의 정보 (원에 대한 정보니까 X, y 좌표가 필요하기 때문!)"
   ]
  },
  {
   "cell_type": "code",
   "execution_count": 10,
   "metadata": {},
   "outputs": [],
   "source": [
    "# 다시\n",
    "# 원 추정할 수 있도록 \n",
    "from keras.layers import Dense, Activation\n",
    "from keras.models import Sequential\n",
    "\n",
    "np.random.seed(seed)\n",
    "model = Sequential()"
   ]
  },
  {
   "cell_type": "code",
   "execution_count": 11,
   "metadata": {},
   "outputs": [],
   "source": [
    "model.add(Dense(1, activation = 'sigmoid', input_dim = 2))\n",
    "model.compile(optimizer = 'sgd', loss = 'binary_crossentropy')"
   ]
  },
  {
   "cell_type": "code",
   "execution_count": 13,
   "metadata": {},
   "outputs": [
    {
     "name": "stdout",
     "output_type": "stream",
     "text": [
      "Epoch 1/100\n",
      "80/80 [==============================] - 0s 737us/step - loss: 0.7640\n",
      "Epoch 2/100\n",
      "80/80 [==============================] - 0s 499us/step - loss: 0.7558\n",
      "Epoch 3/100\n",
      "80/80 [==============================] - 0s 567us/step - loss: 0.7485\n",
      "Epoch 4/100\n",
      "80/80 [==============================] - 0s 1ms/step - loss: 0.7421\n",
      "Epoch 5/100\n",
      "80/80 [==============================] - 0s 1ms/step - loss: 0.7362\n",
      "Epoch 6/100\n",
      "80/80 [==============================] - 0s 1ms/step - loss: 0.7311\n",
      "Epoch 7/100\n",
      "80/80 [==============================] - 0s 1ms/step - loss: 0.7265\n",
      "Epoch 8/100\n",
      "80/80 [==============================] - 0s 1ms/step - loss: 0.7224\n",
      "Epoch 9/100\n",
      "80/80 [==============================] - 0s 1ms/step - loss: 0.7188\n",
      "Epoch 10/100\n",
      "80/80 [==============================] - 0s 1ms/step - loss: 0.7157\n",
      "Epoch 11/100\n",
      "80/80 [==============================] - 0s 1ms/step - loss: 0.7131\n",
      "Epoch 12/100\n",
      "80/80 [==============================] - 0s 1ms/step - loss: 0.7105\n",
      "Epoch 13/100\n",
      "80/80 [==============================] - 0s 1ms/step - loss: 0.7084\n",
      "Epoch 14/100\n",
      "80/80 [==============================] - 0s 1ms/step - loss: 0.7065\n",
      "Epoch 15/100\n",
      "80/80 [==============================] - 0s 1ms/step - loss: 0.7049\n",
      "Epoch 16/100\n",
      "80/80 [==============================] - 0s 1ms/step - loss: 0.7035\n",
      "Epoch 17/100\n",
      "80/80 [==============================] - 0s 1ms/step - loss: 0.7022\n",
      "Epoch 18/100\n",
      "80/80 [==============================] - 0s 1ms/step - loss: 0.7011\n",
      "Epoch 19/100\n",
      "80/80 [==============================] - 0s 1ms/step - loss: 0.7001\n",
      "Epoch 20/100\n",
      "80/80 [==============================] - 0s 2ms/step - loss: 0.6992\n",
      "Epoch 21/100\n",
      "80/80 [==============================] - 0s 1ms/step - loss: 0.6985\n",
      "Epoch 22/100\n",
      "80/80 [==============================] - 0s 1ms/step - loss: 0.6979\n",
      "Epoch 23/100\n",
      "80/80 [==============================] - 0s 764us/step - loss: 0.6974\n",
      "Epoch 24/100\n",
      "80/80 [==============================] - 0s 788us/step - loss: 0.6968\n",
      "Epoch 25/100\n",
      "80/80 [==============================] - 0s 779us/step - loss: 0.6964\n",
      "Epoch 26/100\n",
      "80/80 [==============================] - 0s 980us/step - loss: 0.6960\n",
      "Epoch 27/100\n",
      "80/80 [==============================] - 0s 975us/step - loss: 0.6957\n",
      "Epoch 28/100\n",
      "80/80 [==============================] - 0s 976us/step - loss: 0.6954\n",
      "Epoch 29/100\n",
      "80/80 [==============================] - 0s 979us/step - loss: 0.6951\n",
      "Epoch 30/100\n",
      "80/80 [==============================] - 0s 972us/step - loss: 0.6951\n",
      "Epoch 31/100\n",
      "80/80 [==============================] - 0s 1ms/step - loss: 0.6948\n",
      "Epoch 32/100\n",
      "80/80 [==============================] - 0s 1ms/step - loss: 0.6947\n",
      "Epoch 33/100\n",
      "80/80 [==============================] - 0s 993us/step - loss: 0.6945\n",
      "Epoch 34/100\n",
      "80/80 [==============================] - 0s 967us/step - loss: 0.6943\n",
      "Epoch 35/100\n",
      "80/80 [==============================] - 0s 1ms/step - loss: 0.6942\n",
      "Epoch 36/100\n",
      "80/80 [==============================] - 0s 742us/step - loss: 0.6941\n",
      "Epoch 37/100\n",
      "80/80 [==============================] - 0s 524us/step - loss: 0.6940\n",
      "Epoch 38/100\n",
      "80/80 [==============================] - 0s 546us/step - loss: 0.6940\n",
      "Epoch 39/100\n",
      "80/80 [==============================] - 0s 551us/step - loss: 0.6940\n",
      "Epoch 40/100\n",
      "80/80 [==============================] - 0s 536us/step - loss: 0.6939\n",
      "Epoch 41/100\n",
      "80/80 [==============================] - 0s 887us/step - loss: 0.6938\n",
      "Epoch 42/100\n",
      "80/80 [==============================] - 0s 1ms/step - loss: 0.6938\n",
      "Epoch 43/100\n",
      "80/80 [==============================] - 0s 1ms/step - loss: 0.6938\n",
      "Epoch 44/100\n",
      "80/80 [==============================] - 0s 1ms/step - loss: 0.6937\n",
      "Epoch 45/100\n",
      "80/80 [==============================] - 0s 1ms/step - loss: 0.6938\n",
      "Epoch 46/100\n",
      "80/80 [==============================] - 0s 1ms/step - loss: 0.6936\n",
      "Epoch 47/100\n",
      "80/80 [==============================] - 0s 1ms/step - loss: 0.6936\n",
      "Epoch 48/100\n",
      "80/80 [==============================] - 0s 1ms/step - loss: 0.6937\n",
      "Epoch 49/100\n",
      "80/80 [==============================] - 0s 1ms/step - loss: 0.6937\n",
      "Epoch 50/100\n",
      "80/80 [==============================] - 0s 1ms/step - loss: 0.6936\n",
      "Epoch 51/100\n",
      "80/80 [==============================] - 0s 1ms/step - loss: 0.6935\n",
      "Epoch 52/100\n",
      "80/80 [==============================] - 0s 1ms/step - loss: 0.6936\n",
      "Epoch 53/100\n",
      "80/80 [==============================] - 0s 834us/step - loss: 0.6936\n",
      "Epoch 54/100\n",
      "80/80 [==============================] - 0s 785us/step - loss: 0.6935\n",
      "Epoch 55/100\n",
      "80/80 [==============================] - 0s 772us/step - loss: 0.6935\n",
      "Epoch 56/100\n",
      "80/80 [==============================] - 0s 1ms/step - loss: 0.6936\n",
      "Epoch 57/100\n",
      "80/80 [==============================] - 0s 1ms/step - loss: 0.6936\n",
      "Epoch 58/100\n",
      "80/80 [==============================] - 0s 1ms/step - loss: 0.6936\n",
      "Epoch 59/100\n",
      "80/80 [==============================] - 0s 1ms/step - loss: 0.6935\n",
      "Epoch 60/100\n",
      "80/80 [==============================] - 0s 1ms/step - loss: 0.6935\n",
      "Epoch 61/100\n",
      "80/80 [==============================] - 0s 1ms/step - loss: 0.6935\n",
      "Epoch 62/100\n",
      "80/80 [==============================] - 0s 1ms/step - loss: 0.6935\n",
      "Epoch 63/100\n",
      "80/80 [==============================] - 0s 1ms/step - loss: 0.6935\n",
      "Epoch 64/100\n",
      "80/80 [==============================] - 0s 1ms/step - loss: 0.6935\n",
      "Epoch 65/100\n",
      "80/80 [==============================] - 0s 1ms/step - loss: 0.6935\n",
      "Epoch 66/100\n",
      "80/80 [==============================] - 0s 1ms/step - loss: 0.6936\n",
      "Epoch 67/100\n",
      "80/80 [==============================] - 0s 1ms/step - loss: 0.6936\n",
      "Epoch 68/100\n",
      "80/80 [==============================] - 0s 1ms/step - loss: 0.6936\n",
      "Epoch 69/100\n",
      "80/80 [==============================] - 0s 1ms/step - loss: 0.6935\n",
      "Epoch 70/100\n",
      "80/80 [==============================] - 0s 1ms/step - loss: 0.6936\n",
      "Epoch 71/100\n",
      "80/80 [==============================] - 0s 1ms/step - loss: 0.6935\n",
      "Epoch 72/100\n",
      "80/80 [==============================] - 0s 1ms/step - loss: 0.6935\n",
      "Epoch 73/100\n",
      "80/80 [==============================] - 0s 1ms/step - loss: 0.6935\n",
      "Epoch 74/100\n",
      "80/80 [==============================] - 0s 1ms/step - loss: 0.6935\n",
      "Epoch 75/100\n",
      "80/80 [==============================] - 0s 986us/step - loss: 0.6936\n",
      "Epoch 76/100\n",
      "80/80 [==============================] - 0s 893us/step - loss: 0.6935\n",
      "Epoch 77/100\n",
      "80/80 [==============================] - 0s 1ms/step - loss: 0.6935\n",
      "Epoch 78/100\n",
      "80/80 [==============================] - 0s 1ms/step - loss: 0.6935\n",
      "Epoch 79/100\n",
      "80/80 [==============================] - ETA: 0s - loss: 0.693 - 0s 1ms/step - loss: 0.6936\n",
      "Epoch 80/100\n",
      "80/80 [==============================] - 0s 1ms/step - loss: 0.6935\n",
      "Epoch 81/100\n",
      "80/80 [==============================] - 0s 1ms/step - loss: 0.6936\n",
      "Epoch 82/100\n",
      "80/80 [==============================] - 0s 1ms/step - loss: 0.6936\n",
      "Epoch 83/100\n",
      "80/80 [==============================] - 0s 1ms/step - loss: 0.6936\n",
      "Epoch 84/100\n",
      "80/80 [==============================] - 0s 1ms/step - loss: 0.6935\n",
      "Epoch 85/100\n",
      "80/80 [==============================] - 0s 1ms/step - loss: 0.6935\n",
      "Epoch 86/100\n",
      "80/80 [==============================] - 0s 1ms/step - loss: 0.6935\n",
      "Epoch 87/100\n",
      "80/80 [==============================] - 0s 1ms/step - loss: 0.6935\n",
      "Epoch 88/100\n",
      "80/80 [==============================] - 0s 1ms/step - loss: 0.6935\n",
      "Epoch 89/100\n",
      "80/80 [==============================] - 0s 977us/step - loss: 0.6935\n",
      "Epoch 90/100\n",
      "80/80 [==============================] - 0s 980us/step - loss: 0.6936\n",
      "Epoch 91/100\n",
      "80/80 [==============================] - 0s 984us/step - loss: 0.6935\n",
      "Epoch 92/100\n",
      "80/80 [==============================] - 0s 963us/step - loss: 0.6935\n",
      "Epoch 93/100\n",
      "80/80 [==============================] - 0s 1ms/step - loss: 0.6935\n",
      "Epoch 94/100\n",
      "80/80 [==============================] - 0s 978us/step - loss: 0.6936\n",
      "Epoch 95/100\n",
      "80/80 [==============================] - 0s 1ms/step - loss: 0.6935\n",
      "Epoch 96/100\n",
      "80/80 [==============================] - 0s 943us/step - loss: 0.6935\n",
      "Epoch 97/100\n",
      "80/80 [==============================] - 0s 809us/step - loss: 0.6935\n",
      "Epoch 98/100\n",
      "80/80 [==============================] - 0s 834us/step - loss: 0.6935\n",
      "Epoch 99/100\n",
      "80/80 [==============================] - 0s 951us/step - loss: 0.6935\n",
      "Epoch 100/100\n",
      "80/80 [==============================] - 0s 953us/step - loss: 0.6936\n"
     ]
    },
    {
     "data": {
      "text/plain": [
       "<tensorflow.python.keras.callbacks.History at 0x7f8dd01bb7d0>"
      ]
     },
     "execution_count": 13,
     "metadata": {},
     "output_type": "execute_result"
    }
   ],
   "source": [
    "model.fit(X,y, batch_size = 5, epochs = 100, verbose = 1)\n",
    "# 정확성이 30%정도밖에 안됨"
   ]
  },
  {
   "cell_type": "code",
   "execution_count": 15,
   "metadata": {},
   "outputs": [],
   "source": [
    "matplotlib.rcParams['figure.figsize'] = (6.0, 4.0)"
   ]
  },
  {
   "cell_type": "code",
   "execution_count": 16,
   "metadata": {},
   "outputs": [],
   "source": [
    "# 다시~\n",
    "def plot_decision_bound(model, X, y):\n",
    "    # X shape --> (400, 2)\n",
    "    # a = x, b = y\n",
    "    # 최소값, 최대값을 받아와서 범위를 만드는 것.\n",
    "    amin, bmin = X.min(axis = 0) - 0.1\n",
    "    amax, bmax = X.max(axis = 0) + 0.1\n",
    "    print(\"amin - \", amin)\n",
    "    print(\"bmin - \", bmin)\n",
    "    print(\"amax - \", amax)\n",
    "    print(\"bmax - \", bmax)\n",
    "    \n",
    "    hticks = np.linspace(amin, amax, 101)\n",
    "    vticks = np.linspace(bmin, bmax, 101)\n",
    "    \n",
    "    aa, bb = np.meshgrid(hticks, vticks)\n",
    "    ab = np.c_[aa.ravel(), bb.ravel()]\n",
    "    \n",
    "    c = model.predict(ab)\n",
    "    z = c.reshape(aa.shape)\n",
    "    \n",
    "    plt.contourf(aa, bb, z, cmap = 'bwr', alpha = 0.2)\n",
    "    plot_data(plt, X, y)\n",
    "    return plt"
   ]
  },
  {
   "cell_type": "code",
   "execution_count": 17,
   "metadata": {},
   "outputs": [
    {
     "name": "stdout",
     "output_type": "stream",
     "text": [
      "amin -  -1.2816529526885447\n",
      "bmin -  -1.222835878671317\n",
      "amax -  1.405132554307814\n",
      "bmax -  1.2746496919432166\n"
     ]
    },
    {
     "data": {
      "text/plain": [
       "Text(0.5, 1.0, 'Logistic Regression')"
      ]
     },
     "execution_count": 17,
     "metadata": {},
     "output_type": "execute_result"
    },
    {
     "data": {
      "image/png": "[encoded data removed]",
      "text/plain": [
       "<Figure size 432x288 with 1 Axes>"
      ]
     },
     "metadata": {
      "needs_background": "light"
     },
     "output_type": "display_data"
    }
   ],
   "source": [
    "plot_decision_bound(model, X, y)\n",
    "plt.title(\"Logistic Regression\")"
   ]
  },
  {
   "cell_type": "code",
   "execution_count": null,
   "metadata": {},
   "outputs": [],
   "source": []
  }
 ],
 "metadata": {
  "kernelspec": {
   "display_name": "Python 3",
   "language": "python",
   "name": "python3"
  },
  "language_info": {
   "codemirror_mode": {
    "name": "ipython",
    "version": 3
   },
   "file_extension": ".py",
   "mimetype": "text/x-python",
   "name": "python",
   "nbconvert_exporter": "python",
   "pygments_lexer": "ipython3",
   "version": "3.7.6"
  }
 },
 "nbformat": 4,
 "nbformat_minor": 4
}
