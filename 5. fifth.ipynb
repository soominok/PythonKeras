{
 "cells": [
  {
   "cell_type": "code",
   "execution_count": 1,
   "metadata": {},
   "outputs": [],
   "source": [
    "# Ubuntu Image 다운로드 받기\n",
    "\n",
    "# 1. Ubuntu 검색\n",
    "# 2. 사이트에 들어가서 Download를 누른다.\n",
    "# 3. Download를 눌러서 Ubuntu Desktop을 누른다.\n",
    "# 4. 우측 상단에 Alternative Download를 누른다.\n",
    "# 5. ubuntu 18.04 LTS를 클릭해서 *.iso를 다운받도록 한다."
   ]
  },
  {
   "cell_type": "code",
   "execution_count": 2,
   "metadata": {},
   "outputs": [],
   "source": [
    "# USB에 Ubuntu 시동 디스크 만들기\n",
    "\n",
    "# 1. Rufus나 Universal이나 둘 중 하나를 다운로드 받는다.\n",
    "# https://rufus.ie/\n",
    "# https://www.techspot.com/downloads/6153-universal-usb-installer.html\n",
    "\n",
    "# 2. 다운받은 녀석을 실행하고 라이센스 동의한다.\n",
    "# 3. 그러면 이미지 파일을 선택하고 USB 디스크를 선택하는 부분이 나온다.\n",
    "# 4. Step 1: Ubuntu 선택\n",
    "# 5. Step 2: 다운 받은 Ubuntu 이미지를 찾아서 선택한다.\n",
    "# 6. Step 3: USB 디스크를 선택해주고 부트 디스크를 만들면 완료!\n",
    "#    (주의할 점은 포맷이 진행되므로 주요 파일은 백업을 받아야 한다)\n",
    "#    이때 파일 포맷은 반드시 FAT32 형태로 만들어주도록 한다.\n",
    "#    부트 디스크 생성후 파일 포맷이 올바르게 만들어졌는지 확인 필요!"
   ]
  },
  {
   "cell_type": "code",
   "execution_count": 3,
   "metadata": {},
   "outputs": [],
   "source": [
    "# 멀티 부팅 준비\n",
    "\n",
    "# 1. 우선 C 드라이브와 D 드라이브로 파티션이 나뉘어져 있는지 확인한다.\n",
    "#    (만약 파티션 설정이 없다면 파티션을 먼저 나누고 다음 작업을 진행!)\n",
    "# 2. C에는 윈도우가 설치되어 있으므로\n",
    "#    D에 리눅스를 설치할 수 있도록 D 파티션 볼륨을 삭제한다.\n",
    "#    윈도우는 파일 시스템 NTFS를 사용하지만\n",
    "#    리눅스는 EXT4 파일 시스템을 사용하기 때문이다.\n",
    "#    (참고 이것은 제어판의 디스크 관리에서 진행해야 한다.)\n",
    "# 3. USB를 꽂고 BIOS로 진입한다.\n",
    "#    (컴퓨터 마다 BIOS 진입키 다르다.\n",
    "#     Lenovo - 앤터키, F8, F2, F12, ESC, Delete키 등등이 있다.)\n",
    "# 4. BIOS에 들어가서 부팅 순서를 조정해야한다.\n",
    "#    USB를 가장 우선순위에 두고 재시작을 한다.\n",
    "# 5. 이후부터는 키보드 설정 USA, UTC 설정 Seoul, 언어 설정 USA,\n",
    "#    Third Party Library Installation 전부 체크,\n",
    "#    사용자 계정 설정 - id: , pw: \n",
    "# 6. 설치되기를 기다리면 되고 모두 설치가 완료되면 재부팅을 해줘야 한다.\n",
    "# 7. 재부팅이 완료되면 우분투 사용자 프롬프트가 나온다."
   ]
  },
  {
   "cell_type": "code",
   "execution_count": null,
   "metadata": {},
   "outputs": [],
   "source": []
  }
 ],
 "metadata": {
  "kernelspec": {
   "display_name": "Python 3",
   "language": "python",
   "name": "python3"
  },
  "language_info": {
   "codemirror_mode": {
    "name": "ipython",
    "version": 3
   },
   "file_extension": ".py",
   "mimetype": "text/x-python",
   "name": "python",
   "nbconvert_exporter": "python",
   "pygments_lexer": "ipython3",
   "version": "3.7.6"
  }
 },
 "nbformat": 4,
 "nbformat_minor": 4
}
